{
 "cells": [
  {
   "cell_type": "code",
   "execution_count": 5,
   "metadata": {},
   "outputs": [],
   "source": [
    "items = collection.find({\"title\" : \"Rocky\"}) "
   ]
  },
  {
   "cell_type": "code",
   "execution_count": 6,
   "metadata": {},
   "outputs": [
    {
     "name": "stdout",
     "output_type": "stream",
     "text": [
      "{'_id': ObjectId('5ffc331f2983b04097347972'), 'title': 'Rocky', 'year': 1976.0}\n",
      "{'_id': 'tt0075148', 'title': 'Rocky', 'year': 1976.0}\n",
      "{'_id': ObjectId('5ffc34102983b04097347973'), 'title': 'Rocky', 'year': 1976.0}\n"
     ]
    }
   ],
   "source": [
    "for item in items:\n",
    "    print (item) "
   ]
  },
  {
   "cell_type": "code",
   "execution_count": 7,
   "metadata": {},
   "outputs": [],
   "source": [
    "client.drop_database('metflix')"
   ]
  },
  {
   "cell_type": "code",
   "execution_count": 8,
   "metadata": {},
   "outputs": [],
   "source": [
    "metflix = client[\"metflix\"]"
   ]
  },
  {
   "cell_type": "code",
   "execution_count": 11,
   "metadata": {},
   "outputs": [
    {
     "data": {
      "text/plain": [
       "<pymongo.results.InsertOneResult at 0x22d0e3d1f40>"
      ]
     },
     "execution_count": 11,
     "metadata": {},
     "output_type": "execute_result"
    }
   ],
   "source": [
    "rocky = { \"title\": \"Rocky\", \"year\": 1976}\n",
    "movies.insert_one(rocky) "
   ]
  },
  {
   "cell_type": "code",
   "execution_count": 51,
   "metadata": {},
   "outputs": [
    {
     "name": "stdout",
     "output_type": "stream",
     "text": [
      "connexion success\n"
     ]
    }
   ],
   "source": [
    "# Connexion à la DB \n",
    "from pymongo import MongoClient\n",
    "client = MongoClient('mongodb://localhost:27017/')\n",
    "db = client.metflix\n",
    "movies_artists = db.movies\n",
    "print('connexion success') "
   ]
  },
  {
   "cell_type": "code",
   "execution_count": 13,
   "metadata": {},
   "outputs": [
    {
     "data": {
      "text/plain": [
       "{'_id': ObjectId('5ffc610090aa5a17f6f0a186'), 'title': 'Rocky', 'year': 1976}"
      ]
     },
     "execution_count": 13,
     "metadata": {},
     "output_type": "execute_result"
    }
   ],
   "source": [
    "movies.find_one({\"title\" : \"Rocky\"}) "
   ]
  },
  {
   "cell_type": "code",
   "execution_count": 4,
   "metadata": {},
   "outputs": [
    {
     "data": {
      "text/plain": [
       "{'_id': ObjectId('5ffc331f2983b04097347972'), 'title': 'Rocky', 'year': 1976.0}"
      ]
     },
     "execution_count": 4,
     "metadata": {},
     "output_type": "execute_result"
    }
   ],
   "source": [
    "collection.find_one({\"title\" : \"Rocky\"})"
   ]
  },
  {
   "cell_type": "code",
   "execution_count": 16,
   "metadata": {},
   "outputs": [
    {
     "data": {
      "text/plain": [
       "Collection(Database(MongoClient(host=['localhost:27017'], document_class=dict, tz_aware=False, connect=True), 'metflix'), 'movies.size')"
      ]
     },
     "execution_count": 16,
     "metadata": {},
     "output_type": "execute_result"
    }
   ],
   "source": [
    "movies.size"
   ]
  },
  {
   "cell_type": "code",
   "execution_count": 25,
   "metadata": {},
   "outputs": [
    {
     "data": {
      "text/plain": [
       "2"
      ]
     },
     "execution_count": 25,
     "metadata": {},
     "output_type": "execute_result"
    }
   ],
   "source": [
    "movies.estimated_document_count()"
   ]
  },
  {
   "cell_type": "code",
   "execution_count": 29,
   "metadata": {},
   "outputs": [
    {
     "data": {
      "text/plain": [
       "<pymongo.cursor.Cursor at 0x22d0d298c40>"
      ]
     },
     "execution_count": 29,
     "metadata": {},
     "output_type": "execute_result"
    }
   ],
   "source": [
    "collection.db.find()"
   ]
  },
  {
   "cell_type": "code",
   "execution_count": 24,
   "metadata": {},
   "outputs": [
    {
     "data": {
      "text/plain": [
       "<pymongo.results.InsertOneResult at 0x22d0e3d6500>"
      ]
     },
     "execution_count": 24,
     "metadata": {},
     "output_type": "execute_result"
    }
   ],
   "source": [
    "# Si je réinsère le même document\n",
    "rocky = { \"title\": \"Rocky\", \"year\": 1976, \"_id\" : \"tt0075148\" }\n",
    "movies.insert_one(rocky)"
   ]
  },
  {
   "cell_type": "code",
   "execution_count": 32,
   "metadata": {},
   "outputs": [
    {
     "data": {
      "text/plain": [
       "['admin', 'config', 'local', 'metflix']"
      ]
     },
     "execution_count": 32,
     "metadata": {},
     "output_type": "execute_result"
    }
   ],
   "source": [
    "client.list_database_names()"
   ]
  },
  {
   "cell_type": "code",
   "execution_count": 34,
   "metadata": {},
   "outputs": [
    {
     "data": {
      "text/plain": [
       "['movies']"
      ]
     },
     "execution_count": 34,
     "metadata": {},
     "output_type": "execute_result"
    }
   ],
   "source": [
    "db.list_collection_names()"
   ]
  },
  {
   "cell_type": "code",
   "execution_count": 37,
   "metadata": {},
   "outputs": [
    {
     "data": {
      "text/plain": [
       "2"
      ]
     },
     "execution_count": 37,
     "metadata": {},
     "output_type": "execute_result"
    }
   ],
   "source": [
    "movies.count_documents({})"
   ]
  },
  {
   "cell_type": "code",
   "execution_count": 39,
   "metadata": {},
   "outputs": [
    {
     "data": {
      "text/plain": [
       "{'_id': ObjectId('5ffc610090aa5a17f6f0a186'), 'title': 'Rocky', 'year': 1976}"
      ]
     },
     "execution_count": 39,
     "metadata": {},
     "output_type": "execute_result"
    }
   ],
   "source": [
    "movies.find_one()"
   ]
  },
  {
   "cell_type": "code",
   "execution_count": 42,
   "metadata": {},
   "outputs": [
    {
     "ename": "DuplicateKeyError",
     "evalue": "E11000 duplicate key error collection: metflix.movies index: _id_ dup key: { _id: \"tt0075148\" }, full error: {'index': 0, 'code': 11000, 'keyPattern': {'_id': 1}, 'keyValue': {'_id': 'tt0075148'}, 'errmsg': 'E11000 duplicate key error collection: metflix.movies index: _id_ dup key: { _id: \"tt0075148\" }'}",
     "output_type": "error",
     "traceback": [
      "\u001b[1;31m---------------------------------------------------------------------------\u001b[0m",
      "\u001b[1;31mDuplicateKeyError\u001b[0m                         Traceback (most recent call last)",
      "\u001b[1;32m<ipython-input-42-907be57dfd3d>\u001b[0m in \u001b[0;36m<module>\u001b[1;34m\u001b[0m\n\u001b[1;32m----> 1\u001b[1;33m \u001b[0mmovies\u001b[0m\u001b[1;33m.\u001b[0m\u001b[0minsert_one\u001b[0m\u001b[1;33m(\u001b[0m\u001b[1;33m{\u001b[0m\u001b[1;34m\"title\"\u001b[0m\u001b[1;33m:\u001b[0m\u001b[1;34m\"Rocky\"\u001b[0m\u001b[1;33m,\u001b[0m \u001b[1;34m\"year\"\u001b[0m\u001b[1;33m:\u001b[0m\u001b[1;36m1976\u001b[0m\u001b[1;33m,\u001b[0m \u001b[1;34m\"_id\"\u001b[0m\u001b[1;33m:\u001b[0m\u001b[1;34m\"tt0075148\"\u001b[0m\u001b[1;33m}\u001b[0m\u001b[1;33m)\u001b[0m\u001b[1;33m\u001b[0m\u001b[1;33m\u001b[0m\u001b[0m\n\u001b[0m",
      "\u001b[1;32m~\\anaconda3\\envs\\FormatiO\\lib\\site-packages\\pymongo\\collection.py\u001b[0m in \u001b[0;36minsert_one\u001b[1;34m(self, document, bypass_document_validation, session)\u001b[0m\n\u001b[0;32m    696\u001b[0m         \u001b[0mwrite_concern\u001b[0m \u001b[1;33m=\u001b[0m \u001b[0mself\u001b[0m\u001b[1;33m.\u001b[0m\u001b[0m_write_concern_for\u001b[0m\u001b[1;33m(\u001b[0m\u001b[0msession\u001b[0m\u001b[1;33m)\u001b[0m\u001b[1;33m\u001b[0m\u001b[1;33m\u001b[0m\u001b[0m\n\u001b[0;32m    697\u001b[0m         return InsertOneResult(\n\u001b[1;32m--> 698\u001b[1;33m             self._insert(document,\n\u001b[0m\u001b[0;32m    699\u001b[0m                          \u001b[0mwrite_concern\u001b[0m\u001b[1;33m=\u001b[0m\u001b[0mwrite_concern\u001b[0m\u001b[1;33m,\u001b[0m\u001b[1;33m\u001b[0m\u001b[1;33m\u001b[0m\u001b[0m\n\u001b[0;32m    700\u001b[0m                          \u001b[0mbypass_doc_val\u001b[0m\u001b[1;33m=\u001b[0m\u001b[0mbypass_document_validation\u001b[0m\u001b[1;33m,\u001b[0m\u001b[1;33m\u001b[0m\u001b[1;33m\u001b[0m\u001b[0m\n",
      "\u001b[1;32m~\\anaconda3\\envs\\FormatiO\\lib\\site-packages\\pymongo\\collection.py\u001b[0m in \u001b[0;36m_insert\u001b[1;34m(self, docs, ordered, check_keys, manipulate, write_concern, op_id, bypass_doc_val, session)\u001b[0m\n\u001b[0;32m    611\u001b[0m         \u001b[1;34m\"\"\"Internal insert helper.\"\"\"\u001b[0m\u001b[1;33m\u001b[0m\u001b[1;33m\u001b[0m\u001b[0m\n\u001b[0;32m    612\u001b[0m         \u001b[1;32mif\u001b[0m \u001b[0misinstance\u001b[0m\u001b[1;33m(\u001b[0m\u001b[0mdocs\u001b[0m\u001b[1;33m,\u001b[0m \u001b[0mabc\u001b[0m\u001b[1;33m.\u001b[0m\u001b[0mMapping\u001b[0m\u001b[1;33m)\u001b[0m\u001b[1;33m:\u001b[0m\u001b[1;33m\u001b[0m\u001b[1;33m\u001b[0m\u001b[0m\n\u001b[1;32m--> 613\u001b[1;33m             return self._insert_one(\n\u001b[0m\u001b[0;32m    614\u001b[0m                 \u001b[0mdocs\u001b[0m\u001b[1;33m,\u001b[0m \u001b[0mordered\u001b[0m\u001b[1;33m,\u001b[0m \u001b[0mcheck_keys\u001b[0m\u001b[1;33m,\u001b[0m \u001b[0mmanipulate\u001b[0m\u001b[1;33m,\u001b[0m \u001b[0mwrite_concern\u001b[0m\u001b[1;33m,\u001b[0m \u001b[0mop_id\u001b[0m\u001b[1;33m,\u001b[0m\u001b[1;33m\u001b[0m\u001b[1;33m\u001b[0m\u001b[0m\n\u001b[0;32m    615\u001b[0m                 bypass_doc_val, session)\n",
      "\u001b[1;32m~\\anaconda3\\envs\\FormatiO\\lib\\site-packages\\pymongo\\collection.py\u001b[0m in \u001b[0;36m_insert_one\u001b[1;34m(self, doc, ordered, check_keys, manipulate, write_concern, op_id, bypass_doc_val, session)\u001b[0m\n\u001b[0;32m    600\u001b[0m             \u001b[0m_check_write_command_response\u001b[0m\u001b[1;33m(\u001b[0m\u001b[0mresult\u001b[0m\u001b[1;33m)\u001b[0m\u001b[1;33m\u001b[0m\u001b[1;33m\u001b[0m\u001b[0m\n\u001b[0;32m    601\u001b[0m \u001b[1;33m\u001b[0m\u001b[0m\n\u001b[1;32m--> 602\u001b[1;33m         self.__database.client._retryable_write(\n\u001b[0m\u001b[0;32m    603\u001b[0m             acknowledged, _insert_command, session)\n\u001b[0;32m    604\u001b[0m \u001b[1;33m\u001b[0m\u001b[0m\n",
      "\u001b[1;32m~\\anaconda3\\envs\\FormatiO\\lib\\site-packages\\pymongo\\mongo_client.py\u001b[0m in \u001b[0;36m_retryable_write\u001b[1;34m(self, retryable, func, session)\u001b[0m\n\u001b[0;32m   1496\u001b[0m         \u001b[1;34m\"\"\"Internal retryable write helper.\"\"\"\u001b[0m\u001b[1;33m\u001b[0m\u001b[1;33m\u001b[0m\u001b[0m\n\u001b[0;32m   1497\u001b[0m         \u001b[1;32mwith\u001b[0m \u001b[0mself\u001b[0m\u001b[1;33m.\u001b[0m\u001b[0m_tmp_session\u001b[0m\u001b[1;33m(\u001b[0m\u001b[0msession\u001b[0m\u001b[1;33m)\u001b[0m \u001b[1;32mas\u001b[0m \u001b[0ms\u001b[0m\u001b[1;33m:\u001b[0m\u001b[1;33m\u001b[0m\u001b[1;33m\u001b[0m\u001b[0m\n\u001b[1;32m-> 1498\u001b[1;33m             \u001b[1;32mreturn\u001b[0m \u001b[0mself\u001b[0m\u001b[1;33m.\u001b[0m\u001b[0m_retry_with_session\u001b[0m\u001b[1;33m(\u001b[0m\u001b[0mretryable\u001b[0m\u001b[1;33m,\u001b[0m \u001b[0mfunc\u001b[0m\u001b[1;33m,\u001b[0m \u001b[0ms\u001b[0m\u001b[1;33m,\u001b[0m \u001b[1;32mNone\u001b[0m\u001b[1;33m)\u001b[0m\u001b[1;33m\u001b[0m\u001b[1;33m\u001b[0m\u001b[0m\n\u001b[0m\u001b[0;32m   1499\u001b[0m \u001b[1;33m\u001b[0m\u001b[0m\n\u001b[0;32m   1500\u001b[0m     \u001b[1;32mdef\u001b[0m \u001b[0m_handle_getlasterror\u001b[0m\u001b[1;33m(\u001b[0m\u001b[0mself\u001b[0m\u001b[1;33m,\u001b[0m \u001b[0maddress\u001b[0m\u001b[1;33m,\u001b[0m \u001b[0merror_msg\u001b[0m\u001b[1;33m)\u001b[0m\u001b[1;33m:\u001b[0m\u001b[1;33m\u001b[0m\u001b[1;33m\u001b[0m\u001b[0m\n",
      "\u001b[1;32m~\\anaconda3\\envs\\FormatiO\\lib\\site-packages\\pymongo\\mongo_client.py\u001b[0m in \u001b[0;36m_retry_with_session\u001b[1;34m(self, retryable, func, session, bulk)\u001b[0m\n\u001b[0;32m   1382\u001b[0m         retryable = (retryable and self.retry_writes\n\u001b[0;32m   1383\u001b[0m                      and session and not session.in_transaction)\n\u001b[1;32m-> 1384\u001b[1;33m         \u001b[1;32mreturn\u001b[0m \u001b[0mself\u001b[0m\u001b[1;33m.\u001b[0m\u001b[0m_retry_internal\u001b[0m\u001b[1;33m(\u001b[0m\u001b[0mretryable\u001b[0m\u001b[1;33m,\u001b[0m \u001b[0mfunc\u001b[0m\u001b[1;33m,\u001b[0m \u001b[0msession\u001b[0m\u001b[1;33m,\u001b[0m \u001b[0mbulk\u001b[0m\u001b[1;33m)\u001b[0m\u001b[1;33m\u001b[0m\u001b[1;33m\u001b[0m\u001b[0m\n\u001b[0m\u001b[0;32m   1385\u001b[0m \u001b[1;33m\u001b[0m\u001b[0m\n\u001b[0;32m   1386\u001b[0m     \u001b[1;32mdef\u001b[0m \u001b[0m_retry_internal\u001b[0m\u001b[1;33m(\u001b[0m\u001b[0mself\u001b[0m\u001b[1;33m,\u001b[0m \u001b[0mretryable\u001b[0m\u001b[1;33m,\u001b[0m \u001b[0mfunc\u001b[0m\u001b[1;33m,\u001b[0m \u001b[0msession\u001b[0m\u001b[1;33m,\u001b[0m \u001b[0mbulk\u001b[0m\u001b[1;33m)\u001b[0m\u001b[1;33m:\u001b[0m\u001b[1;33m\u001b[0m\u001b[1;33m\u001b[0m\u001b[0m\n",
      "\u001b[1;32m~\\anaconda3\\envs\\FormatiO\\lib\\site-packages\\pymongo\\mongo_client.py\u001b[0m in \u001b[0;36m_retry_internal\u001b[1;34m(self, retryable, func, session, bulk)\u001b[0m\n\u001b[0;32m   1414\u001b[0m                             \u001b[1;32mraise\u001b[0m \u001b[0mlast_error\u001b[0m\u001b[1;33m\u001b[0m\u001b[1;33m\u001b[0m\u001b[0m\n\u001b[0;32m   1415\u001b[0m                         \u001b[0mretryable\u001b[0m \u001b[1;33m=\u001b[0m \u001b[1;32mFalse\u001b[0m\u001b[1;33m\u001b[0m\u001b[1;33m\u001b[0m\u001b[0m\n\u001b[1;32m-> 1416\u001b[1;33m                     \u001b[1;32mreturn\u001b[0m \u001b[0mfunc\u001b[0m\u001b[1;33m(\u001b[0m\u001b[0msession\u001b[0m\u001b[1;33m,\u001b[0m \u001b[0msock_info\u001b[0m\u001b[1;33m,\u001b[0m \u001b[0mretryable\u001b[0m\u001b[1;33m)\u001b[0m\u001b[1;33m\u001b[0m\u001b[1;33m\u001b[0m\u001b[0m\n\u001b[0m\u001b[0;32m   1417\u001b[0m             \u001b[1;32mexcept\u001b[0m \u001b[0mServerSelectionTimeoutError\u001b[0m\u001b[1;33m:\u001b[0m\u001b[1;33m\u001b[0m\u001b[1;33m\u001b[0m\u001b[0m\n\u001b[0;32m   1418\u001b[0m                 \u001b[1;32mif\u001b[0m \u001b[0mis_retrying\u001b[0m\u001b[1;33m(\u001b[0m\u001b[1;33m)\u001b[0m\u001b[1;33m:\u001b[0m\u001b[1;33m\u001b[0m\u001b[1;33m\u001b[0m\u001b[0m\n",
      "\u001b[1;32m~\\anaconda3\\envs\\FormatiO\\lib\\site-packages\\pymongo\\collection.py\u001b[0m in \u001b[0;36m_insert_command\u001b[1;34m(session, sock_info, retryable_write)\u001b[0m\n\u001b[0;32m    598\u001b[0m                 retryable_write=retryable_write)\n\u001b[0;32m    599\u001b[0m \u001b[1;33m\u001b[0m\u001b[0m\n\u001b[1;32m--> 600\u001b[1;33m             \u001b[0m_check_write_command_response\u001b[0m\u001b[1;33m(\u001b[0m\u001b[0mresult\u001b[0m\u001b[1;33m)\u001b[0m\u001b[1;33m\u001b[0m\u001b[1;33m\u001b[0m\u001b[0m\n\u001b[0m\u001b[0;32m    601\u001b[0m \u001b[1;33m\u001b[0m\u001b[0m\n\u001b[0;32m    602\u001b[0m         self.__database.client._retryable_write(\n",
      "\u001b[1;32m~\\anaconda3\\envs\\FormatiO\\lib\\site-packages\\pymongo\\helpers.py\u001b[0m in \u001b[0;36m_check_write_command_response\u001b[1;34m(result)\u001b[0m\n\u001b[0;32m    220\u001b[0m     \u001b[0mwrite_errors\u001b[0m \u001b[1;33m=\u001b[0m \u001b[0mresult\u001b[0m\u001b[1;33m.\u001b[0m\u001b[0mget\u001b[0m\u001b[1;33m(\u001b[0m\u001b[1;34m\"writeErrors\"\u001b[0m\u001b[1;33m)\u001b[0m\u001b[1;33m\u001b[0m\u001b[1;33m\u001b[0m\u001b[0m\n\u001b[0;32m    221\u001b[0m     \u001b[1;32mif\u001b[0m \u001b[0mwrite_errors\u001b[0m\u001b[1;33m:\u001b[0m\u001b[1;33m\u001b[0m\u001b[1;33m\u001b[0m\u001b[0m\n\u001b[1;32m--> 222\u001b[1;33m         \u001b[0m_raise_last_write_error\u001b[0m\u001b[1;33m(\u001b[0m\u001b[0mwrite_errors\u001b[0m\u001b[1;33m)\u001b[0m\u001b[1;33m\u001b[0m\u001b[1;33m\u001b[0m\u001b[0m\n\u001b[0m\u001b[0;32m    223\u001b[0m \u001b[1;33m\u001b[0m\u001b[0m\n\u001b[0;32m    224\u001b[0m     \u001b[0merror\u001b[0m \u001b[1;33m=\u001b[0m \u001b[0mresult\u001b[0m\u001b[1;33m.\u001b[0m\u001b[0mget\u001b[0m\u001b[1;33m(\u001b[0m\u001b[1;34m\"writeConcernError\"\u001b[0m\u001b[1;33m)\u001b[0m\u001b[1;33m\u001b[0m\u001b[1;33m\u001b[0m\u001b[0m\n",
      "\u001b[1;32m~\\anaconda3\\envs\\FormatiO\\lib\\site-packages\\pymongo\\helpers.py\u001b[0m in \u001b[0;36m_raise_last_write_error\u001b[1;34m(write_errors)\u001b[0m\n\u001b[0;32m    201\u001b[0m     \u001b[0merror\u001b[0m \u001b[1;33m=\u001b[0m \u001b[0mwrite_errors\u001b[0m\u001b[1;33m[\u001b[0m\u001b[1;33m-\u001b[0m\u001b[1;36m1\u001b[0m\u001b[1;33m]\u001b[0m\u001b[1;33m\u001b[0m\u001b[1;33m\u001b[0m\u001b[0m\n\u001b[0;32m    202\u001b[0m     \u001b[1;32mif\u001b[0m \u001b[0merror\u001b[0m\u001b[1;33m.\u001b[0m\u001b[0mget\u001b[0m\u001b[1;33m(\u001b[0m\u001b[1;34m\"code\"\u001b[0m\u001b[1;33m)\u001b[0m \u001b[1;33m==\u001b[0m \u001b[1;36m11000\u001b[0m\u001b[1;33m:\u001b[0m\u001b[1;33m\u001b[0m\u001b[1;33m\u001b[0m\u001b[0m\n\u001b[1;32m--> 203\u001b[1;33m         \u001b[1;32mraise\u001b[0m \u001b[0mDuplicateKeyError\u001b[0m\u001b[1;33m(\u001b[0m\u001b[0merror\u001b[0m\u001b[1;33m.\u001b[0m\u001b[0mget\u001b[0m\u001b[1;33m(\u001b[0m\u001b[1;34m\"errmsg\"\u001b[0m\u001b[1;33m)\u001b[0m\u001b[1;33m,\u001b[0m \u001b[1;36m11000\u001b[0m\u001b[1;33m,\u001b[0m \u001b[0merror\u001b[0m\u001b[1;33m)\u001b[0m\u001b[1;33m\u001b[0m\u001b[1;33m\u001b[0m\u001b[0m\n\u001b[0m\u001b[0;32m    204\u001b[0m     \u001b[1;32mraise\u001b[0m \u001b[0mWriteError\u001b[0m\u001b[1;33m(\u001b[0m\u001b[0merror\u001b[0m\u001b[1;33m.\u001b[0m\u001b[0mget\u001b[0m\u001b[1;33m(\u001b[0m\u001b[1;34m\"errmsg\"\u001b[0m\u001b[1;33m)\u001b[0m\u001b[1;33m,\u001b[0m \u001b[0merror\u001b[0m\u001b[1;33m.\u001b[0m\u001b[0mget\u001b[0m\u001b[1;33m(\u001b[0m\u001b[1;34m\"code\"\u001b[0m\u001b[1;33m)\u001b[0m\u001b[1;33m,\u001b[0m \u001b[0merror\u001b[0m\u001b[1;33m)\u001b[0m\u001b[1;33m\u001b[0m\u001b[1;33m\u001b[0m\u001b[0m\n\u001b[0;32m    205\u001b[0m \u001b[1;33m\u001b[0m\u001b[0m\n",
      "\u001b[1;31mDuplicateKeyError\u001b[0m: E11000 duplicate key error collection: metflix.movies index: _id_ dup key: { _id: \"tt0075148\" }, full error: {'index': 0, 'code': 11000, 'keyPattern': {'_id': 1}, 'keyValue': {'_id': 'tt0075148'}, 'errmsg': 'E11000 duplicate key error collection: metflix.movies index: _id_ dup key: { _id: \"tt0075148\" }'}"
     ]
    }
   ],
   "source": [
    "movies.insert_one({\"title\":\"Rocky\", \"year\":1976, \"_id\":\"tt0075148\"})"
   ]
  },
  {
   "cell_type": "code",
   "execution_count": 44,
   "metadata": {},
   "outputs": [
    {
     "data": {
      "text/plain": [
       "<pymongo.results.InsertOneResult at 0x22d0e3d1580>"
      ]
     },
     "execution_count": 44,
     "metadata": {},
     "output_type": "execute_result"
    }
   ],
   "source": [
    "movies.insert_one({\"title\":\"Rocky\", \"year\":1976, \"_imdb\":\"tt0073195\"})"
   ]
  },
  {
   "cell_type": "code",
   "execution_count": 46,
   "metadata": {},
   "outputs": [
    {
     "data": {
      "text/plain": [
       "<pymongo.results.InsertOneResult at 0x22d0e3bf100>"
      ]
     },
     "execution_count": 46,
     "metadata": {},
     "output_type": "execute_result"
    }
   ],
   "source": [
    "movies.insert_one({\"title\":\"Jaws\", \"year\":1975, \"_imdb\":\"tt0073196\"})"
   ]
  },
  {
   "cell_type": "code",
   "execution_count": 47,
   "metadata": {},
   "outputs": [
    {
     "data": {
      "text/plain": [
       "<pymongo.results.InsertOneResult at 0x22d0e3d6d00>"
      ]
     },
     "execution_count": 47,
     "metadata": {},
     "output_type": "execute_result"
    }
   ],
   "source": [
    "movies.insert_one({\"title\":\"Mad Max 2: The Road Warrior\", \"year\":1981,})"
   ]
  },
  {
   "cell_type": "code",
   "execution_count": 49,
   "metadata": {},
   "outputs": [],
   "source": [
    "client.drop_database('metflix')"
   ]
  },
  {
   "cell_type": "code",
   "execution_count": 51,
   "metadata": {},
   "outputs": [
    {
     "data": {
      "text/plain": [
       "['admin', 'config', 'local']"
      ]
     },
     "execution_count": 51,
     "metadata": {},
     "output_type": "execute_result"
    }
   ],
   "source": [
    "client.list_database_names()"
   ]
  },
  {
   "cell_type": "code",
   "execution_count": 1,
   "metadata": {},
   "outputs": [
    {
     "ename": "NameError",
     "evalue": "name 'client' is not defined",
     "output_type": "error",
     "traceback": [
      "\u001b[1;31m---------------------------------------------------------------------------\u001b[0m",
      "\u001b[1;31mNameError\u001b[0m                                 Traceback (most recent call last)",
      "\u001b[1;32m<ipython-input-1-c1893279180c>\u001b[0m in \u001b[0;36m<module>\u001b[1;34m\u001b[0m\n\u001b[1;32m----> 1\u001b[1;33m \u001b[0mmetflix\u001b[0m \u001b[1;33m=\u001b[0m \u001b[0mclient\u001b[0m\u001b[1;33m[\u001b[0m\u001b[1;34m\"metflix\"\u001b[0m\u001b[1;33m]\u001b[0m\u001b[1;33m\u001b[0m\u001b[1;33m\u001b[0m\u001b[0m\n\u001b[0m",
      "\u001b[1;31mNameError\u001b[0m: name 'client' is not defined"
     ]
    }
   ],
   "source": [
    "metflix = client[\"metflix\"]"
   ]
  },
  {
   "cell_type": "code",
   "execution_count": 7,
   "metadata": {},
   "outputs": [
    {
     "ename": "NameError",
     "evalue": "name 'movies' is not defined",
     "output_type": "error",
     "traceback": [
      "\u001b[1;31m---------------------------------------------------------------------------\u001b[0m",
      "\u001b[1;31mNameError\u001b[0m                                 Traceback (most recent call last)",
      "\u001b[1;32m<ipython-input-7-2b283ea2fac6>\u001b[0m in \u001b[0;36m<module>\u001b[1;34m\u001b[0m\n\u001b[1;32m----> 1\u001b[1;33m \u001b[0mmovies\u001b[0m\u001b[1;33m.\u001b[0m\u001b[0mfind_one\u001b[0m\u001b[1;33m(\u001b[0m\u001b[1;33m)\u001b[0m\u001b[1;33m\u001b[0m\u001b[1;33m\u001b[0m\u001b[0m\n\u001b[0m",
      "\u001b[1;31mNameError\u001b[0m: name 'movies' is not defined"
     ]
    }
   ],
   "source": []
  },
  {
   "cell_type": "code",
   "execution_count": 14,
   "metadata": {},
   "outputs": [
    {
     "data": {
      "text/plain": [
       "{'_id': ObjectId('6000b111872368bb953f8f93'), 'title': 'Rocky', 'year': 1976.0}"
      ]
     },
     "execution_count": 14,
     "metadata": {},
     "output_type": "execute_result"
    }
   ],
   "source": [
    "movies.find_one()"
   ]
  },
  {
   "cell_type": "code",
   "execution_count": 17,
   "metadata": {},
   "outputs": [
    {
     "name": "stdout",
     "output_type": "stream",
     "text": [
      "{'_id': ObjectId('6000b111872368bb953f8f93'), 'title': 'Rocky', 'year': 1976.0}\n",
      "{'_id': 'tt0075148', 'title': 'Rocky', 'year': 1976.0}\n",
      "{'_id': ObjectId('6000b1d4872368bb953f8f94'), 'title': 'Rocky', 'year': 1976.0}\n"
     ]
    }
   ],
   "source": [
    "for item in movies.find():\n",
    "    print(item)"
   ]
  },
  {
   "cell_type": "code",
   "execution_count": 19,
   "metadata": {},
   "outputs": [
    {
     "ename": "NameError",
     "evalue": "name 'users' is not defined",
     "output_type": "error",
     "traceback": [
      "\u001b[1;31m---------------------------------------------------------------------------\u001b[0m",
      "\u001b[1;31mNameError\u001b[0m                                 Traceback (most recent call last)",
      "\u001b[1;32m<ipython-input-19-5bd4d1dc3957>\u001b[0m in \u001b[0;36m<module>\u001b[1;34m\u001b[0m\n\u001b[1;32m----> 1\u001b[1;33m \u001b[1;32mfor\u001b[0m \u001b[0mitem\u001b[0m \u001b[1;32min\u001b[0m \u001b[0musers\u001b[0m\u001b[1;33m.\u001b[0m\u001b[0mfind\u001b[0m\u001b[1;33m(\u001b[0m\u001b[1;33m)\u001b[0m\u001b[1;33m:\u001b[0m\u001b[1;33m\u001b[0m\u001b[1;33m\u001b[0m\u001b[0m\n\u001b[0m\u001b[0;32m      2\u001b[0m     \u001b[0mprint\u001b[0m\u001b[1;33m(\u001b[0m\u001b[0mitem\u001b[0m\u001b[1;33m)\u001b[0m\u001b[1;33m\u001b[0m\u001b[1;33m\u001b[0m\u001b[0m\n",
      "\u001b[1;31mNameError\u001b[0m: name 'users' is not defined"
     ]
    }
   ],
   "source": [
    "for item in users.find():\n",
    "    print(item)"
   ]
  },
  {
   "cell_type": "code",
   "execution_count": 21,
   "metadata": {},
   "outputs": [],
   "source": [
    "client.drop_database('metflix')"
   ]
  },
  {
   "cell_type": "code",
   "execution_count": 50,
   "metadata": {},
   "outputs": [
    {
     "name": "stdout",
     "output_type": "stream",
     "text": [
      "connection success\n",
      "0.013954639434814453\n"
     ]
    }
   ],
   "source": [
    "from pymongo import MongoClient, errors\n",
    "\n",
    "import time\n",
    "\n",
    "start = time.time()\n",
    "\n",
    "try:\n",
    "\n",
    " client = MongoClient(host = ['mongodb://localhost:27017/'])\n",
    " client.server_info() # will throw an exception\n",
    " print (\"connection success\")\n",
    "\n",
    "except:\n",
    "\n",
    " print (\"connection error\")\n",
    "\n",
    "\n",
    "print (time.time() - start)"
   ]
  },
  {
   "cell_type": "code",
   "execution_count": 26,
   "metadata": {},
   "outputs": [
    {
     "name": "stdout",
     "output_type": "stream",
     "text": [
      "collection movies added\n"
     ]
    }
   ],
   "source": [
    "try:\n",
    "\n",
    "# create new database and collection instances\n",
    " db = client.metfix\n",
    " movies = db[\"movies\"]\n",
    " print(\"collection movies added\")\n",
    "\n",
    "except:\n",
    "\n",
    "\n",
    "\n",
    " print (\"Get MongoDB database and collection ERROR:\", error)"
   ]
  },
  {
   "cell_type": "code",
   "execution_count": 28,
   "metadata": {},
   "outputs": [
    {
     "name": "stdout",
     "output_type": "stream",
     "text": [
      "6000bc60f3191ee37e9f418d\n"
     ]
    }
   ],
   "source": [
    "try:\n",
    "\n",
    " db = client [\"metfix\"]\n",
    " movies = db[\"movies\"]\n",
    " x = movies.insert_one({\"title\" : \"Rocky\" , \"year\" : 1976 })\n",
    " print(x.inserted_id)\n",
    "\n",
    "\n",
    "\n",
    "\n",
    "except:\n",
    "\n",
    "\n",
    "\n",
    " print (\"les données sont pas inserer\", error)"
   ]
  },
  {
   "cell_type": "code",
   "execution_count": 32,
   "metadata": {},
   "outputs": [
    {
     "ename": "NameError",
     "evalue": "name 'error' is not defined",
     "output_type": "error",
     "traceback": [
      "\u001b[1;31m---------------------------------------------------------------------------\u001b[0m",
      "\u001b[1;31mDuplicateKeyError\u001b[0m                         Traceback (most recent call last)",
      "\u001b[1;32m<ipython-input-32-52cd41f5abac>\u001b[0m in \u001b[0;36m<module>\u001b[1;34m\u001b[0m\n\u001b[0;32m      4\u001b[0m  \u001b[0mmovies\u001b[0m \u001b[1;33m=\u001b[0m \u001b[0mdb\u001b[0m\u001b[1;33m[\u001b[0m\u001b[1;34m\"movies\"\u001b[0m\u001b[1;33m]\u001b[0m\u001b[1;33m\u001b[0m\u001b[1;33m\u001b[0m\u001b[0m\n\u001b[1;32m----> 5\u001b[1;33m  \u001b[0mx\u001b[0m \u001b[1;33m=\u001b[0m \u001b[0mmovies\u001b[0m\u001b[1;33m.\u001b[0m\u001b[0minsert_one\u001b[0m\u001b[1;33m(\u001b[0m\u001b[1;33m{\u001b[0m\u001b[1;34m\"title\"\u001b[0m \u001b[1;33m:\u001b[0m \u001b[1;34m\"Rocky\"\u001b[0m \u001b[1;33m,\u001b[0m \u001b[1;34m\"year\"\u001b[0m \u001b[1;33m:\u001b[0m \u001b[1;36m1976\u001b[0m\u001b[1;33m,\u001b[0m \u001b[1;34m\"_id\"\u001b[0m\u001b[1;33m:\u001b[0m \u001b[1;34m\"tt0075148\"\u001b[0m \u001b[1;33m}\u001b[0m\u001b[1;33m)\u001b[0m\u001b[1;33m\u001b[0m\u001b[1;33m\u001b[0m\u001b[0m\n\u001b[0m\u001b[0;32m      6\u001b[0m  \u001b[0mprint\u001b[0m\u001b[1;33m(\u001b[0m\u001b[0mx\u001b[0m\u001b[1;33m.\u001b[0m\u001b[0minserted_id\u001b[0m\u001b[1;33m)\u001b[0m\u001b[1;33m\u001b[0m\u001b[1;33m\u001b[0m\u001b[0m\n",
      "\u001b[1;32m~\\anaconda3\\lib\\site-packages\\pymongo\\collection.py\u001b[0m in \u001b[0;36minsert_one\u001b[1;34m(self, document, bypass_document_validation, session)\u001b[0m\n\u001b[0;32m    697\u001b[0m         return InsertOneResult(\n\u001b[1;32m--> 698\u001b[1;33m             self._insert(document,\n\u001b[0m\u001b[0;32m    699\u001b[0m                          \u001b[0mwrite_concern\u001b[0m\u001b[1;33m=\u001b[0m\u001b[0mwrite_concern\u001b[0m\u001b[1;33m,\u001b[0m\u001b[1;33m\u001b[0m\u001b[1;33m\u001b[0m\u001b[0m\n",
      "\u001b[1;32m~\\anaconda3\\lib\\site-packages\\pymongo\\collection.py\u001b[0m in \u001b[0;36m_insert\u001b[1;34m(self, docs, ordered, check_keys, manipulate, write_concern, op_id, bypass_doc_val, session)\u001b[0m\n\u001b[0;32m    612\u001b[0m         \u001b[1;32mif\u001b[0m \u001b[0misinstance\u001b[0m\u001b[1;33m(\u001b[0m\u001b[0mdocs\u001b[0m\u001b[1;33m,\u001b[0m \u001b[0mabc\u001b[0m\u001b[1;33m.\u001b[0m\u001b[0mMapping\u001b[0m\u001b[1;33m)\u001b[0m\u001b[1;33m:\u001b[0m\u001b[1;33m\u001b[0m\u001b[1;33m\u001b[0m\u001b[0m\n\u001b[1;32m--> 613\u001b[1;33m             return self._insert_one(\n\u001b[0m\u001b[0;32m    614\u001b[0m                 \u001b[0mdocs\u001b[0m\u001b[1;33m,\u001b[0m \u001b[0mordered\u001b[0m\u001b[1;33m,\u001b[0m \u001b[0mcheck_keys\u001b[0m\u001b[1;33m,\u001b[0m \u001b[0mmanipulate\u001b[0m\u001b[1;33m,\u001b[0m \u001b[0mwrite_concern\u001b[0m\u001b[1;33m,\u001b[0m \u001b[0mop_id\u001b[0m\u001b[1;33m,\u001b[0m\u001b[1;33m\u001b[0m\u001b[1;33m\u001b[0m\u001b[0m\n",
      "\u001b[1;32m~\\anaconda3\\lib\\site-packages\\pymongo\\collection.py\u001b[0m in \u001b[0;36m_insert_one\u001b[1;34m(self, doc, ordered, check_keys, manipulate, write_concern, op_id, bypass_doc_val, session)\u001b[0m\n\u001b[0;32m    601\u001b[0m \u001b[1;33m\u001b[0m\u001b[0m\n\u001b[1;32m--> 602\u001b[1;33m         self.__database.client._retryable_write(\n\u001b[0m\u001b[0;32m    603\u001b[0m             acknowledged, _insert_command, session)\n",
      "\u001b[1;32m~\\anaconda3\\lib\\site-packages\\pymongo\\mongo_client.py\u001b[0m in \u001b[0;36m_retryable_write\u001b[1;34m(self, retryable, func, session)\u001b[0m\n\u001b[0;32m   1497\u001b[0m         \u001b[1;32mwith\u001b[0m \u001b[0mself\u001b[0m\u001b[1;33m.\u001b[0m\u001b[0m_tmp_session\u001b[0m\u001b[1;33m(\u001b[0m\u001b[0msession\u001b[0m\u001b[1;33m)\u001b[0m \u001b[1;32mas\u001b[0m \u001b[0ms\u001b[0m\u001b[1;33m:\u001b[0m\u001b[1;33m\u001b[0m\u001b[1;33m\u001b[0m\u001b[0m\n\u001b[1;32m-> 1498\u001b[1;33m             \u001b[1;32mreturn\u001b[0m \u001b[0mself\u001b[0m\u001b[1;33m.\u001b[0m\u001b[0m_retry_with_session\u001b[0m\u001b[1;33m(\u001b[0m\u001b[0mretryable\u001b[0m\u001b[1;33m,\u001b[0m \u001b[0mfunc\u001b[0m\u001b[1;33m,\u001b[0m \u001b[0ms\u001b[0m\u001b[1;33m,\u001b[0m \u001b[1;32mNone\u001b[0m\u001b[1;33m)\u001b[0m\u001b[1;33m\u001b[0m\u001b[1;33m\u001b[0m\u001b[0m\n\u001b[0m\u001b[0;32m   1499\u001b[0m \u001b[1;33m\u001b[0m\u001b[0m\n",
      "\u001b[1;32m~\\anaconda3\\lib\\site-packages\\pymongo\\mongo_client.py\u001b[0m in \u001b[0;36m_retry_with_session\u001b[1;34m(self, retryable, func, session, bulk)\u001b[0m\n\u001b[0;32m   1383\u001b[0m                      and session and not session.in_transaction)\n\u001b[1;32m-> 1384\u001b[1;33m         \u001b[1;32mreturn\u001b[0m \u001b[0mself\u001b[0m\u001b[1;33m.\u001b[0m\u001b[0m_retry_internal\u001b[0m\u001b[1;33m(\u001b[0m\u001b[0mretryable\u001b[0m\u001b[1;33m,\u001b[0m \u001b[0mfunc\u001b[0m\u001b[1;33m,\u001b[0m \u001b[0msession\u001b[0m\u001b[1;33m,\u001b[0m \u001b[0mbulk\u001b[0m\u001b[1;33m)\u001b[0m\u001b[1;33m\u001b[0m\u001b[1;33m\u001b[0m\u001b[0m\n\u001b[0m\u001b[0;32m   1385\u001b[0m \u001b[1;33m\u001b[0m\u001b[0m\n",
      "\u001b[1;32m~\\anaconda3\\lib\\site-packages\\pymongo\\mongo_client.py\u001b[0m in \u001b[0;36m_retry_internal\u001b[1;34m(self, retryable, func, session, bulk)\u001b[0m\n\u001b[0;32m   1415\u001b[0m                         \u001b[0mretryable\u001b[0m \u001b[1;33m=\u001b[0m \u001b[1;32mFalse\u001b[0m\u001b[1;33m\u001b[0m\u001b[1;33m\u001b[0m\u001b[0m\n\u001b[1;32m-> 1416\u001b[1;33m                     \u001b[1;32mreturn\u001b[0m \u001b[0mfunc\u001b[0m\u001b[1;33m(\u001b[0m\u001b[0msession\u001b[0m\u001b[1;33m,\u001b[0m \u001b[0msock_info\u001b[0m\u001b[1;33m,\u001b[0m \u001b[0mretryable\u001b[0m\u001b[1;33m)\u001b[0m\u001b[1;33m\u001b[0m\u001b[1;33m\u001b[0m\u001b[0m\n\u001b[0m\u001b[0;32m   1417\u001b[0m             \u001b[1;32mexcept\u001b[0m \u001b[0mServerSelectionTimeoutError\u001b[0m\u001b[1;33m:\u001b[0m\u001b[1;33m\u001b[0m\u001b[1;33m\u001b[0m\u001b[0m\n",
      "\u001b[1;32m~\\anaconda3\\lib\\site-packages\\pymongo\\collection.py\u001b[0m in \u001b[0;36m_insert_command\u001b[1;34m(session, sock_info, retryable_write)\u001b[0m\n\u001b[0;32m    599\u001b[0m \u001b[1;33m\u001b[0m\u001b[0m\n\u001b[1;32m--> 600\u001b[1;33m             \u001b[0m_check_write_command_response\u001b[0m\u001b[1;33m(\u001b[0m\u001b[0mresult\u001b[0m\u001b[1;33m)\u001b[0m\u001b[1;33m\u001b[0m\u001b[1;33m\u001b[0m\u001b[0m\n\u001b[0m\u001b[0;32m    601\u001b[0m \u001b[1;33m\u001b[0m\u001b[0m\n",
      "\u001b[1;32m~\\anaconda3\\lib\\site-packages\\pymongo\\helpers.py\u001b[0m in \u001b[0;36m_check_write_command_response\u001b[1;34m(result)\u001b[0m\n\u001b[0;32m    221\u001b[0m     \u001b[1;32mif\u001b[0m \u001b[0mwrite_errors\u001b[0m\u001b[1;33m:\u001b[0m\u001b[1;33m\u001b[0m\u001b[1;33m\u001b[0m\u001b[0m\n\u001b[1;32m--> 222\u001b[1;33m         \u001b[0m_raise_last_write_error\u001b[0m\u001b[1;33m(\u001b[0m\u001b[0mwrite_errors\u001b[0m\u001b[1;33m)\u001b[0m\u001b[1;33m\u001b[0m\u001b[1;33m\u001b[0m\u001b[0m\n\u001b[0m\u001b[0;32m    223\u001b[0m \u001b[1;33m\u001b[0m\u001b[0m\n",
      "\u001b[1;32m~\\anaconda3\\lib\\site-packages\\pymongo\\helpers.py\u001b[0m in \u001b[0;36m_raise_last_write_error\u001b[1;34m(write_errors)\u001b[0m\n\u001b[0;32m    202\u001b[0m     \u001b[1;32mif\u001b[0m \u001b[0merror\u001b[0m\u001b[1;33m.\u001b[0m\u001b[0mget\u001b[0m\u001b[1;33m(\u001b[0m\u001b[1;34m\"code\"\u001b[0m\u001b[1;33m)\u001b[0m \u001b[1;33m==\u001b[0m \u001b[1;36m11000\u001b[0m\u001b[1;33m:\u001b[0m\u001b[1;33m\u001b[0m\u001b[1;33m\u001b[0m\u001b[0m\n\u001b[1;32m--> 203\u001b[1;33m         \u001b[1;32mraise\u001b[0m \u001b[0mDuplicateKeyError\u001b[0m\u001b[1;33m(\u001b[0m\u001b[0merror\u001b[0m\u001b[1;33m.\u001b[0m\u001b[0mget\u001b[0m\u001b[1;33m(\u001b[0m\u001b[1;34m\"errmsg\"\u001b[0m\u001b[1;33m)\u001b[0m\u001b[1;33m,\u001b[0m \u001b[1;36m11000\u001b[0m\u001b[1;33m,\u001b[0m \u001b[0merror\u001b[0m\u001b[1;33m)\u001b[0m\u001b[1;33m\u001b[0m\u001b[1;33m\u001b[0m\u001b[0m\n\u001b[0m\u001b[0;32m    204\u001b[0m     \u001b[1;32mraise\u001b[0m \u001b[0mWriteError\u001b[0m\u001b[1;33m(\u001b[0m\u001b[0merror\u001b[0m\u001b[1;33m.\u001b[0m\u001b[0mget\u001b[0m\u001b[1;33m(\u001b[0m\u001b[1;34m\"errmsg\"\u001b[0m\u001b[1;33m)\u001b[0m\u001b[1;33m,\u001b[0m \u001b[0merror\u001b[0m\u001b[1;33m.\u001b[0m\u001b[0mget\u001b[0m\u001b[1;33m(\u001b[0m\u001b[1;34m\"code\"\u001b[0m\u001b[1;33m)\u001b[0m\u001b[1;33m,\u001b[0m \u001b[0merror\u001b[0m\u001b[1;33m)\u001b[0m\u001b[1;33m\u001b[0m\u001b[1;33m\u001b[0m\u001b[0m\n",
      "\u001b[1;31mDuplicateKeyError\u001b[0m: E11000 duplicate key error collection: metfix.movies index: _id_ dup key: { _id: \"tt0075148\" }, full error: {'index': 0, 'code': 11000, 'keyPattern': {'_id': 1}, 'keyValue': {'_id': 'tt0075148'}, 'errmsg': 'E11000 duplicate key error collection: metfix.movies index: _id_ dup key: { _id: \"tt0075148\" }'}",
      "\nDuring handling of the above exception, another exception occurred:\n",
      "\u001b[1;31mNameError\u001b[0m                                 Traceback (most recent call last)",
      "\u001b[1;32m<ipython-input-32-52cd41f5abac>\u001b[0m in \u001b[0;36m<module>\u001b[1;34m\u001b[0m\n\u001b[0;32m     13\u001b[0m \u001b[1;33m\u001b[0m\u001b[0m\n\u001b[0;32m     14\u001b[0m \u001b[1;33m\u001b[0m\u001b[0m\n\u001b[1;32m---> 15\u001b[1;33m  \u001b[0mprint\u001b[0m \u001b[1;33m(\u001b[0m\u001b[1;34m\"les données sont pas inserer\"\u001b[0m\u001b[1;33m,\u001b[0m \u001b[0merror\u001b[0m\u001b[1;33m)\u001b[0m\u001b[1;33m\u001b[0m\u001b[1;33m\u001b[0m\u001b[0m\n\u001b[0m",
      "\u001b[1;31mNameError\u001b[0m: name 'error' is not defined"
     ]
    }
   ],
   "source": [
    "try:\n",
    "\n",
    " db = client [\"metfix\"]\n",
    " movies = db[\"movies\"]\n",
    " x = movies.insert_one({\"title\" : \"Rocky\" , \"year\" : 1976, \"_id\": \"tt0075148\" })\n",
    " print(x.inserted_id)\n",
    "\n",
    "\n",
    "\n",
    "\n",
    "except:\n",
    "\n",
    "\n",
    "\n",
    " print (\"les données sont pas inserer\", error)"
   ]
  },
  {
   "cell_type": "code",
   "execution_count": 34,
   "metadata": {},
   "outputs": [
    {
     "name": "stdout",
     "output_type": "stream",
     "text": [
      "6000bd3cf3191ee37e9f418f\n"
     ]
    }
   ],
   "source": [
    "try:\n",
    "\n",
    " db = client [\"metfix\"]\n",
    " movies = db[\"movies\"]\n",
    " x = movies.insert_one({\"title\" : \"Rocky\" , \"year\" : 1976 })\n",
    " print(x.inserted_id)\n",
    "\n",
    "\n",
    "\n",
    "\n",
    "except:\n",
    "\n",
    "\n",
    "\n",
    " print (\"les données sont pas inserer\", error)"
   ]
  },
  {
   "cell_type": "code",
   "execution_count": 36,
   "metadata": {},
   "outputs": [
    {
     "name": "stdout",
     "output_type": "stream",
     "text": [
      "{'_id': ObjectId('6000bc5cf3191ee37e9f418c'), 'title': 'Rocky', 'year': 1976}\n",
      "{'_id': ObjectId('6000bc60f3191ee37e9f418d'), 'title': 'Rocky', 'year': 1976}\n",
      "{'_id': 'tt0075148', 'title': 'Rocky', 'year': 1976}\n",
      "{'_id': ObjectId('6000bd14f3191ee37e9f418e'), 'title': 'Rocky', 'year': 1976}\n",
      "{'_id': ObjectId('6000bd3cf3191ee37e9f418f'), 'title': 'Rocky', 'year': 1976}\n"
     ]
    }
   ],
   "source": [
    "for item in movies.find():\n",
    "    print(item)"
   ]
  },
  {
   "cell_type": "code",
   "execution_count": 38,
   "metadata": {},
   "outputs": [],
   "source": [
    "movies.drop()"
   ]
  },
  {
   "cell_type": "code",
   "execution_count": 40,
   "metadata": {},
   "outputs": [
    {
     "ename": "BulkWriteError",
     "evalue": "batch op errors occurred, full error: {'writeErrors': [{'index': 0, 'code': 11000, 'keyPattern': {'_id': 1}, 'keyValue': {'_id': 'tt0075148'}, 'errmsg': 'E11000 duplicate key error collection: metflix.movies index: _id_ dup key: { _id: \"tt0075148\" }', 'op': {'title': 'Rocky', 'year': 1976, '_id': 'tt0075148'}}], 'writeConcernErrors': [], 'nInserted': 0, 'nUpserted': 0, 'nMatched': 0, 'nModified': 0, 'nRemoved': 0, 'upserted': []}",
     "output_type": "error",
     "traceback": [
      "\u001b[1;31m---------------------------------------------------------------------------\u001b[0m",
      "\u001b[1;31mBulkWriteError\u001b[0m                            Traceback (most recent call last)",
      "\u001b[1;32m<ipython-input-40-f2fb3a671d51>\u001b[0m in \u001b[0;36m<module>\u001b[1;34m\u001b[0m\n\u001b[0;32m      9\u001b[0m ]\n\u001b[0;32m     10\u001b[0m \u001b[1;33m\u001b[0m\u001b[0m\n\u001b[1;32m---> 11\u001b[1;33m \u001b[0mx\u001b[0m \u001b[1;33m=\u001b[0m \u001b[0mmovies\u001b[0m\u001b[1;33m.\u001b[0m\u001b[0minsert_many\u001b[0m\u001b[1;33m(\u001b[0m\u001b[0mmylist\u001b[0m\u001b[1;33m)\u001b[0m\u001b[1;33m\u001b[0m\u001b[1;33m\u001b[0m\u001b[0m\n\u001b[0m\u001b[0;32m     12\u001b[0m \u001b[1;33m\u001b[0m\u001b[0m\n\u001b[0;32m     13\u001b[0m \u001b[1;31m#print list of the _id values of the inserted documents:\u001b[0m\u001b[1;33m\u001b[0m\u001b[1;33m\u001b[0m\u001b[1;33m\u001b[0m\u001b[0m\n",
      "\u001b[1;32m~\\anaconda3\\lib\\site-packages\\pymongo\\collection.py\u001b[0m in \u001b[0;36minsert_many\u001b[1;34m(self, documents, ordered, bypass_document_validation, session)\u001b[0m\n\u001b[0;32m    759\u001b[0m         \u001b[0mblk\u001b[0m \u001b[1;33m=\u001b[0m \u001b[0m_Bulk\u001b[0m\u001b[1;33m(\u001b[0m\u001b[0mself\u001b[0m\u001b[1;33m,\u001b[0m \u001b[0mordered\u001b[0m\u001b[1;33m,\u001b[0m \u001b[0mbypass_document_validation\u001b[0m\u001b[1;33m)\u001b[0m\u001b[1;33m\u001b[0m\u001b[1;33m\u001b[0m\u001b[0m\n\u001b[0;32m    760\u001b[0m         \u001b[0mblk\u001b[0m\u001b[1;33m.\u001b[0m\u001b[0mops\u001b[0m \u001b[1;33m=\u001b[0m \u001b[1;33m[\u001b[0m\u001b[0mdoc\u001b[0m \u001b[1;32mfor\u001b[0m \u001b[0mdoc\u001b[0m \u001b[1;32min\u001b[0m \u001b[0mgen\u001b[0m\u001b[1;33m(\u001b[0m\u001b[1;33m)\u001b[0m\u001b[1;33m]\u001b[0m\u001b[1;33m\u001b[0m\u001b[1;33m\u001b[0m\u001b[0m\n\u001b[1;32m--> 761\u001b[1;33m         \u001b[0mblk\u001b[0m\u001b[1;33m.\u001b[0m\u001b[0mexecute\u001b[0m\u001b[1;33m(\u001b[0m\u001b[0mwrite_concern\u001b[0m\u001b[1;33m,\u001b[0m \u001b[0msession\u001b[0m\u001b[1;33m=\u001b[0m\u001b[0msession\u001b[0m\u001b[1;33m)\u001b[0m\u001b[1;33m\u001b[0m\u001b[1;33m\u001b[0m\u001b[0m\n\u001b[0m\u001b[0;32m    762\u001b[0m         \u001b[1;32mreturn\u001b[0m \u001b[0mInsertManyResult\u001b[0m\u001b[1;33m(\u001b[0m\u001b[0minserted_ids\u001b[0m\u001b[1;33m,\u001b[0m \u001b[0mwrite_concern\u001b[0m\u001b[1;33m.\u001b[0m\u001b[0macknowledged\u001b[0m\u001b[1;33m)\u001b[0m\u001b[1;33m\u001b[0m\u001b[1;33m\u001b[0m\u001b[0m\n\u001b[0;32m    763\u001b[0m \u001b[1;33m\u001b[0m\u001b[0m\n",
      "\u001b[1;32m~\\anaconda3\\lib\\site-packages\\pymongo\\bulk.py\u001b[0m in \u001b[0;36mexecute\u001b[1;34m(self, write_concern, session)\u001b[0m\n\u001b[0;32m    526\u001b[0m                 \u001b[0mself\u001b[0m\u001b[1;33m.\u001b[0m\u001b[0mexecute_no_results\u001b[0m\u001b[1;33m(\u001b[0m\u001b[0msock_info\u001b[0m\u001b[1;33m,\u001b[0m \u001b[0mgenerator\u001b[0m\u001b[1;33m)\u001b[0m\u001b[1;33m\u001b[0m\u001b[1;33m\u001b[0m\u001b[0m\n\u001b[0;32m    527\u001b[0m         \u001b[1;32melse\u001b[0m\u001b[1;33m:\u001b[0m\u001b[1;33m\u001b[0m\u001b[1;33m\u001b[0m\u001b[0m\n\u001b[1;32m--> 528\u001b[1;33m             \u001b[1;32mreturn\u001b[0m \u001b[0mself\u001b[0m\u001b[1;33m.\u001b[0m\u001b[0mexecute_command\u001b[0m\u001b[1;33m(\u001b[0m\u001b[0mgenerator\u001b[0m\u001b[1;33m,\u001b[0m \u001b[0mwrite_concern\u001b[0m\u001b[1;33m,\u001b[0m \u001b[0msession\u001b[0m\u001b[1;33m)\u001b[0m\u001b[1;33m\u001b[0m\u001b[1;33m\u001b[0m\u001b[0m\n\u001b[0m\u001b[0;32m    529\u001b[0m \u001b[1;33m\u001b[0m\u001b[0m\n\u001b[0;32m    530\u001b[0m \u001b[1;33m\u001b[0m\u001b[0m\n",
      "\u001b[1;32m~\\anaconda3\\lib\\site-packages\\pymongo\\bulk.py\u001b[0m in \u001b[0;36mexecute_command\u001b[1;34m(self, generator, write_concern, session)\u001b[0m\n\u001b[0;32m    361\u001b[0m \u001b[1;33m\u001b[0m\u001b[0m\n\u001b[0;32m    362\u001b[0m         \u001b[1;32mif\u001b[0m \u001b[0mfull_result\u001b[0m\u001b[1;33m[\u001b[0m\u001b[1;34m\"writeErrors\"\u001b[0m\u001b[1;33m]\u001b[0m \u001b[1;32mor\u001b[0m \u001b[0mfull_result\u001b[0m\u001b[1;33m[\u001b[0m\u001b[1;34m\"writeConcernErrors\"\u001b[0m\u001b[1;33m]\u001b[0m\u001b[1;33m:\u001b[0m\u001b[1;33m\u001b[0m\u001b[1;33m\u001b[0m\u001b[0m\n\u001b[1;32m--> 363\u001b[1;33m             \u001b[0m_raise_bulk_write_error\u001b[0m\u001b[1;33m(\u001b[0m\u001b[0mfull_result\u001b[0m\u001b[1;33m)\u001b[0m\u001b[1;33m\u001b[0m\u001b[1;33m\u001b[0m\u001b[0m\n\u001b[0m\u001b[0;32m    364\u001b[0m         \u001b[1;32mreturn\u001b[0m \u001b[0mfull_result\u001b[0m\u001b[1;33m\u001b[0m\u001b[1;33m\u001b[0m\u001b[0m\n\u001b[0;32m    365\u001b[0m \u001b[1;33m\u001b[0m\u001b[0m\n",
      "\u001b[1;32m~\\anaconda3\\lib\\site-packages\\pymongo\\bulk.py\u001b[0m in \u001b[0;36m_raise_bulk_write_error\u001b[1;34m(full_result)\u001b[0m\n\u001b[0;32m    138\u001b[0m         full_result[\"writeErrors\"].sort(\n\u001b[0;32m    139\u001b[0m             key=lambda error: error[\"index\"])\n\u001b[1;32m--> 140\u001b[1;33m     \u001b[1;32mraise\u001b[0m \u001b[0mBulkWriteError\u001b[0m\u001b[1;33m(\u001b[0m\u001b[0mfull_result\u001b[0m\u001b[1;33m)\u001b[0m\u001b[1;33m\u001b[0m\u001b[1;33m\u001b[0m\u001b[0m\n\u001b[0m\u001b[0;32m    141\u001b[0m \u001b[1;33m\u001b[0m\u001b[0m\n\u001b[0;32m    142\u001b[0m \u001b[1;33m\u001b[0m\u001b[0m\n",
      "\u001b[1;31mBulkWriteError\u001b[0m: batch op errors occurred, full error: {'writeErrors': [{'index': 0, 'code': 11000, 'keyPattern': {'_id': 1}, 'keyValue': {'_id': 'tt0075148'}, 'errmsg': 'E11000 duplicate key error collection: metflix.movies index: _id_ dup key: { _id: \"tt0075148\" }', 'op': {'title': 'Rocky', 'year': 1976, '_id': 'tt0075148'}}], 'writeConcernErrors': [], 'nInserted': 0, 'nUpserted': 0, 'nMatched': 0, 'nModified': 0, 'nRemoved': 0, 'upserted': []}"
     ]
    }
   ],
   "source": [
    "db = client[\"metflix\"]\n",
    "movies = db[\"movies\"]\n",
    "\n",
    "mylist = [\n",
    " {\"title\" : \"Rocky\", \"year\" : 1976, \"_id\" : \"tt0075148\"},\n",
    " {\"title\" : \"Jaws\", \"year\" : 1975, \"imdb\" : \"tt0073195\"},\n",
    " {\"title\" : \"Mad Max 2: The Road Warrior\", \"year\" : 1981, \"imdb\" : \"tt0082694\"},\n",
    " {\"title\" : \"Raiders of the Lost Ark\", \"year\" : 1981, \"imdb\" : \"tt0082971\"}\n",
    "]\n",
    "\n",
    "x = movies.insert_many(mylist)\n",
    "\n",
    "#print list of the _id values of the inserted documents:\n",
    "print(x.inserted_ids)"
   ]
  },
  {
   "cell_type": "code",
   "execution_count": 42,
   "metadata": {},
   "outputs": [
    {
     "name": "stdout",
     "output_type": "stream",
     "text": [
      "{'_id': 'tt0075148', 'title': 'Rocky', 'year': 1976}\n",
      "{'_id': ObjectId('6000be08f3191ee37e9f4190'), 'title': 'Jaws', 'year': 1975, 'imdb': 'tt0073195'}\n",
      "{'_id': ObjectId('6000be08f3191ee37e9f4191'), 'title': 'Mad Max 2: The Road Warrior', 'year': 1981, 'imdb': 'tt0082694'}\n",
      "{'_id': ObjectId('6000be08f3191ee37e9f4192'), 'title': 'Raiders of the Lost Ark', 'year': 1981, 'imdb': 'tt0082971'}\n"
     ]
    }
   ],
   "source": [
    "for item in movies.find():\n",
    "    print(item)"
   ]
  },
  {
   "cell_type": "code",
   "execution_count": 45,
   "metadata": {},
   "outputs": [
    {
     "name": "stdout",
     "output_type": "stream",
     "text": [
      "{'_id': 'tt0075148', 'title': 'Rocky', 'year': 1976}\n"
     ]
    }
   ],
   "source": [
    "print(movies.find_one())"
   ]
  },
  {
   "cell_type": "code",
   "execution_count": 48,
   "metadata": {},
   "outputs": [
    {
     "name": "stdout",
     "output_type": "stream",
     "text": [
      "{'_id': ObjectId('6000be08f3191ee37e9f4191'), 'title': 'Mad Max 2: The Road Warrior', 'year': 1981, 'imdb': 'tt0082694'}\n",
      "{'_id': ObjectId('6000be08f3191ee37e9f4192'), 'title': 'Raiders of the Lost Ark', 'year': 1981, 'imdb': 'tt0082971'}\n"
     ]
    }
   ],
   "source": [
    "for x in movies.find({\"year\" : 1981}):\n",
    " print(x)"
   ]
  },
  {
   "cell_type": "code",
   "execution_count": 52,
   "metadata": {},
   "outputs": [
    {
     "name": "stdout",
     "output_type": "stream",
     "text": [
      "{'_id': ObjectId('6000be08f3191ee37e9f4190'), 'title': 'Jaws', 'year': 1975, 'imdb': 'tt0073195'}\n"
     ]
    }
   ],
   "source": [
    "for x in movies.find({\"title\" : \"Jaws\"}):\n",
    " print(x)"
   ]
  },
  {
   "cell_type": "code",
   "execution_count": 1,
   "metadata": {},
   "outputs": [
    {
     "name": "stdout",
     "output_type": "stream",
     "text": [
      "connexion success\n",
      "88\n",
      "206\n"
     ]
    },
    {
     "name": "stderr",
     "output_type": "stream",
     "text": [
      "<ipython-input-1-fb9450f9e69f>:8: DeprecationWarning: count is deprecated. Use Collection.count_documents instead.\n",
      "  print(colmovies.find().count())\n",
      "<ipython-input-1-fb9450f9e69f>:9: DeprecationWarning: count is deprecated. Use Collection.count_documents instead.\n",
      "  print(colartists.find().count())\n"
     ]
    }
   ],
   "source": [
    "from pymongo import MongoClient\n",
    "client = MongoClient('mongodb://localhost:27017/')\n",
    "dbma = client.movie_artists\n",
    "colartists = dbma.colartists\n",
    "colmovies =dbma.colmovies\n",
    "print('connexion success')\n",
    "\n",
    "print(colmovies.find().count())\n",
    "print(colartists.find().count())"
   ]
  },
  {
   "cell_type": "code",
   "execution_count": 68,
   "metadata": {},
   "outputs": [
    {
     "name": "stdout",
     "output_type": "stream",
     "text": [
      "{'_id': 'movie:14', 'title': 'Seven', 'year': 1995, 'genre': 'crime', 'summary': \"A New York, un criminel anonyme a décidé de commettre 7 meurtres basés sur les 7 pêchés capitaux énoncés dans la Bible : gourmandise, avarice, paresse, orgueil, luxure, envie et colère. Vieux flic blasé à 7 jours de la retraite, l'inspecteur Somerset mène l'enquête tout en formant son remplaçant, l'ambitieux inspecteur David Mills... \", 'country': 'USA', 'director': {'_id': 'artist:31'}, 'actors': [{'_id': 'artist:18', 'role': 'Doe'}, {'_id': 'artist:22', 'role': 'Somerset'}, {'_id': 'artist:32', 'role': 'Mills'}]}\n",
      "{'_id': 'movie:16', 'title': 'Le last_name de la rose', 'year': 1986, 'genre': 'crime', 'summary': \"En l'an 1327, dans une abbaye bénédictine, le moine franciscain Guillaume de Baskerville, accompagné de son jeune novice Adso, enquête sur de mystérieuses morts qui frappent la confrérie. Le secret semble résider dans la bibliothèque, où le vieux Jorge garde jalousement un livre jugé maudit. \", 'country': 'FR', 'director': {'_id': 'artist:34'}, 'actors': [{'_id': 'artist:35', 'role': 'Baskerville'}, {'_id': 'artist:36', 'role': 'de Melk'}]}\n",
      "{'_id': 'movie:17', 'title': 'Pulp fiction', 'year': 1994, 'genre': 'Action', 'summary': \"Pulp Fiction décrit l'odyssée sanglante et burlesque de petits malfrats dans la jungle de Hollywood, ou s'entrecroisent les destins de deux petits tueurs, d'un dangereux gangster marié à une camée, d'un boxeur roublard, de prêteurs sur gages sadiques, d'un caïd élégant et dévoué, d'un dealer bon mari et de deux tourtereaux à la gachette facile... \", 'country': 'USA', 'director': {'_id': 'artist:37'}, 'actors': [{'_id': 'artist:11', 'role': 'Vincent Vega'}, {'_id': 'artist:27', 'role': 'Butch Coolidge'}, {'_id': 'artist:37', 'role': 'Jimmy Dimmick'}, {'_id': 'artist:38', 'role': 'Jules Winnfield'}, {'_id': 'artist:39', 'role': 'Jody'}, {'_id': 'artist:40', 'role': 'Mia Wallace'}, {'_id': 'artist:97', 'role': 'Capt. Koons'}, {'_id': 'artist:98', 'role': 'Winston \"The Wolf\" Wolfe'}, {'_id': 'artist:99', 'role': 'Pumpkin (Ringo)'}]}\n",
      "{'_id': 'movie:5', 'title': 'Volte/Face', 'year': 1997, 'genre': 'Action', 'summary': \"Directeur d'une unité anti-terroriste, Sean Archer recherche Castor Troy, un criminel responsable de la mort de son fils six ans plus tôt. Il parvient à l'arrêter mais apprend que Troy a caché une bombe au Palais des Congrès de Los Angeles. Seul le frère de Troy peut la désamorcer et, pour l'approcher, Archer se fait greffer le visage de Troy. \", 'country': 'USA', 'director': {'_id': 'artist:10'}, 'actors': [{'_id': 'artist:11', 'role': 'Sean Archer/Castor Troy'}, {'_id': 'artist:12', 'role': 'Castor Troy/Sean Archer'}]}\n",
      "{'_id': 'movie:3', 'title': 'Titanic', 'year': 1997, 'genre': 'drama', 'summary': \"Conduite par Brock Lovett, une expédition américaine fouillant l'épave du Titanic remonte à la surface le croquis d'une femme nue. Alertée par les médias la dame en question, Rose DeWitt Bukater, aujourd'hui centenaire, rejoint les lieux du naufrage, d'où elle entreprend de conter le récit de son fascinant, étrange et tragique voyage... \", 'country': 'USA', 'director': {'_id': 'artist:6'}, 'actors': [{'_id': 'artist:109', 'role': 'Rose DeWitt Bukater'}, {'_id': 'artist:110', 'role': 'Jack Dawson'}]}\n",
      "{'_id': 'movie:8', 'title': 'Impitoyable', 'year': 1992, 'genre': 'Western', 'summary': \"Légendaire hors-la-loi, William Munny s'est reconverti depuis onze ans en paisible fermier. Il reprend néanmoins les armes pour traquer deux tueurs en compagnie de son vieil ami Ned Logan. Mais ce dernier est capturé, puis éxécute. L'honneur et l'amitié imposent dès lors à Munny de redevenir une dernière fois le héros qu'il fut jadis... \", 'country': 'USA', 'director': {'_id': 'artist:20'}, 'actors': [{'_id': 'artist:20', 'role': 'William Munny'}, {'_id': 'artist:21', 'role': 'Little Bill Dagget'}, {'_id': 'artist:22', 'role': 'Ned Logan'}]}\n",
      "{'_id': 'movie:7', 'title': 'American Beauty', 'year': 1999, 'genre': 'Comédie', 'summary': 'Lester Burnham, sa femme Carolyn et leur fille Jane mènent apparemment une vie des plus heureuses dans leur belle banlieue. Mais derrière cette respectable façade se tisse une étrange et grinçante tragi-comédie familiale où désirs inavoués, frustrations et violences refoulées conduiront inexorablement un homme vers la mort. ', 'country': 'USA', 'director': {'_id': 'artist:17'}, 'actors': [{'_id': 'artist:18', 'role': 'Lester Burnham'}, {'_id': 'artist:19', 'role': 'Carolyn Burnham'}]}\n",
      "{'_id': 'movie:6', 'title': 'Sleepy Hollow', 'year': 1999, 'genre': 'Fantastique', 'summary': 'Nouvelle Angleterre, 1799. A Sleepy Hollow, plusieurs cadavres sont retrouvés décapités. La                                      rumeur attribue ces meurtres à un cavalier lui-même sans tête. Mais le fin limier                                      new-yorkais Ichabod Crane ne croit pas en ses aberrations. Tombé sous le charme de la                                      vénéneuse Katrina, il mène son enquête au coeur des sortilèges de Sleepy Hollow.. ', 'country': 'USA', 'director': {'_id': 'artist:13'}, 'actors': [{'_id': 'artist:14', 'role': 'Constable Ichabod Crane'}, {'_id': 'artist:96', 'role': 'Katrina Anne Van Tassel'}, {'_id': 'artist:97', 'role': 'Le cavalier'}]}\n",
      "{'_id': 'movie:19', 'title': 'Terminator', 'year': 1984, 'genre': 'Science-fiction', 'summary': \"Deux creatures venues du futur debarquent sur terre. L'une d'entre elles, le Terminator, doit eliminer une certaine Sarah Connor, qui doit enfanter celui qui sera le chef d'un groupe de resistants. L'autre, Kyle Reese, est charge par les rebelles de defendre Sarah... \", 'country': 'USA', 'director': {'_id': 'artist:6'}, 'actors': [{'_id': 'artist:44', 'role': 'Terminator'}]}\n",
      "{'_id': 'movie:25', 'title': 'Kagemusha', 'year': 1980, 'genre': 'Guerre', 'summary': \"Au XVIe siecle, Takeda, grand seigneur trouble par les guerres civiles de son pays, fait appel a un Kagemusha pour l'aider dans ses batailles. Takeda est blesse et avant de mourir, il exige que sa mort soit tenue secrete pendant trois ans afin d'eviter un eclatement du clan. Le Kagemusha devra le remplacer... \", 'country': 'JP', 'director': {'_id': 'artist:68'}, 'actors': []}\n"
     ]
    }
   ],
   "source": [
    "for movie in colmovies.find().skip(12).limit(10):\n",
    " print(movie)"
   ]
  },
  {
   "cell_type": "code",
   "execution_count": 72,
   "metadata": {},
   "outputs": [
    {
     "name": "stdout",
     "output_type": "stream",
     "text": [
      "{'_id': 'movie:12', 'title': '58 minutes pour vivre', 'year': 1990, 'genre': 'Action', 'summary': \" Venu attendre sa femme a l'aéroport, le policier John McClane remarque la présence de terroristes qui ont pris le contrôle des pistes, empêchant tout avion d'atterrir et menaçant de laisser les appareils en vol tourner jusqu'à épuisement de leur kérosène. John n'a devant lui que 58 minutes pour éviter la catastrophe... \", 'country': 'USA', 'director': {'_id': 'artist:28'}, 'actors': [{'_id': 'artist:27', 'role': 'McClane'}]}\n",
      "{'_id': 'movie:2', 'title': 'Alien', 'year': 1979, 'genre': 'Science-fiction', 'summary': 'Près d\\'un vaisseau spatial échoué sur une lointaine planète, des Terriens en mission découvrent de bien étranges \"oeufs\". Ils en ramènent un à bord, ignorant qu\\'ils viennent d\\'introduire parmi eux un huitième passager particulièrement féroce et meurtrier. ', 'country': 'USA', 'director': {'_id': 'artist:4'}, 'actors': [{'_id': 'artist:5', 'role': 'Ripley'}]}\n",
      "{'_id': 'movie:7', 'title': 'American Beauty', 'year': 1999, 'genre': 'Comédie', 'summary': 'Lester Burnham, sa femme Carolyn et leur fille Jane mènent apparemment une vie des plus heureuses dans leur belle banlieue. Mais derrière cette respectable façade se tisse une étrange et grinçante tragi-comédie familiale où désirs inavoués, frustrations et violences refoulées conduiront inexorablement un homme vers la mort. ', 'country': 'USA', 'director': {'_id': 'artist:17'}, 'actors': [{'_id': 'artist:18', 'role': 'Lester Burnham'}, {'_id': 'artist:19', 'role': 'Carolyn Burnham'}]}\n",
      "{'_id': 'movie:53', 'title': 'Bad Lieutenant', 'year': 1992, 'genre': 'drama', 'summary': \"La descente aux enfers d'un flic pourri qui enquete sur le viol d'une jolie religieuse.\", 'country': 'USA', 'director': {'_id': 'artist:122'}, 'actors': [{'_id': 'artist:98', 'role': 'Le lieutenant'}]}\n",
      "{'_id': 'movie:88', 'title': 'Batman begins', 'year': 2005, 'genre': 'Thriller', 'summary': \"Comment un homme seul peut-il changer le monde ? Telle est la question qui hante Bruce Wayne depuis cette nuit tragique où ses parents furent abattus sous ses yeux, dans une ruelle de Gotham City. Torturé par un profond sentiment de colère et de culpabilité, le jeune héritier de cette richissime famille fuit Gotham pour un long et discret voyage à travers le monde. Le but de ses pérégrinations : sublimer sa soif de vengeance en trouvant de nouveaux moyens de lutter contre l'injustice.\", 'country': 'USA', 'director': {'_id': 'artist:266'}, 'actors': [{'_id': 'artist:22', 'role': 'Lucius Fox '}, {'_id': 'artist:116', 'role': ' Jim Gordon '}, {'_id': 'artist:269', 'role': 'Alfred'}, {'_id': 'artist:274', 'role': ' Bruce Wayne / Batman '}, {'_id': 'artist:275', 'role': 'Ducard'}]}\n",
      "{'_id': 'movie:10', 'title': 'Blade Runner', 'year': 1982, 'genre': 'Action', 'summary': \"En 2019, lors de la décadence de Los Angeles, des êtres synthétiques, sans pensée, sans émotions, suffisent aux différents travaux d'entretien. Leur durée de vie n'excède pas 4 années. Un jour, ces ombres humaines se révoltent et on charge les tueurs, appelés Blade Runner, de les abattre... \", 'country': 'USA', 'director': {'_id': 'artist:4'}, 'actors': [{'_id': 'artist:24', 'role': 'Deckard'}, {'_id': 'artist:25', 'role': 'Batty'}]}\n",
      "{'_id': 'movie:72', 'title': 'Casino', 'year': 1995, 'genre': 'crime', 'summary': 'En 1973, Sam Ace Rothstein est le grand manitou de la ville de toutes les folies, Las Vegas. Il achète et épouse une virtuose de l’arnaque, Ginger Mc Kenna, qui sombre bien vite dans l’alcool et la drogue. Mais un autre ennui guette Sam, son ami d’enfance Nicky Santoro, qui entreprend de mettre la ville en coupe réglée…', 'country': 'USA', 'director': {'_id': 'artist:241'}, 'actors': [{'_id': 'artist:167', 'role': \"Sam 'Ace' Rothstein\"}, {'_id': 'artist:243', 'role': '  Nicky Santoro '}, {'_id': 'artist:245', 'role': 'Ginger McKenna'}]}\n",
      "{'_id': 'movie:73', 'title': 'Casino Royale', 'year': 2006, 'genre': 'Action', 'summary': \"Pour sa première mission, James Bond affronte le tout-puissant banquier privé du terrorisme international, Le Chiffre. Pour achever de le ruiner et démanteler le plus grand réseau criminel qui soit, Bond doit le battre lors d'une partie de poker à haut risque au Casino Royale. La très belle Vesper, attachée au Trésor, l'accompagne afin de veiller à ce que l'agent 007 prenne soin de l'argent du gouvernement britannique qui lui sert de mise, mais rien ne va se passer comme prévu.Alors que Bond et Vesper s'efforcent d'échapper aux tentatives d'assassinat du Chiffre et de ses hommes, d'autres sentiments surgissent entre eux, ce qui ne fera que les rendre plus vulnérables... \", 'country': 'USA', 'director': {'_id': 'artist:246'}, 'actors': [{'_id': 'artist:247', 'role': 'James Bond'}, {'_id': 'artist:248', 'role': 'Vesper Lynd'}]}\n",
      "{'_id': 'movie:51', 'title': 'De bruit et de fureur', 'year': 1988, 'genre': 'drama', 'summary': \"L'histoire de Bruno, enfant attardé des banlieues et des H.L.M., plongé dans la violence de son milieu, et dont la vie va se consumer comme une étoile filante.\", 'country': 'FR', 'director': {'_id': 'artist:138'}, 'actors': [{'_id': 'artist:139', 'role': 'Marcel'}, {'_id': 'artist:140', 'role': 'Enseignante'}, {'_id': 'artist:141', 'role': 'Bruno'}]}\n",
      "{'_id': 'movie:78', 'title': 'Django unchained', 'year': 2012, 'genre': 'Western', 'summary': 'Dans le sud des États-Unis, deux ans avant la guerre de Sécession, le Dr King Schultz, un chasseur de primes allemand, fait l’acquisition de Django, un esclave qui peut l’aider à traquer les frères Brittle, les meurtriers qu’il recherche. Schultz promet à Django de lui rendre sa liberté lorsqu’il aura capturé les Brittle – morts ou vifs.Alors que les deux hommes pistent les dangereux criminels, Django n’oublie pas que son seul but est de retrouver Broomhilda, sa femme, dont il fut séparé à cause du commerce des esclaves…Lorsque Django et Schultz arrivent dans l’immense plantation du puissant Calvin Candie, ils éveillent les soupçons de Stephen, un esclave qui sert Candie et a toute sa confiance. Le moindre de leurs mouvements est désormais épié par une dangereuse organisation de plus en plus proche… Si Django et Schultz veulent espérer s’enfuir avec Broomhilda, ils vont devoir choisir entre l’indépendance et la solidarité, entre le sacrifice et la survie…', 'country': 'USA', 'director': {'_id': 'artist:37'}, 'actors': [{'_id': 'artist:110', 'role': 'Calvin Candie'}, {'_id': 'artist:212', 'role': 'Stephen'}, {'_id': 'artist:255', 'role': 'Django'}, {'_id': 'artist:256', 'role': 'Dr. King Schultz'}]}\n",
      "{'_id': 'movie:37', 'title': 'Eyes Wide Shut', 'year': 1999, 'genre': 'Thriller', 'summary': \"Un couple de bourgeois, cédant à la jalousie et à l'obsession sexuelle, entreprend un voyage psychologique à la recherche de son identité. Le mari, au bout de son périple nocturne, revenu de ses désirs, ne trouvera finalement auprès de son épouse qu'un compromis banal mais complice, les yeux ouverts à tout jamais sur un rêve impossible. \", 'country': 'USA', 'director': {'_id': 'artist:101'}, 'actors': [{'_id': 'artist:65', 'role': 'Docteur William \"Bill\" Harford'}, {'_id': 'artist:102', 'role': 'Alice Harford'}]}\n",
      "{'_id': 'movie:77', 'title': 'Fargo', 'year': 1996, 'genre': 'crime', 'summary': \"En plein hiver, Jerry Lundegaard, un vendeur de voitures d'occasion à Minneapolis, a besoin d'un prêt de Wade Gustafson, son riche beau-père. Endetté jusqu'au cou, il fait appel à Carl Showalter et Gaear Grimsrud, deux malfrats, pour qu'ils enlèvent son épouse Jean. Il pourra ainsi partager avec les ravisseurs la rançon que Wade paiera pour la libération de sa fille. Mais les choses ne vont pas se dérouler comme prévu. \", 'country': 'USA', 'director': {'_id': 'artist:251'}, 'actors': [{'_id': 'artist:217', 'role': 'Carl Showalter'}, {'_id': 'artist:254', 'role': ' Jerry Lundegaard '}]}\n",
      "{'_id': 'movie:40', 'title': 'Fenêtre sur cour', 'year': 1954, 'genre': 'Suspense', 'summary': \"En repos forcé à cause d'une jambe plâtrée, le reporter L.B. Jefferies observe au téléobjectif les voisins de l'immeuble d'en face. C'est ainsi qu'il remarque le curieux manège d'un représentant de commerce, M. Thorwald, qu'il soupconne très vite d'avoir assassiné sa femme... \", 'country': 'USA', 'director': {'_id': 'artist:3'}, 'actors': []}\n",
      "{'_id': 'movie:9', 'title': 'Gladiator', 'year': 2000, 'genre': 'drama', 'summary': \"Le général romain Maximus est le plus fidèle                    soutien de l'empereur Marc Aurèle, qu'il a                    conduit de victoire en victoire avec une                    bravoure et un dévouement exemplaires.                    Jaloux du prestige de Maximus, et plus                    encore de l'amour que lui voue l'empereur,                    le fils de Marc-Aurèle, Commode, s'arroge                    brutalement le pouvoir, puis ordonne                    l'arrestation du général et son exécution.                    Maximus échappe à ses assassins mais ne peut                    empêcher le massacre de sa famille. Capturé                    par un marchand d'esclaves, il devient                    gladiateur et prépare sa vengeance.\", 'country': 'USA', 'director': {'_id': 'artist:4'}, 'actors': [{'_id': 'artist:23', 'role': 'Maximus'}, {'_id': 'artist:147', 'role': 'Commode'}, {'_id': 'artist:148', 'role': 'Lucilla'}, {'_id': 'artist:149', 'role': 'Marc Aurele'}]}\n",
      "{'_id': 'movie:22', 'title': 'Godzilla', 'year': 1998, 'genre': 'Action', 'summary': \"Issu des radiations atomiques engendrées par les essais nucléaires en Polynésie, un monstre gigantesque, aussi haut qu'un building, se dirige vers New York, semant le chaos sur son passage. Pour tenter de stopper cette créature destructrice, l'armée s'associe à une équipe de scientifiques américains et à un énigmatique enquêteur français... \", 'country': 'USA', 'director': {'_id': 'artist:58'}, 'actors': [{'_id': 'artist:59', 'role': 'Dr. Nikos Tatopoulos'}, {'_id': 'artist:60', 'role': 'Philippe Roaché'}]}\n",
      "{'_id': 'movie:69', 'title': 'Heat', 'year': 1995, 'genre': 'crime', 'summary': 'La bande de Neil McCauley à laquelle est venu se greffer Waingro, une nouvelle recrue, attaque un fourgon blindé pour s\\'emparer d\\'une somme importante en obligations. Cependant, ce dernier tue froidement l\\'un des convoyeurs et Chris Shiherlis se retrouve obligé de \"terminer le travail\". Neil tente d\\'éliminer Waingro, mais celui-ci parvient à s\\'échapper. Parallèlement, le lieutenant Vincent Hanna mène l\\'enquête...', 'country': 'USA', 'director': {'_id': 'artist:175'}, 'actors': [{'_id': 'artist:167', 'role': None}]}\n",
      "{'_id': 'movie:8', 'title': 'Impitoyable', 'year': 1992, 'genre': 'Western', 'summary': \"Légendaire hors-la-loi, William Munny s'est reconverti depuis onze ans en paisible fermier. Il reprend néanmoins les armes pour traquer deux tueurs en compagnie de son vieil ami Ned Logan. Mais ce dernier est capturé, puis éxécute. L'honneur et l'amitié imposent dès lors à Munny de redevenir une dernière fois le héros qu'il fut jadis... \", 'country': 'USA', 'director': {'_id': 'artist:20'}, 'actors': [{'_id': 'artist:20', 'role': 'William Munny'}, {'_id': 'artist:21', 'role': 'Little Bill Dagget'}, {'_id': 'artist:22', 'role': 'Ned Logan'}]}\n",
      "{'_id': 'movie:86', 'title': 'Inception', 'year': 2010, 'genre': 'Science-fiction', 'summary': 'Dom Cobb est un voleur expérimenté – le meilleur qui soit dans l’art périlleux de l’extraction : sa spécialité consiste à s’approprier les secrets les plus précieux d’un individu, enfouis au plus profond de son subconscient, pendant qu’il rêve et que son esprit est particulièrement vulnérable. Très recherché pour ses talents dans l’univers trouble de l’espionnage industriel, Cobb est aussi devenu un fugitif traqué dans le monde entier qui a perdu tout ce qui lui est cher. Mais une ultime mission pourrait lui permettre de retrouver sa vie d’avant – à condition qu’il puisse accomplir l’impossible : l’inception. Au lieu de subtiliser un rêve, Cobb et son équipe doivent faire l’inverse : implanter une idée dans l’esprit d’un individu. S’ils y parviennent, il pourrait s’agir du crime parfait. Et pourtant, aussi méthodiques et doués soient-ils, rien n’aurait pu préparer Cobb et ses partenaires à un ennemi redoutable qui semble avoir systématiquement un coup d’avance sur eux. Un ennemi dont seul Cobb aurait pu soupçonner l’existence. ', 'country': 'USA', 'director': {'_id': 'artist:266'}, 'actors': [{'_id': 'artist:110', 'role': 'Cobb'}, {'_id': 'artist:269', 'role': 'Miles'}, {'_id': 'artist:270', 'role': 'Ariadne'}, {'_id': 'artist:271', 'role': 'Mal'}]}\n",
      "{'_id': 'movie:79', 'title': 'Inglourious Basterds', 'year': 209, 'genre': 'Guerre', 'summary': 'Dans la France occupée de 1940, Shosanna Dreyfus assiste à l\\'exécution de sa famille tombée entre les mains du colonel nazi Hans Landa. Shosanna s\\'échappe de justesse et s\\'enfuit à Paris où elle se construit une nouvelle identité en devenant exploitante d\\'une salle de cinéma.Quelque part ailleurs en Europe, le lieutenant Aldo Raine forme un groupe de soldats juifs américains pour mener des actions punitives particulièrement sanglantes contre les nazis. \"Les bâtards\", last_name sous lequel leurs ennemis vont apprendre à les connaître, se joignent à l\\'actrice allemande et agent secret Bridget von Hammersmark pour tenter d\\'éliminer les hauts dignitaires du Troisième Reich. Leurs destins vont se jouer à l\\'entrée du cinéma où Shosanna est décidée à mettre à exécution une vengeance très personnelle... ', 'country': 'USA', 'director': {'_id': 'artist:37'}, 'actors': []}\n",
      "{'_id': 'movie:80', 'title': 'Inglourious Basterds', 'year': 2009, 'genre': 'Guerre', 'summary': 'Dans la France occupée de 1940, Shosanna Dreyfus assiste à l\\'exécution de sa famille tombée entre les mains du colonel nazi Hans Landa. Shosanna s\\'échappe de justesse et s\\'enfuit à Paris où elle se construit une nouvelle identité en devenant exploitante d\\'une salle de cinéma.Quelque part ailleurs en Europe, le lieutenant Aldo Raine forme un groupe de soldats juifs américains pour mener des actions punitives particulièrement sanglantes contre les nazis. \"Les bâtards\", last_name sous lequel leurs ennemis vont apprendre à les connaître, se joignent à l\\'actrice allemande et agent secret Bridget von Hammersmark pour tenter d\\'éliminer les hauts dignitaires du Troisième Reich. Leurs destins vont se jouer à l\\'entrée du cinéma où Shosanna est décidée à mettre à exécution une vengeance très personnelle... ', 'country': 'USA', 'director': {'_id': 'artist:37'}, 'actors': [{'_id': 'artist:32', 'role': 'Lt. Aldo Raine'}, {'_id': 'artist:256', 'role': 'Col. Hans Landa'}, {'_id': 'artist:257', 'role': 'Shoshana'}, {'_id': 'artist:258', 'role': 'Lt. Archie Hicox'}]}\n",
      "{'_id': 'movie:85', 'title': 'Interstellar', 'year': 2014, 'genre': 'Science-fiction', 'summary': 'Le film raconte les aventures d’un groupe d’explorateurs qui utilisent une faille récemment découverte dans l’espace-temps afin de repousser les limites humaines et partir à la conquête des distances astrolast_nameiques dans un voyage interstellaire.', 'country': 'USA', 'director': {'_id': 'artist:266'}, 'actors': [{'_id': 'artist:267', 'role': 'Cooper'}, {'_id': 'artist:268', 'role': '   Brand '}, {'_id': 'artist:269', 'role': 'Professor Brand'}]}\n",
      "{'_id': 'movie:57', 'title': 'Jackie Brown', 'year': 1997, 'genre': 'crime', 'summary': \"Jackie Brown, hôtesse de l'air, arrondit ses fins de mois en convoyant de l'argent liquide pour le compte d'un trafiquant d'armes, Ordell Robbie. Un jour, un agent federal et un policier de Los Angeles la cueillent à l'aéroport. Ils comptent sur elle pour faire tomber le trafiquant. Jackie échafaude alors un plan audacieux pour doubler tout le monde lors d'un prochain transfert qui porte sur la modeste somme de cinq cent mille dollars. Mais il lui faudra compter avec les complices d'Ordell, qui ont des méthodes plutôt expéditives.\", 'country': 'USA', 'director': {'_id': 'artist:37'}, 'actors': [{'_id': 'artist:167', 'role': 'Luis Gara'}, {'_id': 'artist:168', 'role': 'Jackie Brown'}, {'_id': 'artist:169', 'role': 'Melanie'}, {'_id': 'artist:170', 'role': 'Ray Nicolette'}, {'_id': 'artist:212', 'role': 'Ordell Robbie'}]}\n",
      "{'_id': 'movie:42', 'title': \"Jeanne d'Arc\", 'year': 1999, 'genre': 'Guerre', 'summary': None, 'country': 'FR', 'director': {'_id': 'artist:111'}, 'actors': [{'_id': 'artist:80', 'role': None}, {'_id': 'artist:112', 'role': \"Jeanne d'Arc\"}, {'_id': 'artist:113', 'role': \"Yolande d'Aragon\"}, {'_id': 'artist:114', 'role': 'Charles VII'}, {'_id': 'artist:115', 'role': 'Dunois'}]}\n",
      "{'_id': 'movie:25', 'title': 'Kagemusha', 'year': 1980, 'genre': 'Guerre', 'summary': \"Au XVIe siecle, Takeda, grand seigneur trouble par les guerres civiles de son pays, fait appel a un Kagemusha pour l'aider dans ses batailles. Takeda est blesse et avant de mourir, il exige que sa mort soit tenue secrete pendant trois ans afin d'eviter un eclatement du clan. Le Kagemusha devra le remplacer... \", 'country': 'JP', 'director': {'_id': 'artist:68'}, 'actors': []}\n",
      "{'_id': 'movie:61', 'title': 'Kill Bill', 'year': 2003, 'genre': 'drama', 'summary': \"Au cours d'une cérémonie de mariage en plein désert, un commando fait irruption dans la chapelle et tire sur les convives. Laissée pour morte, la Mariée enceinte retrouve ses esprits après un coma de quatre ans.Celle qui a auparavant exercé les fonctions de tueuse à gages au sein du Détachement International des Vipères Assassines n'a alors plus qu'une seule idée en tête : venger la mort de ses proches en éliminant tous les membres de l'organisation criminelle, dont leur chef Bill qu'elle se réserve pour la fin.\", 'country': 'USA', 'director': {'_id': 'artist:37'}, 'actors': [{'_id': 'artist:40', 'role': 'La mariée, alias \"Black Mamba\"'}, {'_id': 'artist:213', 'role': 'O-Ren Ishii'}, {'_id': 'artist:214', 'role': 'Bill'}, {'_id': 'artist:215', 'role': 'Budd / Sidewinder'}, {'_id': 'artist:216', 'role': 'Elle Driver'}]}\n",
      "{'_id': 'movie:48', 'title': 'King of New York', 'year': 1990, 'genre': 'drama', 'summary': \"L'histoire d'un gangster au grand coeur mais aux méthodes définitives, surlast_namemé par le presse The King of New York et qui rêve de fonder un hôpital, confronté a des policiers opiniâtres qui ont juré de l'abattre...\", 'country': 'USA', 'director': {'_id': 'artist:122'}, 'actors': [{'_id': 'artist:63', 'role': 'Jimmy Jump'}, {'_id': 'artist:97', 'role': 'Frank White'}, {'_id': 'artist:124', 'role': 'Thomas Flanigan'}, {'_id': 'artist:131', 'role': 'Dennis Gilley'}, {'_id': 'artist:132', 'role': 'Thomas Flanigan'}, {'_id': 'artist:217', 'role': 'Test tube'}]}\n",
      "{'_id': 'movie:41', 'title': 'La mort aux trousses', 'year': 1959, 'genre': 'Suspense', 'summary': \"Roger Thornhill, publiciste, est pris dans le hall de son hôtel pour un certain Kaplan, un espion. Deux hommes tentent de le tuer et quand il retrouve l'un de ses agresseurs, celui-ci est assassiné devant ses yeux. Pris pour un meurtrier, il est obligé de fuir vers Chicago... \", 'country': 'USA', 'director': {'_id': 'artist:3'}, 'actors': [{'_id': 'artist:105', 'role': 'Roger O. Thornhill'}, {'_id': 'artist:106', 'role': 'Eve Kendall'}, {'_id': 'artist:107', 'role': 'Philipp Vandamm'}]}\n",
      "{'_id': 'movie:32', 'title': 'Le bon, la brute et le truand', 'year': 1966, 'genre': 'Western', 'summary': \"Pendant la Guerre de Sécession, trois hommes, préférant s'intéresser à leur profit personnel, se lancent à la recherche d'un coffre contenant 200 000 dollars en pièces d'or volés à l'armée sudiste. Tuco sait que le trésor se trouve dans un cimetière, tandis que Joe connaît le last_name inscrit sur la pierre tombale qui sert de cache. Chacun a besoin de l'autre. Mais un troisième homme entre dans la course : Setenza, une brute qui n'hésite pas à massacrer femmes et enfants pour parvenir à ses fins.\", 'country': 'IT', 'director': {'_id': 'artist:219'}, 'actors': [{'_id': 'artist:20', 'role': None}]}\n",
      "{'_id': 'movie:43', 'title': 'Le cinquième élément', 'year': 1997, 'genre': 'Science-fiction', 'summary': \"Au XXIIIème siècle, dans un univers étrange et coloré, où tout espoir de survie est impossible sans la découverte du Cinquième Elément, un héros peu ordinaire affronte le mal pour sauver l'humanité. \", 'country': 'FR', 'director': {'_id': 'artist:111'}, 'actors': [{'_id': 'artist:27', 'role': 'Major Korben Dalla'}, {'_id': 'artist:112', 'role': 'Leeloo'}, {'_id': 'artist:116', 'role': 'Jean-Baptiste Emmanuel Zorg'}, {'_id': 'artist:117', 'role': 'Vito Cornelius'}]}\n",
      "{'_id': 'movie:82', 'title': 'Le dernier métro', 'year': 1980, 'genre': 'drama', 'summary': 'Paris, septembre 1942. Lucas Steiner, le directeur du théâtre Montmartre a dû fuir parce qu’il est juif. Sa femme Marion Steiner dirige le théâtre et engage Bernard Granger, transfuge du Grand Guignol, pour jouer à ses côtés dans « la Disparue », que met en scène Jean-Louis Cottins. Jusqu’au soir de la générale, la troupe subit les menaces du virulent critique de « Je suis partout », Daxiat, dont l’ambition est de diriger la Comédie-Française. Et si, par amour pour sa femme, Lucas Steiner avait fait semblant de fuir la France et était resté caché dans la cave de son théâtre pendant toute la guerre…. ', 'country': 'FR', 'director': {'_id': 'artist:259'}, 'actors': [{'_id': 'artist:130', 'role': 'Marion Steiner'}, {'_id': 'artist:261', 'role': 'Bernard Granger'}, {'_id': 'artist:262', 'role': 'Jean-Loup Cottins'}]}\n",
      "{'_id': 'movie:27', 'title': 'Le gendarme et les extra-terrestres', 'year': 1978, 'genre': 'Comédie', 'summary': 'En anglais: Gendarme and the Creatures from Outer Space !', 'country': 'FR', 'director': {'_id': 'artist:71'}, 'actors': [{'_id': 'artist:72', 'role': 'Inspecteur Cruchot'}, {'_id': 'artist:73', 'role': 'Adjudant Gerber'}]}\n",
      "{'_id': 'movie:46', 'title': 'Le grand bleu', 'year': 1988, 'genre': 'drama', 'summary': \"Jacques Mayol et Enzo Molinari se connaissent depuis l'enfance. Tous deux experts en apnée, s'affrontent continuellement pour obtenir le record du monde de plongée. Toujours en rivalité, les deux hommes descendent de plus en plus profond, au risque de leurs vies. Le film est ressorti en janvier 89 en version longue d'une durée de 2h40. \", 'country': 'FR', 'director': {'_id': 'artist:111'}, 'actors': [{'_id': 'artist:39', 'role': 'Johanna'}, {'_id': 'artist:60', 'role': 'Enzo Molinari'}, {'_id': 'artist:121', 'role': 'Jacques Mayol'}]}\n",
      "{'_id': 'movie:16', 'title': 'Le last_name de la rose', 'year': 1986, 'genre': 'crime', 'summary': \"En l'an 1327, dans une abbaye bénédictine, le moine franciscain Guillaume de Baskerville, accompagné de son jeune novice Adso, enquête sur de mystérieuses morts qui frappent la confrérie. Le secret semble résider dans la bibliothèque, où le vieux Jorge garde jalousement un livre jugé maudit. \", 'country': 'FR', 'director': {'_id': 'artist:34'}, 'actors': [{'_id': 'artist:35', 'role': 'Baskerville'}, {'_id': 'artist:36', 'role': 'de Melk'}]}\n",
      "{'_id': 'movie:28', 'title': 'Le monde perdu', 'year': 1997, 'genre': 'Horreur', 'summary': None, 'country': 'USA', 'director': {'_id': 'artist:45'}, 'actors': [{'_id': 'artist:57', 'role': 'Dr. Ian Malcolm'}]}\n",
      "{'_id': 'movie:54', 'title': 'Le parrain', 'year': 1972, 'genre': 'drama', 'summary': 'En 1945, à New York, les Corleone sont une des cinq familles de la mafia. Don Vito Corleone, \" parrain \" de cette famille, marie sa fille à un bookmaker. Sollozzo, \" parrain \" de la famille Tattaglia, propose à Don Vito une association dans le trafic de drogue, mais celui-ci refuse. Sonny, un de ses fils, y est quant à lui favorable.Afin de traiter avec Sonny, Sollozzo tente de faire tuer Don Vito, mais celui-ci en réchappe. Michael, le frère cadet de Sonny, recherche alors les commanditaires de l\\'attentat et tue Sollozzo et le chef de la police, en représailles.Michael part alors en Sicile, où il épouse Apollonia, mais celle-ci est assassinée à sa place. De retour à New York, Michael épouse Kay Adams et se prépare à devenir le successeur de son père...', 'country': 'USA', 'director': {'_id': 'artist:181'}, 'actors': [{'_id': 'artist:137', 'role': 'Sonny Corleone'}, {'_id': 'artist:155', 'role': 'Capt. McCluskey'}, {'_id': 'artist:176', 'role': 'Michael Corleone'}, {'_id': 'artist:182', 'role': 'Do Vito Corleone'}, {'_id': 'artist:183', 'role': 'Kay Adams'}, {'_id': 'artist:184', 'role': 'Tom Hagen'}]}\n",
      "{'_id': 'movie:55', 'title': 'Le parrain II', 'year': 1974, 'genre': 'drama', 'summary': 'A la mort de Vito Corleone, dit \"le Parrain\", c\\'est son fils, Michael, qui reprend les affaires familiales. Très vite, son ascension dans le milieu mafiosi est fulgurante.Depuis la mort De Don Vito Corleone, son fils, Michael, règne sur la famille. Amené à négocier avec la mafia juive, il perd alors le soutien d\\'un de ses lieutenants, Frankie Pentageli. Echappant de justesse à un attentat, Michael tente de retrouver le coupable, soupçonnant Hyman Roth, le chef de la mafia juive.Vito Corleone, immigrant italien, arrive à New York au début du siècle ; très vite, il devient un des caïds du quartier, utilisant la violence comme moyen de régler toutes les affaires. Seul au départ, il bâtit peu à peu un véritable empire, origine de la fortune de la famille des Corleone. ', 'country': 'USA', 'director': {'_id': 'artist:181'}, 'actors': [{'_id': 'artist:167', 'role': 'Don Vito Corleone'}, {'_id': 'artist:176', 'role': 'Michael Corleone'}, {'_id': 'artist:183', 'role': 'Kay Adams'}, {'_id': 'artist:184', 'role': 'Tom Hagen'}]}\n",
      "{'_id': 'movie:56', 'title': 'Le parrain III', 'year': 1990, 'genre': 'drama', 'summary': \"Atteignant la soixantaine, Michael Corleone désire à la fois renouer avec les siens et se réhabiliter aux yeux de la société, surtout de l'Eglise. Il arrivera presque a ses fins, mais sa vie passée et ses anciens ennemis le rattraperont plus vite.Michael Corleone est fatigué. Il veut prendre ses distances avec les activités mafieuses de sa famille. Il veut convertir ces activités en affaires légales. Kay, son ex-femme, lui fait même accepter que leur fils devienne un chanteur d'opéra et ne reprenne pas les activités familiales.Pendant ce temps, la fille de Michael, Mary, et son neveu, le fils de Sonny, Vincent, nouent une idylle qui n'est pas la bienvenue dans la famille.Il décide d'aider le Vatican à renflouer ses caisses et reçoit en échange le contrôle d'une entreprise immobilière leur appartenant. Attisant la jalousie de ses pairs, Michael échappe de justesse à un attentat commis par l'un d'eux. Vincent se propose alors pour reprendre les affaires de la famille en main.\", 'country': 'USA', 'director': {'_id': 'artist:181'}, 'actors': [{'_id': 'artist:1', 'role': 'Mary Corleone'}, {'_id': 'artist:176', 'role': 'Michael Corleone'}, {'_id': 'artist:183', 'role': 'Kay Adams'}, {'_id': 'artist:186', 'role': 'Vincent Mancini'}]}\n",
      "{'_id': 'movie:34', 'title': 'Le retour du Jedi', 'year': 1983, 'genre': 'Science-fiction', 'summary': 'Luke Skywalker s\\'introduit chez Jabba pour delivrer Han Solo et la princesse Leia, tandis que l\\'Empire reconstruit une deuxieme \"Etoile de la Mort\". Luke se rend ensuite au chevet de Yoda qui est mourant. Il lui apprend que Leia est sa soeur. Luke forme un commando pour attaquer l\\'Etoile, tandis qu\\'il affronte son pere, Darth Vador... ', 'country': 'USA', 'director': {'_id': 'artist:91'}, 'actors': [{'_id': 'artist:24', 'role': 'Han Solo'}, {'_id': 'artist:92', 'role': 'Luke Skywalker'}, {'_id': 'artist:93', 'role': 'Princesse Leia'}]}\n",
      "{'_id': 'movie:21', 'title': 'Le silence des agneaux', 'year': 1990, 'genre': 'crime', 'summary': \"Afin de retrouver la piste d'un tueur surlast_namemé Buffalo Bill car il scalpe les femmes qu'il assassine, la jeune stagiaire du FBI Clarice Starling est dépêchée auprès d'Hannibal Lecter, prisonnier pour avoir dévoré ses victimes. La coopération de ce dernier devrait permettre à Clarice de saisir et d'anticiper le comportement de Buffalo... \", 'country': 'USA', 'director': {'_id': 'artist:49'}, 'actors': [{'_id': 'artist:50', 'role': 'Dr. Hannibal Lecter'}, {'_id': 'artist:51', 'role': 'Clarice Starling'}]}\n",
      "{'_id': 'movie:71', 'title': 'Les affranchis', 'year': 1990, 'genre': 'crime', 'summary': \"Depuis sa plus tendre enfance, Henry Hill, né d'un père irlandais et d'une mère sicilienne, veut devenir gangster et appartenir à la Mafia. Adolescent dans les années cinquante, il commence par travailler pour le compte de Paul Cicero et voue une grande admiration pour Jimmy Conway, qui a fait du détournement de camions sa grande spécialité. Lucide et ambitieux, il contribue au casse des entrepôts de l'aéroport d'Idlewild et épouse Karen, une jeune Juive qu'il trompe régulièrement. Mais son implication dans le trafic de drogue le fera plonger...\", 'country': 'USA', 'director': {'_id': 'artist:241'}, 'actors': [{'_id': 'artist:167', 'role': 'James Conway'}, {'_id': 'artist:242', 'role': 'Henry Hill'}, {'_id': 'artist:243', 'role': 'Tommy DeVito'}, {'_id': 'artist:244', 'role': 'Karen Hill'}]}\n",
      "{'_id': 'movie:31', 'title': 'Les bronzés font du ski', 'year': 1979, 'genre': 'Comédie', 'summary': 'Apres avoir passe des vacances d\\'ete ensemble, Bernard, Nathalie, Gigi, Jerome, Popeye, Jean-Claude et Christiane se retrouvent aux sports d\\'hiver. Tous ont leurs problemes de coeur ou d\\'argent, mais il faut bien vivre avec. Avant de se separer, se perdre dans la montagne leur permet de gouter aux joies de la \"vraie vie\" paysanne... ', 'country': 'FR', 'director': {'_id': 'artist:83'}, 'actors': [{'_id': 'artist:75', 'role': 'Nathalie Morin'}, {'_id': 'artist:76', 'role': 'Christiane'}, {'_id': 'artist:84', 'role': 'Jean-Claude Dus'}, {'_id': 'artist:85', 'role': 'Jérôme'}, {'_id': 'artist:86', 'role': 'Popeye'}]}\n",
      "{'_id': 'movie:20', 'title': 'Les dents de la mer', 'year': 1975, 'genre': 'Horreur', 'summary': \"Dans la station balnéaire d'Amityville, un requin géant frappe à plusieurs reprises. Soucieux d'une bonne saison touristique, le maire interdit au sherif Brody de fermer les plages. Une prime est offerte et le célèbre chasseur de requin Quint se lance avec Brody et l'ichtyologue Hooper à la poursuite du monstre... \", 'country': 'FR', 'director': {'_id': 'artist:45'}, 'actors': [{'_id': 'artist:46', 'role': 'Martin Brody'}, {'_id': 'artist:47', 'role': 'Quint'}, {'_id': 'artist:48', 'role': 'Matt Hooper'}]}\n",
      "{'_id': 'movie:35', 'title': 'Les oiseaux', 'year': 1963, 'genre': 'Horreur', 'summary': \"Melanie Daniels se rend à Bodega Bay pour offrir deux perruches en cage à Cathy, la soeur de l'avocat Mitch Brenner. Attaquée par une mouette, Melanie reste chez les Brenner pour la nuit. Mais d'autres évènements étranges se produisent: des enfants sont blessés par des corbeaux et la maison de Mitch est envahie par des milliers d'oiseaux. \", 'country': 'USA', 'director': {'_id': 'artist:3'}, 'actors': [{'_id': 'artist:94', 'role': 'Mitch Brenner'}, {'_id': 'artist:95', 'role': 'Melanie Daniels'}]}\n",
      "{'_id': 'movie:26', 'title': 'Les pleins pouvoirs', 'year': 1997, 'genre': 'crime', 'summary': \"Luther Whitney est l'as des cambrioleurs. Occupé à vider le coffre de l'influent Walter Sullivan, il est témoin d'un meurtre sadique impliquant le Président des Etats-Unis et les services secrets. Soupçonné par la police d'en être l'auteur, il se retrouve également traqué par les tueurs, qui ont compris qu'ils ont été observés.\", 'country': 'USA', 'director': {'_id': 'artist:20'}, 'actors': [{'_id': 'artist:20', 'role': 'Luther Whitney'}, {'_id': 'artist:21', 'role': 'Le président Richmond'}, {'_id': 'artist:69', 'role': 'Seth Frank'}]}\n",
      "{'_id': 'movie:81', 'title': 'Les quatre cents coups', 'year': 1959, 'genre': 'drama', 'summary': \"Antoine a une adolescence turbulente. Il ment à ses parents indifférents à son sort, vole, fugue. Son seul réconfort, il fait les quatre cents coups avec son ami René. Un jour, la police s'en mêle. \", 'country': 'FR', 'director': {'_id': 'artist:259'}, 'actors': [{'_id': 'artist:260', 'role': 'Antoine Doinel'}]}\n",
      "{'_id': 'movie:60', 'title': 'Lost in Translation', 'year': 2003, 'genre': 'romance', 'summary': \"Bob Harris, acteur sur le déclin, se rend à Tokyo pour touner un spot publicitaire. Il a conscience qu'il se trompe - il devrait être chez lui avec sa famille, jouer au théâtre ou encore chercher un rôle dans un film -, mais il a besoin d'argent.Du haut de son hôtel de luxe, il contemple la ville, mais ne voit rien. Il est ailleurs, détaché de tout, incapable de s'intégrer à la réalité qui l'entoure, incapable également de dormir à cause du décalage horaire.Dans ce même établissement, Charlotte, une jeune Américaine fraîchement diplômée, accompagne son mari, photographe de mode. Ce dernier semble s'intéresser davantage à son travail qu'à sa femme. Se sentant délaissée, Charlotte cherche un peu d'attention. Elle va en trouver auprès de Bob...\", 'country': 'USA', 'director': {'_id': 'artist:172'}, 'actors': [{'_id': 'artist:173', 'role': 'Bob Harris'}, {'_id': 'artist:174', 'role': 'Charlotte'}, {'_id': 'artist:175', 'role': 'John'}, {'_id': 'artist:176', 'role': 'Kelly'}, {'_id': 'artist:177', 'role': 'Patron Nightclub'}]}\n",
      "{'_id': 'movie:44', 'title': 'Léon', 'year': 1994, 'genre': 'Action', 'summary': '\"Léon est un tueur. Un de la pire espèce. Il est introuvable, indétectable, pire qu\\'un sous-marin. Son ombre est comme une menace de danger permanent sur New York. Indestructible Léon ? Oui, jusqu\\'à ce qu\\'une petite souris pénètre son univers. Une toute petite souris aux yeux immenses...\" ', 'country': 'FR', 'director': {'_id': 'artist:111'}, 'actors': [{'_id': 'artist:60', 'role': 'Léon'}, {'_id': 'artist:116', 'role': 'Norman Stansfield'}, {'_id': 'artist:118', 'role': 'Mathilda'}]}\n",
      "{'_id': 'movie:67', 'title': 'Marie Antoinette', 'year': 2006, 'genre': 'drama', 'summary': \"Based on Antonia Fraser's book about the ill-fated  Archduchess of Austria and later Queen of France,  'Marie Antoinette' tells the story of the most  misunderstood and abused woman in history, from  her birth in Imperial Austria to her later life in  France. \", 'country': 'USA', 'director': {'_id': 'artist:1'}, 'actors': [{'_id': 'artist:2', 'role': 'Marie Antoinette'}]}\n",
      "{'_id': 'movie:18', 'title': 'Mary à tout prix', 'year': 1998, 'genre': 'Comédie', 'summary': \"Pour retrouver l'amour de sa jeunesse, la belle Mary, Ted-le-looser engage Pat Healy, un privé. Subjugé par la jeune femme, ce dernier tente de la séduire en se faisant passer pour un architecte. Il cache la vérité à Ted et fait cause commune avec Tucker, un autre prétendant, pour se débarrasser de l'encombrant Ted... \", 'country': 'USA', 'director': {'_id': 'artist:41'}, 'actors': [{'_id': 'artist:42', 'role': 'Mary Jensen Matthews'}, {'_id': 'artist:43', 'role': 'Pat Healy'}]}\n",
      "{'_id': 'movie:23', 'title': 'Matrix', 'year': 1999, 'genre': 'Science-fiction', 'summary': \"Dans un monde où tout ce qui semble réel est en fait élaboré par l'univers électronique baptisé la Matrice, Néo, un programmeur, est contacté par un certain Morpheus. D'après lui, Néo serait le Libérateur tant attendu, le seul capable de mettre en échec l'omnipotence de la Matrice et rendre ses droits à la réalité... \", 'country': 'USA', 'director': {'_id': 'artist:61'}, 'actors': [{'_id': 'artist:62', 'role': 'Neo'}, {'_id': 'artist:63', 'role': 'Morpheus'}]}\n",
      "{'_id': 'movie:87', 'title': 'Memento', 'year': 2000, 'genre': 'Thriller', 'summary': \"Leonard Shelby ne porte que des costumes de grands couturiers et ne se déplace qu'au volant de sa Jaguar. En revanche, il habite dans des motels miteux et règle ses notes avec d'épaisses liasses de billets.Leonard n'a qu'une idée en tête : traquer l'homme qui a violé et assassiné sa femme afin de se venger. Sa recherche du meurtrier est rendue plus difficile par le fait qu'il souffre d'une forme rare et incurable d'amnésie. Bien qu'il puisse se souvenir de détails de son passé, il est incapable de savoir ce qu'il a fait dans le quart d'heure précédent, où il se trouve, où il va et pourquoi.Pour ne jamais perdre son objectif de vue, il a structuré sa vie à l'aide de fiches, de notes, de photos, de tatouages sur le corps. C'est ce qui l'aide à garder contact avec sa mission, à retenir les informations et à garder une trace, une notion de l'espace et du temps. \", 'country': 'USA', 'director': {'_id': 'artist:266'}, 'actors': [{'_id': 'artist:272', 'role': 'Leonard'}, {'_id': 'artist:273', 'role': 'Natalie'}]}\n",
      "{'_id': 'movie:63', 'title': 'Million Dollar Baby', 'year': 2005, 'genre': 'drama', 'summary': \"Une histoire d'amour tragique et platonique entre une boxeuse et un vieil entraîneur de trente ans son aîné.\", 'country': 'USA', 'director': {'_id': 'artist:20'}, 'actors': [{'_id': 'artist:20', 'role': 'Frankie Dunn'}, {'_id': 'artist:22', 'role': 'Eddie Scrap-Iron Dupris'}, {'_id': 'artist:224', 'role': 'Maggie Fitzerald'}]}\n",
      "{'_id': 'movie:24', 'title': 'Mission: Impossible', 'year': 1996, 'genre': 'Action', 'summary': \"Chargé d'une nouvelle mission, l'agent du contre espionnage Ethan Hunt tombe avec son équipe dans un piège sanglant. Seul survivant avec Claire, la jeune épouse de son regretté chef Jim Phelps, Ethan se retrouve accusé de trahison. En fuite, il prépare sa contre-attaque, recrutant l'homme de main Krieger et le pirate informatique Luther... \", 'country': 'USA', 'director': {'_id': 'artist:64'}, 'actors': [{'_id': 'artist:60', 'role': 'Franz Krieger'}, {'_id': 'artist:65', 'role': 'Ethan Hunt'}, {'_id': 'artist:66', 'role': 'Jim Phelps'}, {'_id': 'artist:67', 'role': 'Claire Phelps'}]}\n",
      "{'_id': 'movie:45', 'title': 'Nikita', 'year': 1990, 'genre': 'Thriller', 'summary': \"Nikita, droguée et violente, est prise en mains par des psychiatres qui la rééduquent, la conditionnent, afin d'en faire une tueuse à la botte des Services Secrets. Plus tard, réalisant ce qu'elle est devenue, un pion sans vie privée que l'on manipule, elle tente d'échapper à ses commanditaires. \", 'country': 'FR', 'director': {'_id': 'artist:111'}, 'actors': [{'_id': 'artist:115', 'role': 'Bob'}, {'_id': 'artist:119', 'role': 'Nikita'}, {'_id': 'artist:120', 'role': 'Marco'}]}\n",
      "{'_id': 'movie:76', 'title': 'No country for old men', 'year': 2007, 'genre': 'crime', 'summary': \"A la frontière qui sépare le Texas du Mexique, les trafiquants de drogue ont depuis longtemps remplacé les voleurs de bétail. Lorsque Llewelyn Moss tombe sur une camionnette abandonnée, cernée de cadavres ensanglantés, il ne sait rien de ce qui a conduit à ce drame. Et quand il prend les deux millions de dollars qu'il découvre à l'intérieur du véhicule, il n'a pas la moindre idée de ce que cela va provoquer...Moss a déclenché une réaction en chaîne d'une violence inouïe que le shérif Bell, un homme vieillissant et sans illusions, ne parviendra pas à contenir... \", 'country': 'USA', 'director': {'_id': 'artist:251'}, 'actors': [{'_id': 'artist:250', 'role': 'Anton Chigurh'}, {'_id': 'artist:252', 'role': 'Ed Tom Bell'}, {'_id': 'artist:253', 'role': 'Llewelyn Moss'}]}\n",
      "{'_id': 'movie:92', 'title': 'Nous trois ou rien', 'year': 2015, 'genre': 'drama', 'summary': 'D’un petit village du sud de l’Iran aux cités parisiennes, Kheiron nous raconte le destin hors du commun de ses parents Hibat et Fereshteh, éternels optimistes, dans une comédie aux airs de conte universel qui évoque l’amour familial, le don de soi et surtout l’idéal d’un vivre-ensemble. ', 'country': 'FR', 'director': {'_id': 'artist:281'}, 'actors': []}\n",
      "{'_id': 'movie:39', 'title': 'Pas de printemps pour Marnie', 'year': 1964, 'genre': 'Thriller', 'summary': \"Marnie est engagée comme secrétaire chez un editeur, Mark Rutland. Celui-ci amoureux d'elle, découvre qu'elle est kleptomane et l'oblige à l'épouser en la menaçant de la dénoncer. En s'apercevant que Marnie a la phobie de la cou leur rouge, Mark tente de remonter dans le passé de la jeune femme afin de comprendre les raisons de sa névrose. \", 'country': 'USA', 'director': {'_id': 'artist:3'}, 'actors': [{'_id': 'artist:35', 'role': '\\n                       Mark R'}, {'_id': 'artist:95', 'role': 'Marnie Edgar'}]}\n",
      "{'_id': 'movie:11', 'title': 'Piège de cristal', 'year': 1988, 'genre': 'Action', 'summary': \"John Mc Clane, policier new-yorkais, vient passer Noel a Los Angeles aupres de sa femme. Dans le building ou elle travaille, il se retrouve temoin de la prise en otage de tout le personnel par 12 terroristes. Objectif de ces derniers, vider les coffres de la societe. Cache mais isole, il entreprend de prevenir l'exterieur...\", 'country': 'USA', 'director': {'_id': 'artist:26'}, 'actors': [{'_id': 'artist:27', 'role': 'McClane'}]}\n",
      "{'_id': 'movie:64', 'title': 'Pour quelques dollars de plus', 'year': 1965, 'genre': 'Western', 'summary': 'Le colonel Douglas Mortimer collabore avec un chasseur de primes surlast_namemé L\\'\"Etranger\". Tous les deux souhaitent capturer Indio, un tueur fou, qui sème la terreur autour de lui. Ce dernier et ses hommes sont sur le point de piller la banque d\\'El Paso.', 'country': 'IT', 'director': {'_id': 'artist:219'}, 'actors': []}\n",
      "{'_id': 'movie:33', 'title': 'Psychose', 'year': 1960, 'genre': 'Thriller', 'summary': 'Après avoir volé 40 000 dollars, Marion Crane se rend dans un motel tenu par Norman Bates. Elle est poignardée sous sa douche par une femme. Norman fait disparaitre le corps et les affaires de la jeune femme. Mais Sam, le fiancé de Marion, inquiet de ne pas avoir de nouvelles, engage un détective pour la retrouver... ', 'country': 'USA', 'director': {'_id': 'artist:3'}, 'actors': [{'_id': 'artist:88', 'role': 'Bates'}, {'_id': 'artist:89', 'role': 'Lila Crane'}, {'_id': 'artist:90', 'role': 'Marion Crane'}]}\n",
      "{'_id': 'movie:17', 'title': 'Pulp fiction', 'year': 1994, 'genre': 'Action', 'summary': \"Pulp Fiction décrit l'odyssée sanglante et burlesque de petits malfrats dans la jungle de Hollywood, ou s'entrecroisent les destins de deux petits tueurs, d'un dangereux gangster marié à une camée, d'un boxeur roublard, de prêteurs sur gages sadiques, d'un caïd élégant et dévoué, d'un dealer bon mari et de deux tourtereaux à la gachette facile... \", 'country': 'USA', 'director': {'_id': 'artist:37'}, 'actors': [{'_id': 'artist:11', 'role': 'Vincent Vega'}, {'_id': 'artist:27', 'role': 'Butch Coolidge'}, {'_id': 'artist:37', 'role': 'Jimmy Dimmick'}, {'_id': 'artist:38', 'role': 'Jules Winnfield'}, {'_id': 'artist:39', 'role': 'Jody'}, {'_id': 'artist:40', 'role': 'Mia Wallace'}, {'_id': 'artist:97', 'role': 'Capt. Koons'}, {'_id': 'artist:98', 'role': 'Winston \"The Wolf\" Wolfe'}, {'_id': 'artist:99', 'role': 'Pumpkin (Ringo)'}]}\n",
      "{'_id': 'movie:29', 'title': 'Rain Man', 'year': 1988, 'genre': 'drama', 'summary': \"A la mort de son père, Charlie se voit déposséder de son héritage par un frère dont il ignorait l'existence, Raymond. Celui-ci est autiste et vit dans un hôpital psychiatrique. Charlie enlève Raymond afin de prouver qu'il est capable de s'en occuper et de toucher l'héritage. \", 'country': 'USA', 'director': {'_id': 'artist:79'}, 'actors': [{'_id': 'artist:65', 'role': 'Charlie Babbitt'}, {'_id': 'artist:80', 'role': 'Raymond Babbitt'}]}\n",
      "{'_id': 'movie:36', 'title': 'Reservoir dogs', 'year': 1992, 'genre': 'crime', 'summary': \"Après un hold-up manqué, des cambrioleurs de haut vol font leurs comptes dans une confrontation violente, pour découvrir lequel d'entre eux les a trahis. Voleurs de profession, Joe Cabot et son fils Eddie engagent un groupe de six criminels pour le cambriolage d'un diamantaire. Malgré toutes les précautions prises, la police est sur place le jour J, et l'opération se solde par un massacre. Les survivants du gang se réunissent pour règler leurs comptes, chacun soupçonnant l'autre d'avoir trahi. \", 'country': 'USA', 'director': {'_id': 'artist:37'}, 'actors': [{'_id': 'artist:37', 'role': 'Mr. Brown'}, {'_id': 'artist:98', 'role': 'Mr. White/Larry'}, {'_id': 'artist:99', 'role': 'Freddy Newendyke/Mr. Orange'}, {'_id': 'artist:100', 'role': 'Nice Guy Eddie'}, {'_id': 'artist:215', 'role': 'Mr Blonde'}, {'_id': 'artist:217', 'role': 'Mr Pink'}, {'_id': 'artist:218', 'role': 'Mr Blue'}]}\n",
      "{'_id': 'movie:84', 'title': 'Rio Grande', 'year': 1950, 'genre': 'Western', 'summary': \"Colonel de la cavalerie américaine, Kirby York acceuille dans son régiment son propre fils, le jeune Jeff, recalé à West Point. Séparée de York depuis un épisode tragique de la Guerre de Sécession, Kathleen, la mère de Jeff, intervient auprès de son époux pour qu'il n'accepte pas le jeune homme dans sa garnison. La guerre contre les Indiens fait rage, et la mère craint pour la vie de son fils. Une terrible bataille contre les Apaches s'annonce... \", 'country': 'USA', 'director': {'_id': 'artist:263'}, 'actors': [{'_id': 'artist:264', 'role': 'Lt. Col. Kirby Yorke'}, {'_id': 'artist:265', 'role': 'Mrs. Kathleen Yorke'}]}\n",
      "{'_id': 'movie:4', 'title': 'Sacrifice', 'year': 1986, 'genre': 'drama', 'summary': None, 'country': 'FR', 'director': {'_id': 'artist:9'}, 'actors': []}\n",
      "{'_id': 'movie:14', 'title': 'Seven', 'year': 1995, 'genre': 'crime', 'summary': \"A New York, un criminel anonyme a décidé de commettre 7 meurtres basés sur les 7 pêchés capitaux énoncés dans la Bible : gourmandise, avarice, paresse, orgueil, luxure, envie et colère. Vieux flic blasé à 7 jours de la retraite, l'inspecteur Somerset mène l'enquête tout en formant son remplaçant, l'ambitieux inspecteur David Mills... \", 'country': 'USA', 'director': {'_id': 'artist:31'}, 'actors': [{'_id': 'artist:18', 'role': 'Doe'}, {'_id': 'artist:22', 'role': 'Somerset'}, {'_id': 'artist:32', 'role': 'Mills'}]}\n",
      "{'_id': 'movie:38', 'title': 'Shining', 'year': 1980, 'genre': 'Horreur', 'summary': \"Jack Torrance s'installe avec sa femme et son fils Danny dans un hôtel fermé à la morte saison afin d'écrire un roman. Il apprend que le gardien précédent a tué sa femme et ses deux filles avant de se suicider. Très vite, Jack va s'apercevoir que des choses étranges se passent autour de lui et que son fils a des pouvoirs extrasensoriels... \", 'country': 'FR', 'director': {'_id': 'artist:101'}, 'actors': [{'_id': 'artist:103', 'role': 'Jack Torrance'}]}\n",
      "{'_id': 'movie:59', 'title': 'Sixième sens', 'year': 1999, 'genre': 'Fantastique', 'summary': \"Cole Sear, garconnet de huit ans est hanté par un terrible secret. Son imaginaire est visité par des esprits menacants. Trop jeune pour comprendre le pourquoi de ces apparitions et traumatisé par ces pouvoirs paranormaux, Cole s'enferme dans une peur maladive et ne veut reveler à personne la cause de son enfermement, à l'exception d'un psychologue pour enfants. La recherche d'une explication rationnelle guidera l'enfant et le thérapeute vers une vérité foudroyante et inexplicable.\", 'country': 'USA', 'director': {'_id': 'artist:170'}, 'actors': [{'_id': 'artist:27', 'role': 'Malcom Crowe'}, {'_id': 'artist:171', 'role': 'Cole Sear'}]}\n",
      "{'_id': 'movie:74', 'title': 'Skyfall', 'year': 1012, 'genre': 'Action', 'summary': 'Lorsque la dernière mission de Bond tourne mal, plusieurs agents infiltrés se retrouvent exposés dans le monde entier. Le MI6 est attaqué, et M est obligée de relocaliser l’Agence. Ces événements ébranlent son autorité, et elle est remise en cause par Mallory, le nouveau président de l’ISC, le comité chargé du renseignement et de la sécurité. Le MI6 est à présent sous le coup d’une double menace, intérieure et extérieure. Il ne reste à M qu’un seul allié de confiance vers qui se tourner : Bond. Plus que jamais, 007 va devoir agir dans l’ombre. Avec l’aide d’Eve, un agent de terrain, il se lance sur la piste du mystérieux Silva, dont il doit identifier coûte que coûte l’objectif secret et mortel… ', 'country': 'USA', 'director': {'_id': 'artist:17'}, 'actors': [{'_id': 'artist:247', 'role': 'James Bond'}, {'_id': 'artist:249', 'role': 'M'}, {'_id': 'artist:250', 'role': 'Silva'}]}\n",
      "{'_id': 'movie:6', 'title': 'Sleepy Hollow', 'year': 1999, 'genre': 'Fantastique', 'summary': 'Nouvelle Angleterre, 1799. A Sleepy Hollow, plusieurs cadavres sont retrouvés décapités. La                                      rumeur attribue ces meurtres à un cavalier lui-même sans tête. Mais le fin limier                                      new-yorkais Ichabod Crane ne croit pas en ses aberrations. Tombé sous le charme de la                                      vénéneuse Katrina, il mène son enquête au coeur des sortilèges de Sleepy Hollow.. ', 'country': 'USA', 'director': {'_id': 'artist:13'}, 'actors': [{'_id': 'artist:14', 'role': 'Constable Ichabod Crane'}, {'_id': 'artist:96', 'role': 'Katrina Anne Van Tassel'}, {'_id': 'artist:97', 'role': 'Le cavalier'}]}\n",
      "{'_id': 'movie:68', 'title': 'Soleil vert', 'year': 1973, 'genre': 'Science-fiction', 'summary': \"L'action du film se déroule en l'an 2022 à New York qui est devenue une mégapole de 44 millions d'habitants. Il règne en permanence une température élevée, soit plus de 30 °C. L'eau est rare. La faune et la flore ont quasiment disparu. La nourriture issue de l'agriculture également. La plupart des habitants n'ont pas les moyens d'acheter des aliments naturels, les prix étant exorbitants. Ils en sont réduits à manger des produits de synthèse, fournis par la multinationale « Soylent », des tablettes de forme carrée, jaunes, rouges ou bleues. Un nouvel aliment vient d'être lancé, le soylent green, beaucoup plus nutritif, cher et disponible uniquement le mardi : ce jour-là, des émeutes de citoyens affamés ne sont pas rares et sont sévèrement réprimées.Thorn, un policier « de premier ordre », vit avec son ami Sol Roth, un vieux juif lettré, dans un petit appartement délabré et surpeuplé. Sol peste contre l'état du monde et a la nostalgie du passé tandis que Thorn se contente des seules choses qu'il a connues, à savoir la nourriture synthétique et la canicule perpétuelle.Dans le même temps, William Simonson, un des dirigeants de la société agroalimentaire Soylent, est exécuté dans son appartement situé dans une tour sécurisée des beaux quartiers de Chelsea ; Thorn est chargé de l'enquête et va découvrir que cette affaire, rapidement étiquetée comme étant un crime crapuleux, se révèle être en fait un assassinat visant à empêcher Simonson de révéler un terrible secret. Thorn comprend que Tab Fielding, le garde du corps du dirigeant, est complice car il était, comme par hasard, absent au moment du meurtre et que le système de sécurité était en panne. Thorn ramène chez lui divers objets dont des aliments frais, de la viande et du bourbon, qu'il a dérobé chez la victime, et les partage avec Sol. Poursuivant son enquête, Thorn revient dans l'appartement, noue une relation avec la « compagne » de Simonson, ayant le statut de simple « meuble » et dont le prochain locataire disposera.Puis Thorn découvre que Tab Fielding est propriétaire d'un bel appartement et qu'il a les moyens d'acheter de la nourriture naturelle, telle que de la confiture aux fraises : les soupçons du policier se confirment donc et il refuse de clôturer l'enquête. Thorn se révélant trop curieux, Donovan, l'homme chargé de la sécurité et qui travaille pour Santini, le gouverneur, décide de le supprimer par l'intermédiaire de son tueur à gage, Gilbert, l'exécuteur de Simonson.Profitant d'une émeute due à l'épuisement des stocks de soylent green, Gilbert tente de tuer Thorn en lui tirant dessus mais échoue par deux fois, tant la foule est dense. Thorn finit par maîtriser Gilbert et l'envoie bouler sous une « dégageuse » (scoop), sorte de camion-benne tractopelle ramassant les émeutiers afin de canaliser l'émeute.Pendant ce temps, Sol se rend à l'Échange, bibliothèque où se réunissent des gens instruits, sorte de comité de sage consultatif pouvant émettre un avis auprès d'instances internationales. Sol leur montre les deux rapports d'activité de la société Soylent que Thorn avait découvert chez Simonson. Face aux conclusions du comité, horrifié et désemparé, Sol comprend pourquoi Simonson a été assassiné : il décide alors d'aller au Foyer, endroit où l'on se fait euthanasier. Thorn arrive trop tard pour l'en empêcher mais réussit à assister aux dernières minutes de son ami : sur un immense écran, Thorn voit défiler les images de ce qu'était la Terre autrefois, des paysages magnifiques, la vie sauvage, la beauté de la nature. Avant de mourir, Sol lui demande de trouver la preuve que la société Soylent n'est pas ce qu'elle prétend être.Thorn se glisse dans l'un des camions bennes emmenant les cadavres à l'extérieur de la ville vers un crematorium et découvre, en explorant les locaux de l'usine, que le soylent green est en réalité fabriqué à partir des cadavres euthanasiés : cet aliment est, selon le discours officiel, censé être fabriqué à partir de plancton. En réalité, même les océans sont devenus stériles et l'anthropophagie est désormais intégrée au système alimentaire humain.Pourchassé par les tueurs au service du gouverneur Santini, dont Tab Fielding, Thorn finit par être sévèrement blessé. Quand son supérieur arrive à sa rescousse, Thorn se met à hurler que le « soylent green est fabriqué avec des gens qui servent de bétails ». Il supplie son supérieur de tout révéler.\", 'country': 'USA', 'director': {'_id': 'artist:7'}, 'actors': [{'_id': 'artist:8', 'role': 'sol'}]}\n",
      "{'_id': 'movie:47', 'title': 'Spider-Man', 'year': 2002, 'genre': 'Action', 'summary': \"Orphelin, Peter Parker est élevé par sa tante May et son oncle Ben dans le quartier Queens de New York. Tout en poursuivant ses études à l'université, il trouve un emploi de photographe au journal Daily Bugle. Il partage son appartement avec Harry Osborn, son meilleur ami, et rêve de séduire la belle Mary Jane.Cependant, après avoir été mordu par une araignée génétiquement modifiée, Peter voit son agilité et sa force s'accroître et se découvre des pouvoirs surnaturels. Devenu Spider-Man, il décide d'utiliser ses nouvelles capacités au service du bien.Au même moment, le père de Harry, le richissime industriel Norman Osborn, est victime d'un accident chimique qui a démesurément augmenté ses facultés intellectuelles et sa force, mais l'a rendu fou. Il est devenu le Bouffon Vert, une créature démoniaque qui menace la ville. Entre lui et Spider-Man, une lutte sans merci s'engage.\", 'country': 'USA', 'director': {'_id': 'artist:187'}, 'actors': [{'_id': 'artist:124', 'role': 'Spider-Man'}, {'_id': 'artist:125', 'role': 'Norman Osborn'}, {'_id': 'artist:126', 'role': 'Mary Jane Watson'}, {'_id': 'artist:127', 'role': 'Oncle Ben'}, {'_id': 'artist:128', 'role': 'Tante May'}]}\n",
      "{'_id': 'movie:62', 'title': 'Stalingrad', 'year': 2001, 'genre': 'drama', 'summary': None, 'country': 'USA', 'director': {'_id': 'artist:34'}, 'actors': [{'_id': 'artist:182', 'role': 'Vassili Zaïtzev'}, {'_id': 'artist:183', 'role': 'major König'}]}\n",
      "{'_id': 'movie:70', 'title': 'Taxi driver', 'year': 1976, 'genre': 'drama', 'summary': 'Vétéran de la Guerre du Vietnam, Travis Bickle est chauffeur de taxi dans la ville de New York. Ses rencontres nocturnes et la violence quotidienne dont il est témoin lui font peu à peu perdre la tête. Il se charge bientôt de délivrer une prostituée mineure de ses souteneurs.', 'country': 'USA', 'director': {'_id': 'artist:241'}, 'actors': [{'_id': 'artist:51', 'role': '1962'}, {'_id': 'artist:167', 'role': 'Travis Bickle '}]}\n",
      "{'_id': 'movie:19', 'title': 'Terminator', 'year': 1984, 'genre': 'Science-fiction', 'summary': \"Deux creatures venues du futur debarquent sur terre. L'une d'entre elles, le Terminator, doit eliminer une certaine Sarah Connor, qui doit enfanter celui qui sera le chef d'un groupe de resistants. L'autre, Kyle Reese, est charge par les rebelles de defendre Sarah... \", 'country': 'USA', 'director': {'_id': 'artist:6'}, 'actors': [{'_id': 'artist:44', 'role': 'Terminator'}]}\n",
      "{'_id': 'movie:89', 'title': 'The Dark Knight', 'year': 2008, 'genre': 'Science-fiction', 'summary': \"Dans ce nouveau volet, Batman augmente les mises dans sa guerre contre le crime. Avec l'appui du lieutenant de police Jim Gordon et du procureur de Gotham, Harvey Dent, Batman vise à éradiquer le crime organisé qui pullule dans la ville. Leur association est très efficace mais elle sera bientôt bouleversée par le chaos déclenché par un criminel extraordinaire que les citoyens de Gotham connaissent sous le last_name de Joker. \", 'country': 'USA', 'director': {'_id': 'artist:266'}, 'actors': [{'_id': 'artist:22', 'role': 'Lucius Fox'}, {'_id': 'artist:116', 'role': 'Gordon'}, {'_id': 'artist:269', 'role': 'Alfred'}, {'_id': 'artist:274', 'role': 'Bruce Wayne / Batman'}, {'_id': 'artist:276', 'role': 'Joker'}, {'_id': 'artist:277', 'role': 'Rachel'}]}\n",
      "{'_id': 'movie:90', 'title': 'The Dark Knight Rises', 'year': 2012, 'genre': 'Science-fiction', 'summary': \"Il y a huit ans, Batman a disparu dans la nuit : lui qui était un héros est alors devenu un fugitif. S'accusant de la mort du procureur-adjoint Harvey Dent, le Chevalier Noir a tout sacrifié au last_name de ce que le commissaire Gordon et lui-même considéraient être une noble cause. Et leurs actions conjointes se sont avérées efficaces pour un temps puisque la criminalité a été éradiquée à Gotham City grâce à l'arsenal de lois répressif initié par Dent.Mais c'est un chat – aux intentions obscures – aussi rusé que voleur qui va tout bouleverser. À moins que ce ne soit l'arrivée à Gotham de Bane, terroriste masqué, qui compte bien arracher Bruce à l'exil qu'il s'est imposé. Pourtant, même si ce dernier est prêt à endosser de nouveau la cape et le casque du Chevalier Noir, Batman n'est peut-être plus de taille à affronter Bane…\", 'country': 'USA', 'director': {'_id': 'artist:266'}, 'actors': [{'_id': 'artist:22', 'role': 'Lucius Fox'}, {'_id': 'artist:116', 'role': 'Commissioner Gordon'}, {'_id': 'artist:268', 'role': 'Selina'}, {'_id': 'artist:269', 'role': 'Alfred'}, {'_id': 'artist:271', 'role': 'Miranda'}, {'_id': 'artist:274', 'role': 'Bruce Wayne / Batman'}]}\n",
      "{'_id': 'movie:50', 'title': 'The Matrix Revolutions', 'year': 2003, 'genre': 'Science-fiction', 'summary': \"La longue quête de liberté des rebelles culmine en une bataille finale explosive. Tandis que l'armée des Machines sème la désolation sur Zion, ses citoyens organisent une défense acharnée. Mais pourront-ils retenir les nuées implacables des Sentinelles en attendant que Neo s'approprie l'ensemble de ses pouvoirs et mette fin à la guerre ?L'agent Smith est quant à lui parvenu à prendre possession de l'esprit de Bane, l'un des membres de l'équipage de l'aéroglisseur. De plus en plus puissant, il est désormais incontrôlable et n'obéit plus aux Machines : il menace de détruire leur empire ainsi que le monde réel et la Matrice... \", 'country': 'USA', 'director': {'_id': 'artist:135'}, 'actors': [{'_id': 'artist:62', 'role': 'Neo'}, {'_id': 'artist:63', 'role': 'Morpheus'}, {'_id': 'artist:134', 'role': 'Agent Smith'}, {'_id': 'artist:136', 'role': 'Trinity'}, {'_id': 'artist:137', 'role': \"L'Oracle\"}]}\n",
      "{'_id': 'movie:49', 'title': 'The Matrix reloaded', 'year': 2003, 'genre': 'Science-fiction', 'summary': \"Neo apprend à mieux contrôler ses dons naturels, alors même que Sion s'apprête à tomber sous l'assaut de l'Armée des Machines. D'ici quelques heures, 250 000 Sentinelles programmées pour anéantir notre espèce envahiront la dernière enclave humaine de la Terre.Mais Morpheus galvanise les citoyens de Sion en leur rappelant la Parole de l'Oracle : il est encore temps pour l'Elu d'arrêter la guerre contre les Machines. Tous les espoirs se reportent dès lors sur Neo. Au long de sa périlleuse plongée au sein de la Matrix et de sa propre destinée, ce dernier sera confronté à une résistance croissante, une vérité encore plus aveuglante, un choix encore plus douloureux que tout ce qu'il avait jamais imaginé.\", 'country': 'USA', 'director': {'_id': 'artist:61'}, 'actors': [{'_id': 'artist:62', 'role': 'Neo'}, {'_id': 'artist:63', 'role': 'Morpheus'}, {'_id': 'artist:210', 'role': 'Trinity'}, {'_id': 'artist:211', 'role': 'Agent Smith'}]}\n",
      "{'_id': 'movie:3', 'title': 'Titanic', 'year': 1997, 'genre': 'drama', 'summary': \"Conduite par Brock Lovett, une expédition américaine fouillant l'épave du Titanic remonte à la surface le croquis d'une femme nue. Alertée par les médias la dame en question, Rose DeWitt Bukater, aujourd'hui centenaire, rejoint les lieux du naufrage, d'où elle entreprend de conter le récit de son fascinant, étrange et tragique voyage... \", 'country': 'USA', 'director': {'_id': 'artist:6'}, 'actors': [{'_id': 'artist:109', 'role': 'Rose DeWitt Bukater'}, {'_id': 'artist:110', 'role': 'Jack Dawson'}]}\n",
      "{'_id': 'movie:30', 'title': 'Top Gun', 'year': 1986, 'genre': 'Action', 'summary': \" Pilote de chasse émérite mais casse-cou Maverick Mitchell est admis à Top Gun, l'école de l'élite de l'aéronavale. Son manque de prudence lui attire les foudres de ses supérieurs et la haine de certains coéquipiers. Il perd subitement la foi et confiance en lui quand son ami de toujours meurt en vol et qu'il s'en croit responsable... \", 'country': 'USA', 'director': {'_id': 'artist:81'}, 'actors': [{'_id': 'artist:53', 'role': 'Iceman'}, {'_id': 'artist:65', 'role': 'Lt. Pete Maverick Mitchell'}, {'_id': 'artist:82', 'role': 'Charlotte Blackwood'}]}\n",
      "{'_id': 'movie:15', 'title': 'Twelve Monkeys', 'year': 1995, 'genre': 'Science-fiction', 'summary': None, 'country': 'USA', 'director': {'_id': 'artist:33'}, 'actors': [{'_id': 'artist:27', 'role': 'Cole'}]}\n",
      "{'_id': 'movie:91', 'title': 'Un prophète', 'year': 2009, 'genre': 'drama', 'summary': 'Condamné à six ans de prison, Malik El Djebena ne sait ni lire, ni écrire. A son arrivée en Centrale, seul au monde, il paraît plus jeune, plus fragile que les autres détenus. Il a 19 ans. D\\'emblée, il tombe sous la coupe d\\'un groupe de prisonniers corses qui fait régner sa loi dans la prison. Le jeune homme apprend vite. Au fil des \" missions \", il s\\'endurcit et gagne la confiance des Corses.Mais, très vite, Malik utilise toute son intelligence pour développer discrètement son propre réseau...', 'country': 'FR', 'director': {'_id': 'artist:278'}, 'actors': [{'_id': 'artist:279', 'role': 'Malik El Djebena '}, {'_id': 'artist:280', 'role': 'César Luciani'}]}\n",
      "{'_id': 'movie:58', 'title': 'Une journée en enfer', 'year': 1995, 'genre': 'Action', 'summary': 'John McClane est cette fois-ci aux prises avec un maître chanteur, facétieux et dangereux, qui dépose des bombes dans New York.', 'country': 'USA', 'director': {'_id': 'artist:168'}, 'actors': [{'_id': 'artist:27', 'role': 'McClane'}, {'_id': 'artist:38', 'role': 'Zeus Carver'}, {'_id': 'artist:169', 'role': 'Simon Gruber'}]}\n",
      "{'_id': 'movie:52', 'title': 'Usual suspects', 'year': 1995, 'genre': 'Thriller', 'summary': \"Une légende du crime contraint cinq malfrats à aller s'aquitter d'une tâche très périlleuse. Ceux qui survivent pourront se partager un butin de 90 millions de dollars.\", 'country': 'USA', 'director': {'_id': 'artist:142'}, 'actors': [{'_id': 'artist:18', 'role': 'Roger \"Verbal\" Kint'}, {'_id': 'artist:143', 'role': 'Micheal McManus'}, {'_id': 'artist:144', 'role': 'Dean Keaton'}, {'_id': 'artist:145', 'role': 'Fred Fenster'}, {'_id': 'artist:146', 'role': 'Todd Hockney'}]}\n",
      "{'_id': 'movie:13', 'title': 'Van Gogh', 'year': 1990, 'genre': 'drama', 'summary': 'Les derniers jours de la vie de Vincent Van Gogh, réfugié à Auvers-sur-Oise, près de chez son ami et protecteur le docteur Gachet, un ami de son frère Théo. Ce peintre maudit, que les villageois surlast_namemaient \"le fou\", n\\'avait alors plus que deux mois à vivre, qu\\'il passa en peignant un tableau par jour. ', 'country': 'FR', 'director': {'_id': 'artist:29'}, 'actors': [{'_id': 'artist:30', 'role': 'Van Gogh'}]}\n",
      "{'_id': 'movie:1', 'title': 'Vertigo', 'year': 1958, 'genre': 'drama', 'summary': \"Scottie Ferguson, ancien inspecteur de police, est sujet au vertige depuis qu'il a vu mourir son collègue. Elster, son ami, le charge de surveiller sa femme, Madeleine, ayant des tendances suicidaires. Amoureux de la jeune femme Scottie ne remarque pas le piège qui se trame autour de lui et dont il va être la victime... \", 'country': 'DE', 'director': {'_id': 'artist:3'}, 'actors': [{'_id': 'artist:15', 'role': 'John Ferguson'}, {'_id': 'artist:16', 'role': 'Madeleine Elster'}, {'_id': 'artist:282', 'role': None}]}\n",
      "{'_id': 'movie:5', 'title': 'Volte/Face', 'year': 1997, 'genre': 'Action', 'summary': \"Directeur d'une unité anti-terroriste, Sean Archer recherche Castor Troy, un criminel responsable de la mort de son fils six ans plus tôt. Il parvient à l'arrêter mais apprend que Troy a caché une bombe au Palais des Congrès de Los Angeles. Seul le frère de Troy peut la désamorcer et, pour l'approcher, Archer se fait greffer le visage de Troy. \", 'country': 'USA', 'director': {'_id': 'artist:10'}, 'actors': [{'_id': 'artist:11', 'role': 'Sean Archer/Castor Troy'}, {'_id': 'artist:12', 'role': 'Castor Troy/Sean Archer'}]}\n"
     ]
    }
   ],
   "source": [
    "#ordre croissant\n",
    "mydoc = colmovies.find().sort(\"title\")\n",
    "for x in mydoc:\n",
    "  print(x)"
   ]
  },
  {
   "cell_type": "code",
   "execution_count": 73,
   "metadata": {},
   "outputs": [
    {
     "name": "stdout",
     "output_type": "stream",
     "text": [
      "{'_id': 'movie:5', 'title': 'Volte/Face', 'year': 1997, 'genre': 'Action', 'summary': \"Directeur d'une unité anti-terroriste, Sean Archer recherche Castor Troy, un criminel responsable de la mort de son fils six ans plus tôt. Il parvient à l'arrêter mais apprend que Troy a caché une bombe au Palais des Congrès de Los Angeles. Seul le frère de Troy peut la désamorcer et, pour l'approcher, Archer se fait greffer le visage de Troy. \", 'country': 'USA', 'director': {'_id': 'artist:10'}, 'actors': [{'_id': 'artist:11', 'role': 'Sean Archer/Castor Troy'}, {'_id': 'artist:12', 'role': 'Castor Troy/Sean Archer'}]}\n",
      "{'_id': 'movie:1', 'title': 'Vertigo', 'year': 1958, 'genre': 'drama', 'summary': \"Scottie Ferguson, ancien inspecteur de police, est sujet au vertige depuis qu'il a vu mourir son collègue. Elster, son ami, le charge de surveiller sa femme, Madeleine, ayant des tendances suicidaires. Amoureux de la jeune femme Scottie ne remarque pas le piège qui se trame autour de lui et dont il va être la victime... \", 'country': 'DE', 'director': {'_id': 'artist:3'}, 'actors': [{'_id': 'artist:15', 'role': 'John Ferguson'}, {'_id': 'artist:16', 'role': 'Madeleine Elster'}, {'_id': 'artist:282', 'role': None}]}\n",
      "{'_id': 'movie:13', 'title': 'Van Gogh', 'year': 1990, 'genre': 'drama', 'summary': 'Les derniers jours de la vie de Vincent Van Gogh, réfugié à Auvers-sur-Oise, près de chez son ami et protecteur le docteur Gachet, un ami de son frère Théo. Ce peintre maudit, que les villageois surlast_namemaient \"le fou\", n\\'avait alors plus que deux mois à vivre, qu\\'il passa en peignant un tableau par jour. ', 'country': 'FR', 'director': {'_id': 'artist:29'}, 'actors': [{'_id': 'artist:30', 'role': 'Van Gogh'}]}\n",
      "{'_id': 'movie:52', 'title': 'Usual suspects', 'year': 1995, 'genre': 'Thriller', 'summary': \"Une légende du crime contraint cinq malfrats à aller s'aquitter d'une tâche très périlleuse. Ceux qui survivent pourront se partager un butin de 90 millions de dollars.\", 'country': 'USA', 'director': {'_id': 'artist:142'}, 'actors': [{'_id': 'artist:18', 'role': 'Roger \"Verbal\" Kint'}, {'_id': 'artist:143', 'role': 'Micheal McManus'}, {'_id': 'artist:144', 'role': 'Dean Keaton'}, {'_id': 'artist:145', 'role': 'Fred Fenster'}, {'_id': 'artist:146', 'role': 'Todd Hockney'}]}\n",
      "{'_id': 'movie:58', 'title': 'Une journée en enfer', 'year': 1995, 'genre': 'Action', 'summary': 'John McClane est cette fois-ci aux prises avec un maître chanteur, facétieux et dangereux, qui dépose des bombes dans New York.', 'country': 'USA', 'director': {'_id': 'artist:168'}, 'actors': [{'_id': 'artist:27', 'role': 'McClane'}, {'_id': 'artist:38', 'role': 'Zeus Carver'}, {'_id': 'artist:169', 'role': 'Simon Gruber'}]}\n",
      "{'_id': 'movie:91', 'title': 'Un prophète', 'year': 2009, 'genre': 'drama', 'summary': 'Condamné à six ans de prison, Malik El Djebena ne sait ni lire, ni écrire. A son arrivée en Centrale, seul au monde, il paraît plus jeune, plus fragile que les autres détenus. Il a 19 ans. D\\'emblée, il tombe sous la coupe d\\'un groupe de prisonniers corses qui fait régner sa loi dans la prison. Le jeune homme apprend vite. Au fil des \" missions \", il s\\'endurcit et gagne la confiance des Corses.Mais, très vite, Malik utilise toute son intelligence pour développer discrètement son propre réseau...', 'country': 'FR', 'director': {'_id': 'artist:278'}, 'actors': [{'_id': 'artist:279', 'role': 'Malik El Djebena '}, {'_id': 'artist:280', 'role': 'César Luciani'}]}\n",
      "{'_id': 'movie:15', 'title': 'Twelve Monkeys', 'year': 1995, 'genre': 'Science-fiction', 'summary': None, 'country': 'USA', 'director': {'_id': 'artist:33'}, 'actors': [{'_id': 'artist:27', 'role': 'Cole'}]}\n",
      "{'_id': 'movie:30', 'title': 'Top Gun', 'year': 1986, 'genre': 'Action', 'summary': \" Pilote de chasse émérite mais casse-cou Maverick Mitchell est admis à Top Gun, l'école de l'élite de l'aéronavale. Son manque de prudence lui attire les foudres de ses supérieurs et la haine de certains coéquipiers. Il perd subitement la foi et confiance en lui quand son ami de toujours meurt en vol et qu'il s'en croit responsable... \", 'country': 'USA', 'director': {'_id': 'artist:81'}, 'actors': [{'_id': 'artist:53', 'role': 'Iceman'}, {'_id': 'artist:65', 'role': 'Lt. Pete Maverick Mitchell'}, {'_id': 'artist:82', 'role': 'Charlotte Blackwood'}]}\n",
      "{'_id': 'movie:3', 'title': 'Titanic', 'year': 1997, 'genre': 'drama', 'summary': \"Conduite par Brock Lovett, une expédition américaine fouillant l'épave du Titanic remonte à la surface le croquis d'une femme nue. Alertée par les médias la dame en question, Rose DeWitt Bukater, aujourd'hui centenaire, rejoint les lieux du naufrage, d'où elle entreprend de conter le récit de son fascinant, étrange et tragique voyage... \", 'country': 'USA', 'director': {'_id': 'artist:6'}, 'actors': [{'_id': 'artist:109', 'role': 'Rose DeWitt Bukater'}, {'_id': 'artist:110', 'role': 'Jack Dawson'}]}\n",
      "{'_id': 'movie:49', 'title': 'The Matrix reloaded', 'year': 2003, 'genre': 'Science-fiction', 'summary': \"Neo apprend à mieux contrôler ses dons naturels, alors même que Sion s'apprête à tomber sous l'assaut de l'Armée des Machines. D'ici quelques heures, 250 000 Sentinelles programmées pour anéantir notre espèce envahiront la dernière enclave humaine de la Terre.Mais Morpheus galvanise les citoyens de Sion en leur rappelant la Parole de l'Oracle : il est encore temps pour l'Elu d'arrêter la guerre contre les Machines. Tous les espoirs se reportent dès lors sur Neo. Au long de sa périlleuse plongée au sein de la Matrix et de sa propre destinée, ce dernier sera confronté à une résistance croissante, une vérité encore plus aveuglante, un choix encore plus douloureux que tout ce qu'il avait jamais imaginé.\", 'country': 'USA', 'director': {'_id': 'artist:61'}, 'actors': [{'_id': 'artist:62', 'role': 'Neo'}, {'_id': 'artist:63', 'role': 'Morpheus'}, {'_id': 'artist:210', 'role': 'Trinity'}, {'_id': 'artist:211', 'role': 'Agent Smith'}]}\n",
      "{'_id': 'movie:50', 'title': 'The Matrix Revolutions', 'year': 2003, 'genre': 'Science-fiction', 'summary': \"La longue quête de liberté des rebelles culmine en une bataille finale explosive. Tandis que l'armée des Machines sème la désolation sur Zion, ses citoyens organisent une défense acharnée. Mais pourront-ils retenir les nuées implacables des Sentinelles en attendant que Neo s'approprie l'ensemble de ses pouvoirs et mette fin à la guerre ?L'agent Smith est quant à lui parvenu à prendre possession de l'esprit de Bane, l'un des membres de l'équipage de l'aéroglisseur. De plus en plus puissant, il est désormais incontrôlable et n'obéit plus aux Machines : il menace de détruire leur empire ainsi que le monde réel et la Matrice... \", 'country': 'USA', 'director': {'_id': 'artist:135'}, 'actors': [{'_id': 'artist:62', 'role': 'Neo'}, {'_id': 'artist:63', 'role': 'Morpheus'}, {'_id': 'artist:134', 'role': 'Agent Smith'}, {'_id': 'artist:136', 'role': 'Trinity'}, {'_id': 'artist:137', 'role': \"L'Oracle\"}]}\n",
      "{'_id': 'movie:90', 'title': 'The Dark Knight Rises', 'year': 2012, 'genre': 'Science-fiction', 'summary': \"Il y a huit ans, Batman a disparu dans la nuit : lui qui était un héros est alors devenu un fugitif. S'accusant de la mort du procureur-adjoint Harvey Dent, le Chevalier Noir a tout sacrifié au last_name de ce que le commissaire Gordon et lui-même considéraient être une noble cause. Et leurs actions conjointes se sont avérées efficaces pour un temps puisque la criminalité a été éradiquée à Gotham City grâce à l'arsenal de lois répressif initié par Dent.Mais c'est un chat – aux intentions obscures – aussi rusé que voleur qui va tout bouleverser. À moins que ce ne soit l'arrivée à Gotham de Bane, terroriste masqué, qui compte bien arracher Bruce à l'exil qu'il s'est imposé. Pourtant, même si ce dernier est prêt à endosser de nouveau la cape et le casque du Chevalier Noir, Batman n'est peut-être plus de taille à affronter Bane…\", 'country': 'USA', 'director': {'_id': 'artist:266'}, 'actors': [{'_id': 'artist:22', 'role': 'Lucius Fox'}, {'_id': 'artist:116', 'role': 'Commissioner Gordon'}, {'_id': 'artist:268', 'role': 'Selina'}, {'_id': 'artist:269', 'role': 'Alfred'}, {'_id': 'artist:271', 'role': 'Miranda'}, {'_id': 'artist:274', 'role': 'Bruce Wayne / Batman'}]}\n",
      "{'_id': 'movie:89', 'title': 'The Dark Knight', 'year': 2008, 'genre': 'Science-fiction', 'summary': \"Dans ce nouveau volet, Batman augmente les mises dans sa guerre contre le crime. Avec l'appui du lieutenant de police Jim Gordon et du procureur de Gotham, Harvey Dent, Batman vise à éradiquer le crime organisé qui pullule dans la ville. Leur association est très efficace mais elle sera bientôt bouleversée par le chaos déclenché par un criminel extraordinaire que les citoyens de Gotham connaissent sous le last_name de Joker. \", 'country': 'USA', 'director': {'_id': 'artist:266'}, 'actors': [{'_id': 'artist:22', 'role': 'Lucius Fox'}, {'_id': 'artist:116', 'role': 'Gordon'}, {'_id': 'artist:269', 'role': 'Alfred'}, {'_id': 'artist:274', 'role': 'Bruce Wayne / Batman'}, {'_id': 'artist:276', 'role': 'Joker'}, {'_id': 'artist:277', 'role': 'Rachel'}]}\n",
      "{'_id': 'movie:19', 'title': 'Terminator', 'year': 1984, 'genre': 'Science-fiction', 'summary': \"Deux creatures venues du futur debarquent sur terre. L'une d'entre elles, le Terminator, doit eliminer une certaine Sarah Connor, qui doit enfanter celui qui sera le chef d'un groupe de resistants. L'autre, Kyle Reese, est charge par les rebelles de defendre Sarah... \", 'country': 'USA', 'director': {'_id': 'artist:6'}, 'actors': [{'_id': 'artist:44', 'role': 'Terminator'}]}\n",
      "{'_id': 'movie:70', 'title': 'Taxi driver', 'year': 1976, 'genre': 'drama', 'summary': 'Vétéran de la Guerre du Vietnam, Travis Bickle est chauffeur de taxi dans la ville de New York. Ses rencontres nocturnes et la violence quotidienne dont il est témoin lui font peu à peu perdre la tête. Il se charge bientôt de délivrer une prostituée mineure de ses souteneurs.', 'country': 'USA', 'director': {'_id': 'artist:241'}, 'actors': [{'_id': 'artist:51', 'role': '1962'}, {'_id': 'artist:167', 'role': 'Travis Bickle '}]}\n",
      "{'_id': 'movie:62', 'title': 'Stalingrad', 'year': 2001, 'genre': 'drama', 'summary': None, 'country': 'USA', 'director': {'_id': 'artist:34'}, 'actors': [{'_id': 'artist:182', 'role': 'Vassili Zaïtzev'}, {'_id': 'artist:183', 'role': 'major König'}]}\n",
      "{'_id': 'movie:47', 'title': 'Spider-Man', 'year': 2002, 'genre': 'Action', 'summary': \"Orphelin, Peter Parker est élevé par sa tante May et son oncle Ben dans le quartier Queens de New York. Tout en poursuivant ses études à l'université, il trouve un emploi de photographe au journal Daily Bugle. Il partage son appartement avec Harry Osborn, son meilleur ami, et rêve de séduire la belle Mary Jane.Cependant, après avoir été mordu par une araignée génétiquement modifiée, Peter voit son agilité et sa force s'accroître et se découvre des pouvoirs surnaturels. Devenu Spider-Man, il décide d'utiliser ses nouvelles capacités au service du bien.Au même moment, le père de Harry, le richissime industriel Norman Osborn, est victime d'un accident chimique qui a démesurément augmenté ses facultés intellectuelles et sa force, mais l'a rendu fou. Il est devenu le Bouffon Vert, une créature démoniaque qui menace la ville. Entre lui et Spider-Man, une lutte sans merci s'engage.\", 'country': 'USA', 'director': {'_id': 'artist:187'}, 'actors': [{'_id': 'artist:124', 'role': 'Spider-Man'}, {'_id': 'artist:125', 'role': 'Norman Osborn'}, {'_id': 'artist:126', 'role': 'Mary Jane Watson'}, {'_id': 'artist:127', 'role': 'Oncle Ben'}, {'_id': 'artist:128', 'role': 'Tante May'}]}\n",
      "{'_id': 'movie:68', 'title': 'Soleil vert', 'year': 1973, 'genre': 'Science-fiction', 'summary': \"L'action du film se déroule en l'an 2022 à New York qui est devenue une mégapole de 44 millions d'habitants. Il règne en permanence une température élevée, soit plus de 30 °C. L'eau est rare. La faune et la flore ont quasiment disparu. La nourriture issue de l'agriculture également. La plupart des habitants n'ont pas les moyens d'acheter des aliments naturels, les prix étant exorbitants. Ils en sont réduits à manger des produits de synthèse, fournis par la multinationale « Soylent », des tablettes de forme carrée, jaunes, rouges ou bleues. Un nouvel aliment vient d'être lancé, le soylent green, beaucoup plus nutritif, cher et disponible uniquement le mardi : ce jour-là, des émeutes de citoyens affamés ne sont pas rares et sont sévèrement réprimées.Thorn, un policier « de premier ordre », vit avec son ami Sol Roth, un vieux juif lettré, dans un petit appartement délabré et surpeuplé. Sol peste contre l'état du monde et a la nostalgie du passé tandis que Thorn se contente des seules choses qu'il a connues, à savoir la nourriture synthétique et la canicule perpétuelle.Dans le même temps, William Simonson, un des dirigeants de la société agroalimentaire Soylent, est exécuté dans son appartement situé dans une tour sécurisée des beaux quartiers de Chelsea ; Thorn est chargé de l'enquête et va découvrir que cette affaire, rapidement étiquetée comme étant un crime crapuleux, se révèle être en fait un assassinat visant à empêcher Simonson de révéler un terrible secret. Thorn comprend que Tab Fielding, le garde du corps du dirigeant, est complice car il était, comme par hasard, absent au moment du meurtre et que le système de sécurité était en panne. Thorn ramène chez lui divers objets dont des aliments frais, de la viande et du bourbon, qu'il a dérobé chez la victime, et les partage avec Sol. Poursuivant son enquête, Thorn revient dans l'appartement, noue une relation avec la « compagne » de Simonson, ayant le statut de simple « meuble » et dont le prochain locataire disposera.Puis Thorn découvre que Tab Fielding est propriétaire d'un bel appartement et qu'il a les moyens d'acheter de la nourriture naturelle, telle que de la confiture aux fraises : les soupçons du policier se confirment donc et il refuse de clôturer l'enquête. Thorn se révélant trop curieux, Donovan, l'homme chargé de la sécurité et qui travaille pour Santini, le gouverneur, décide de le supprimer par l'intermédiaire de son tueur à gage, Gilbert, l'exécuteur de Simonson.Profitant d'une émeute due à l'épuisement des stocks de soylent green, Gilbert tente de tuer Thorn en lui tirant dessus mais échoue par deux fois, tant la foule est dense. Thorn finit par maîtriser Gilbert et l'envoie bouler sous une « dégageuse » (scoop), sorte de camion-benne tractopelle ramassant les émeutiers afin de canaliser l'émeute.Pendant ce temps, Sol se rend à l'Échange, bibliothèque où se réunissent des gens instruits, sorte de comité de sage consultatif pouvant émettre un avis auprès d'instances internationales. Sol leur montre les deux rapports d'activité de la société Soylent que Thorn avait découvert chez Simonson. Face aux conclusions du comité, horrifié et désemparé, Sol comprend pourquoi Simonson a été assassiné : il décide alors d'aller au Foyer, endroit où l'on se fait euthanasier. Thorn arrive trop tard pour l'en empêcher mais réussit à assister aux dernières minutes de son ami : sur un immense écran, Thorn voit défiler les images de ce qu'était la Terre autrefois, des paysages magnifiques, la vie sauvage, la beauté de la nature. Avant de mourir, Sol lui demande de trouver la preuve que la société Soylent n'est pas ce qu'elle prétend être.Thorn se glisse dans l'un des camions bennes emmenant les cadavres à l'extérieur de la ville vers un crematorium et découvre, en explorant les locaux de l'usine, que le soylent green est en réalité fabriqué à partir des cadavres euthanasiés : cet aliment est, selon le discours officiel, censé être fabriqué à partir de plancton. En réalité, même les océans sont devenus stériles et l'anthropophagie est désormais intégrée au système alimentaire humain.Pourchassé par les tueurs au service du gouverneur Santini, dont Tab Fielding, Thorn finit par être sévèrement blessé. Quand son supérieur arrive à sa rescousse, Thorn se met à hurler que le « soylent green est fabriqué avec des gens qui servent de bétails ». Il supplie son supérieur de tout révéler.\", 'country': 'USA', 'director': {'_id': 'artist:7'}, 'actors': [{'_id': 'artist:8', 'role': 'sol'}]}\n",
      "{'_id': 'movie:6', 'title': 'Sleepy Hollow', 'year': 1999, 'genre': 'Fantastique', 'summary': 'Nouvelle Angleterre, 1799. A Sleepy Hollow, plusieurs cadavres sont retrouvés décapités. La                                      rumeur attribue ces meurtres à un cavalier lui-même sans tête. Mais le fin limier                                      new-yorkais Ichabod Crane ne croit pas en ses aberrations. Tombé sous le charme de la                                      vénéneuse Katrina, il mène son enquête au coeur des sortilèges de Sleepy Hollow.. ', 'country': 'USA', 'director': {'_id': 'artist:13'}, 'actors': [{'_id': 'artist:14', 'role': 'Constable Ichabod Crane'}, {'_id': 'artist:96', 'role': 'Katrina Anne Van Tassel'}, {'_id': 'artist:97', 'role': 'Le cavalier'}]}\n",
      "{'_id': 'movie:74', 'title': 'Skyfall', 'year': 1012, 'genre': 'Action', 'summary': 'Lorsque la dernière mission de Bond tourne mal, plusieurs agents infiltrés se retrouvent exposés dans le monde entier. Le MI6 est attaqué, et M est obligée de relocaliser l’Agence. Ces événements ébranlent son autorité, et elle est remise en cause par Mallory, le nouveau président de l’ISC, le comité chargé du renseignement et de la sécurité. Le MI6 est à présent sous le coup d’une double menace, intérieure et extérieure. Il ne reste à M qu’un seul allié de confiance vers qui se tourner : Bond. Plus que jamais, 007 va devoir agir dans l’ombre. Avec l’aide d’Eve, un agent de terrain, il se lance sur la piste du mystérieux Silva, dont il doit identifier coûte que coûte l’objectif secret et mortel… ', 'country': 'USA', 'director': {'_id': 'artist:17'}, 'actors': [{'_id': 'artist:247', 'role': 'James Bond'}, {'_id': 'artist:249', 'role': 'M'}, {'_id': 'artist:250', 'role': 'Silva'}]}\n",
      "{'_id': 'movie:59', 'title': 'Sixième sens', 'year': 1999, 'genre': 'Fantastique', 'summary': \"Cole Sear, garconnet de huit ans est hanté par un terrible secret. Son imaginaire est visité par des esprits menacants. Trop jeune pour comprendre le pourquoi de ces apparitions et traumatisé par ces pouvoirs paranormaux, Cole s'enferme dans une peur maladive et ne veut reveler à personne la cause de son enfermement, à l'exception d'un psychologue pour enfants. La recherche d'une explication rationnelle guidera l'enfant et le thérapeute vers une vérité foudroyante et inexplicable.\", 'country': 'USA', 'director': {'_id': 'artist:170'}, 'actors': [{'_id': 'artist:27', 'role': 'Malcom Crowe'}, {'_id': 'artist:171', 'role': 'Cole Sear'}]}\n",
      "{'_id': 'movie:38', 'title': 'Shining', 'year': 1980, 'genre': 'Horreur', 'summary': \"Jack Torrance s'installe avec sa femme et son fils Danny dans un hôtel fermé à la morte saison afin d'écrire un roman. Il apprend que le gardien précédent a tué sa femme et ses deux filles avant de se suicider. Très vite, Jack va s'apercevoir que des choses étranges se passent autour de lui et que son fils a des pouvoirs extrasensoriels... \", 'country': 'FR', 'director': {'_id': 'artist:101'}, 'actors': [{'_id': 'artist:103', 'role': 'Jack Torrance'}]}\n",
      "{'_id': 'movie:14', 'title': 'Seven', 'year': 1995, 'genre': 'crime', 'summary': \"A New York, un criminel anonyme a décidé de commettre 7 meurtres basés sur les 7 pêchés capitaux énoncés dans la Bible : gourmandise, avarice, paresse, orgueil, luxure, envie et colère. Vieux flic blasé à 7 jours de la retraite, l'inspecteur Somerset mène l'enquête tout en formant son remplaçant, l'ambitieux inspecteur David Mills... \", 'country': 'USA', 'director': {'_id': 'artist:31'}, 'actors': [{'_id': 'artist:18', 'role': 'Doe'}, {'_id': 'artist:22', 'role': 'Somerset'}, {'_id': 'artist:32', 'role': 'Mills'}]}\n",
      "{'_id': 'movie:4', 'title': 'Sacrifice', 'year': 1986, 'genre': 'drama', 'summary': None, 'country': 'FR', 'director': {'_id': 'artist:9'}, 'actors': []}\n",
      "{'_id': 'movie:84', 'title': 'Rio Grande', 'year': 1950, 'genre': 'Western', 'summary': \"Colonel de la cavalerie américaine, Kirby York acceuille dans son régiment son propre fils, le jeune Jeff, recalé à West Point. Séparée de York depuis un épisode tragique de la Guerre de Sécession, Kathleen, la mère de Jeff, intervient auprès de son époux pour qu'il n'accepte pas le jeune homme dans sa garnison. La guerre contre les Indiens fait rage, et la mère craint pour la vie de son fils. Une terrible bataille contre les Apaches s'annonce... \", 'country': 'USA', 'director': {'_id': 'artist:263'}, 'actors': [{'_id': 'artist:264', 'role': 'Lt. Col. Kirby Yorke'}, {'_id': 'artist:265', 'role': 'Mrs. Kathleen Yorke'}]}\n",
      "{'_id': 'movie:36', 'title': 'Reservoir dogs', 'year': 1992, 'genre': 'crime', 'summary': \"Après un hold-up manqué, des cambrioleurs de haut vol font leurs comptes dans une confrontation violente, pour découvrir lequel d'entre eux les a trahis. Voleurs de profession, Joe Cabot et son fils Eddie engagent un groupe de six criminels pour le cambriolage d'un diamantaire. Malgré toutes les précautions prises, la police est sur place le jour J, et l'opération se solde par un massacre. Les survivants du gang se réunissent pour règler leurs comptes, chacun soupçonnant l'autre d'avoir trahi. \", 'country': 'USA', 'director': {'_id': 'artist:37'}, 'actors': [{'_id': 'artist:37', 'role': 'Mr. Brown'}, {'_id': 'artist:98', 'role': 'Mr. White/Larry'}, {'_id': 'artist:99', 'role': 'Freddy Newendyke/Mr. Orange'}, {'_id': 'artist:100', 'role': 'Nice Guy Eddie'}, {'_id': 'artist:215', 'role': 'Mr Blonde'}, {'_id': 'artist:217', 'role': 'Mr Pink'}, {'_id': 'artist:218', 'role': 'Mr Blue'}]}\n",
      "{'_id': 'movie:29', 'title': 'Rain Man', 'year': 1988, 'genre': 'drama', 'summary': \"A la mort de son père, Charlie se voit déposséder de son héritage par un frère dont il ignorait l'existence, Raymond. Celui-ci est autiste et vit dans un hôpital psychiatrique. Charlie enlève Raymond afin de prouver qu'il est capable de s'en occuper et de toucher l'héritage. \", 'country': 'USA', 'director': {'_id': 'artist:79'}, 'actors': [{'_id': 'artist:65', 'role': 'Charlie Babbitt'}, {'_id': 'artist:80', 'role': 'Raymond Babbitt'}]}\n",
      "{'_id': 'movie:17', 'title': 'Pulp fiction', 'year': 1994, 'genre': 'Action', 'summary': \"Pulp Fiction décrit l'odyssée sanglante et burlesque de petits malfrats dans la jungle de Hollywood, ou s'entrecroisent les destins de deux petits tueurs, d'un dangereux gangster marié à une camée, d'un boxeur roublard, de prêteurs sur gages sadiques, d'un caïd élégant et dévoué, d'un dealer bon mari et de deux tourtereaux à la gachette facile... \", 'country': 'USA', 'director': {'_id': 'artist:37'}, 'actors': [{'_id': 'artist:11', 'role': 'Vincent Vega'}, {'_id': 'artist:27', 'role': 'Butch Coolidge'}, {'_id': 'artist:37', 'role': 'Jimmy Dimmick'}, {'_id': 'artist:38', 'role': 'Jules Winnfield'}, {'_id': 'artist:39', 'role': 'Jody'}, {'_id': 'artist:40', 'role': 'Mia Wallace'}, {'_id': 'artist:97', 'role': 'Capt. Koons'}, {'_id': 'artist:98', 'role': 'Winston \"The Wolf\" Wolfe'}, {'_id': 'artist:99', 'role': 'Pumpkin (Ringo)'}]}\n",
      "{'_id': 'movie:33', 'title': 'Psychose', 'year': 1960, 'genre': 'Thriller', 'summary': 'Après avoir volé 40 000 dollars, Marion Crane se rend dans un motel tenu par Norman Bates. Elle est poignardée sous sa douche par une femme. Norman fait disparaitre le corps et les affaires de la jeune femme. Mais Sam, le fiancé de Marion, inquiet de ne pas avoir de nouvelles, engage un détective pour la retrouver... ', 'country': 'USA', 'director': {'_id': 'artist:3'}, 'actors': [{'_id': 'artist:88', 'role': 'Bates'}, {'_id': 'artist:89', 'role': 'Lila Crane'}, {'_id': 'artist:90', 'role': 'Marion Crane'}]}\n",
      "{'_id': 'movie:64', 'title': 'Pour quelques dollars de plus', 'year': 1965, 'genre': 'Western', 'summary': 'Le colonel Douglas Mortimer collabore avec un chasseur de primes surlast_namemé L\\'\"Etranger\". Tous les deux souhaitent capturer Indio, un tueur fou, qui sème la terreur autour de lui. Ce dernier et ses hommes sont sur le point de piller la banque d\\'El Paso.', 'country': 'IT', 'director': {'_id': 'artist:219'}, 'actors': []}\n",
      "{'_id': 'movie:11', 'title': 'Piège de cristal', 'year': 1988, 'genre': 'Action', 'summary': \"John Mc Clane, policier new-yorkais, vient passer Noel a Los Angeles aupres de sa femme. Dans le building ou elle travaille, il se retrouve temoin de la prise en otage de tout le personnel par 12 terroristes. Objectif de ces derniers, vider les coffres de la societe. Cache mais isole, il entreprend de prevenir l'exterieur...\", 'country': 'USA', 'director': {'_id': 'artist:26'}, 'actors': [{'_id': 'artist:27', 'role': 'McClane'}]}\n",
      "{'_id': 'movie:39', 'title': 'Pas de printemps pour Marnie', 'year': 1964, 'genre': 'Thriller', 'summary': \"Marnie est engagée comme secrétaire chez un editeur, Mark Rutland. Celui-ci amoureux d'elle, découvre qu'elle est kleptomane et l'oblige à l'épouser en la menaçant de la dénoncer. En s'apercevant que Marnie a la phobie de la cou leur rouge, Mark tente de remonter dans le passé de la jeune femme afin de comprendre les raisons de sa névrose. \", 'country': 'USA', 'director': {'_id': 'artist:3'}, 'actors': [{'_id': 'artist:35', 'role': '\\n                       Mark R'}, {'_id': 'artist:95', 'role': 'Marnie Edgar'}]}\n",
      "{'_id': 'movie:92', 'title': 'Nous trois ou rien', 'year': 2015, 'genre': 'drama', 'summary': 'D’un petit village du sud de l’Iran aux cités parisiennes, Kheiron nous raconte le destin hors du commun de ses parents Hibat et Fereshteh, éternels optimistes, dans une comédie aux airs de conte universel qui évoque l’amour familial, le don de soi et surtout l’idéal d’un vivre-ensemble. ', 'country': 'FR', 'director': {'_id': 'artist:281'}, 'actors': []}\n",
      "{'_id': 'movie:76', 'title': 'No country for old men', 'year': 2007, 'genre': 'crime', 'summary': \"A la frontière qui sépare le Texas du Mexique, les trafiquants de drogue ont depuis longtemps remplacé les voleurs de bétail. Lorsque Llewelyn Moss tombe sur une camionnette abandonnée, cernée de cadavres ensanglantés, il ne sait rien de ce qui a conduit à ce drame. Et quand il prend les deux millions de dollars qu'il découvre à l'intérieur du véhicule, il n'a pas la moindre idée de ce que cela va provoquer...Moss a déclenché une réaction en chaîne d'une violence inouïe que le shérif Bell, un homme vieillissant et sans illusions, ne parviendra pas à contenir... \", 'country': 'USA', 'director': {'_id': 'artist:251'}, 'actors': [{'_id': 'artist:250', 'role': 'Anton Chigurh'}, {'_id': 'artist:252', 'role': 'Ed Tom Bell'}, {'_id': 'artist:253', 'role': 'Llewelyn Moss'}]}\n",
      "{'_id': 'movie:45', 'title': 'Nikita', 'year': 1990, 'genre': 'Thriller', 'summary': \"Nikita, droguée et violente, est prise en mains par des psychiatres qui la rééduquent, la conditionnent, afin d'en faire une tueuse à la botte des Services Secrets. Plus tard, réalisant ce qu'elle est devenue, un pion sans vie privée que l'on manipule, elle tente d'échapper à ses commanditaires. \", 'country': 'FR', 'director': {'_id': 'artist:111'}, 'actors': [{'_id': 'artist:115', 'role': 'Bob'}, {'_id': 'artist:119', 'role': 'Nikita'}, {'_id': 'artist:120', 'role': 'Marco'}]}\n",
      "{'_id': 'movie:24', 'title': 'Mission: Impossible', 'year': 1996, 'genre': 'Action', 'summary': \"Chargé d'une nouvelle mission, l'agent du contre espionnage Ethan Hunt tombe avec son équipe dans un piège sanglant. Seul survivant avec Claire, la jeune épouse de son regretté chef Jim Phelps, Ethan se retrouve accusé de trahison. En fuite, il prépare sa contre-attaque, recrutant l'homme de main Krieger et le pirate informatique Luther... \", 'country': 'USA', 'director': {'_id': 'artist:64'}, 'actors': [{'_id': 'artist:60', 'role': 'Franz Krieger'}, {'_id': 'artist:65', 'role': 'Ethan Hunt'}, {'_id': 'artist:66', 'role': 'Jim Phelps'}, {'_id': 'artist:67', 'role': 'Claire Phelps'}]}\n",
      "{'_id': 'movie:63', 'title': 'Million Dollar Baby', 'year': 2005, 'genre': 'drama', 'summary': \"Une histoire d'amour tragique et platonique entre une boxeuse et un vieil entraîneur de trente ans son aîné.\", 'country': 'USA', 'director': {'_id': 'artist:20'}, 'actors': [{'_id': 'artist:20', 'role': 'Frankie Dunn'}, {'_id': 'artist:22', 'role': 'Eddie Scrap-Iron Dupris'}, {'_id': 'artist:224', 'role': 'Maggie Fitzerald'}]}\n",
      "{'_id': 'movie:87', 'title': 'Memento', 'year': 2000, 'genre': 'Thriller', 'summary': \"Leonard Shelby ne porte que des costumes de grands couturiers et ne se déplace qu'au volant de sa Jaguar. En revanche, il habite dans des motels miteux et règle ses notes avec d'épaisses liasses de billets.Leonard n'a qu'une idée en tête : traquer l'homme qui a violé et assassiné sa femme afin de se venger. Sa recherche du meurtrier est rendue plus difficile par le fait qu'il souffre d'une forme rare et incurable d'amnésie. Bien qu'il puisse se souvenir de détails de son passé, il est incapable de savoir ce qu'il a fait dans le quart d'heure précédent, où il se trouve, où il va et pourquoi.Pour ne jamais perdre son objectif de vue, il a structuré sa vie à l'aide de fiches, de notes, de photos, de tatouages sur le corps. C'est ce qui l'aide à garder contact avec sa mission, à retenir les informations et à garder une trace, une notion de l'espace et du temps. \", 'country': 'USA', 'director': {'_id': 'artist:266'}, 'actors': [{'_id': 'artist:272', 'role': 'Leonard'}, {'_id': 'artist:273', 'role': 'Natalie'}]}\n",
      "{'_id': 'movie:23', 'title': 'Matrix', 'year': 1999, 'genre': 'Science-fiction', 'summary': \"Dans un monde où tout ce qui semble réel est en fait élaboré par l'univers électronique baptisé la Matrice, Néo, un programmeur, est contacté par un certain Morpheus. D'après lui, Néo serait le Libérateur tant attendu, le seul capable de mettre en échec l'omnipotence de la Matrice et rendre ses droits à la réalité... \", 'country': 'USA', 'director': {'_id': 'artist:61'}, 'actors': [{'_id': 'artist:62', 'role': 'Neo'}, {'_id': 'artist:63', 'role': 'Morpheus'}]}\n",
      "{'_id': 'movie:18', 'title': 'Mary à tout prix', 'year': 1998, 'genre': 'Comédie', 'summary': \"Pour retrouver l'amour de sa jeunesse, la belle Mary, Ted-le-looser engage Pat Healy, un privé. Subjugé par la jeune femme, ce dernier tente de la séduire en se faisant passer pour un architecte. Il cache la vérité à Ted et fait cause commune avec Tucker, un autre prétendant, pour se débarrasser de l'encombrant Ted... \", 'country': 'USA', 'director': {'_id': 'artist:41'}, 'actors': [{'_id': 'artist:42', 'role': 'Mary Jensen Matthews'}, {'_id': 'artist:43', 'role': 'Pat Healy'}]}\n",
      "{'_id': 'movie:67', 'title': 'Marie Antoinette', 'year': 2006, 'genre': 'drama', 'summary': \"Based on Antonia Fraser's book about the ill-fated  Archduchess of Austria and later Queen of France,  'Marie Antoinette' tells the story of the most  misunderstood and abused woman in history, from  her birth in Imperial Austria to her later life in  France. \", 'country': 'USA', 'director': {'_id': 'artist:1'}, 'actors': [{'_id': 'artist:2', 'role': 'Marie Antoinette'}]}\n",
      "{'_id': 'movie:44', 'title': 'Léon', 'year': 1994, 'genre': 'Action', 'summary': '\"Léon est un tueur. Un de la pire espèce. Il est introuvable, indétectable, pire qu\\'un sous-marin. Son ombre est comme une menace de danger permanent sur New York. Indestructible Léon ? Oui, jusqu\\'à ce qu\\'une petite souris pénètre son univers. Une toute petite souris aux yeux immenses...\" ', 'country': 'FR', 'director': {'_id': 'artist:111'}, 'actors': [{'_id': 'artist:60', 'role': 'Léon'}, {'_id': 'artist:116', 'role': 'Norman Stansfield'}, {'_id': 'artist:118', 'role': 'Mathilda'}]}\n",
      "{'_id': 'movie:60', 'title': 'Lost in Translation', 'year': 2003, 'genre': 'romance', 'summary': \"Bob Harris, acteur sur le déclin, se rend à Tokyo pour touner un spot publicitaire. Il a conscience qu'il se trompe - il devrait être chez lui avec sa famille, jouer au théâtre ou encore chercher un rôle dans un film -, mais il a besoin d'argent.Du haut de son hôtel de luxe, il contemple la ville, mais ne voit rien. Il est ailleurs, détaché de tout, incapable de s'intégrer à la réalité qui l'entoure, incapable également de dormir à cause du décalage horaire.Dans ce même établissement, Charlotte, une jeune Américaine fraîchement diplômée, accompagne son mari, photographe de mode. Ce dernier semble s'intéresser davantage à son travail qu'à sa femme. Se sentant délaissée, Charlotte cherche un peu d'attention. Elle va en trouver auprès de Bob...\", 'country': 'USA', 'director': {'_id': 'artist:172'}, 'actors': [{'_id': 'artist:173', 'role': 'Bob Harris'}, {'_id': 'artist:174', 'role': 'Charlotte'}, {'_id': 'artist:175', 'role': 'John'}, {'_id': 'artist:176', 'role': 'Kelly'}, {'_id': 'artist:177', 'role': 'Patron Nightclub'}]}\n",
      "{'_id': 'movie:81', 'title': 'Les quatre cents coups', 'year': 1959, 'genre': 'drama', 'summary': \"Antoine a une adolescence turbulente. Il ment à ses parents indifférents à son sort, vole, fugue. Son seul réconfort, il fait les quatre cents coups avec son ami René. Un jour, la police s'en mêle. \", 'country': 'FR', 'director': {'_id': 'artist:259'}, 'actors': [{'_id': 'artist:260', 'role': 'Antoine Doinel'}]}\n",
      "{'_id': 'movie:26', 'title': 'Les pleins pouvoirs', 'year': 1997, 'genre': 'crime', 'summary': \"Luther Whitney est l'as des cambrioleurs. Occupé à vider le coffre de l'influent Walter Sullivan, il est témoin d'un meurtre sadique impliquant le Président des Etats-Unis et les services secrets. Soupçonné par la police d'en être l'auteur, il se retrouve également traqué par les tueurs, qui ont compris qu'ils ont été observés.\", 'country': 'USA', 'director': {'_id': 'artist:20'}, 'actors': [{'_id': 'artist:20', 'role': 'Luther Whitney'}, {'_id': 'artist:21', 'role': 'Le président Richmond'}, {'_id': 'artist:69', 'role': 'Seth Frank'}]}\n",
      "{'_id': 'movie:35', 'title': 'Les oiseaux', 'year': 1963, 'genre': 'Horreur', 'summary': \"Melanie Daniels se rend à Bodega Bay pour offrir deux perruches en cage à Cathy, la soeur de l'avocat Mitch Brenner. Attaquée par une mouette, Melanie reste chez les Brenner pour la nuit. Mais d'autres évènements étranges se produisent: des enfants sont blessés par des corbeaux et la maison de Mitch est envahie par des milliers d'oiseaux. \", 'country': 'USA', 'director': {'_id': 'artist:3'}, 'actors': [{'_id': 'artist:94', 'role': 'Mitch Brenner'}, {'_id': 'artist:95', 'role': 'Melanie Daniels'}]}\n",
      "{'_id': 'movie:20', 'title': 'Les dents de la mer', 'year': 1975, 'genre': 'Horreur', 'summary': \"Dans la station balnéaire d'Amityville, un requin géant frappe à plusieurs reprises. Soucieux d'une bonne saison touristique, le maire interdit au sherif Brody de fermer les plages. Une prime est offerte et le célèbre chasseur de requin Quint se lance avec Brody et l'ichtyologue Hooper à la poursuite du monstre... \", 'country': 'FR', 'director': {'_id': 'artist:45'}, 'actors': [{'_id': 'artist:46', 'role': 'Martin Brody'}, {'_id': 'artist:47', 'role': 'Quint'}, {'_id': 'artist:48', 'role': 'Matt Hooper'}]}\n",
      "{'_id': 'movie:31', 'title': 'Les bronzés font du ski', 'year': 1979, 'genre': 'Comédie', 'summary': 'Apres avoir passe des vacances d\\'ete ensemble, Bernard, Nathalie, Gigi, Jerome, Popeye, Jean-Claude et Christiane se retrouvent aux sports d\\'hiver. Tous ont leurs problemes de coeur ou d\\'argent, mais il faut bien vivre avec. Avant de se separer, se perdre dans la montagne leur permet de gouter aux joies de la \"vraie vie\" paysanne... ', 'country': 'FR', 'director': {'_id': 'artist:83'}, 'actors': [{'_id': 'artist:75', 'role': 'Nathalie Morin'}, {'_id': 'artist:76', 'role': 'Christiane'}, {'_id': 'artist:84', 'role': 'Jean-Claude Dus'}, {'_id': 'artist:85', 'role': 'Jérôme'}, {'_id': 'artist:86', 'role': 'Popeye'}]}\n",
      "{'_id': 'movie:71', 'title': 'Les affranchis', 'year': 1990, 'genre': 'crime', 'summary': \"Depuis sa plus tendre enfance, Henry Hill, né d'un père irlandais et d'une mère sicilienne, veut devenir gangster et appartenir à la Mafia. Adolescent dans les années cinquante, il commence par travailler pour le compte de Paul Cicero et voue une grande admiration pour Jimmy Conway, qui a fait du détournement de camions sa grande spécialité. Lucide et ambitieux, il contribue au casse des entrepôts de l'aéroport d'Idlewild et épouse Karen, une jeune Juive qu'il trompe régulièrement. Mais son implication dans le trafic de drogue le fera plonger...\", 'country': 'USA', 'director': {'_id': 'artist:241'}, 'actors': [{'_id': 'artist:167', 'role': 'James Conway'}, {'_id': 'artist:242', 'role': 'Henry Hill'}, {'_id': 'artist:243', 'role': 'Tommy DeVito'}, {'_id': 'artist:244', 'role': 'Karen Hill'}]}\n",
      "{'_id': 'movie:21', 'title': 'Le silence des agneaux', 'year': 1990, 'genre': 'crime', 'summary': \"Afin de retrouver la piste d'un tueur surlast_namemé Buffalo Bill car il scalpe les femmes qu'il assassine, la jeune stagiaire du FBI Clarice Starling est dépêchée auprès d'Hannibal Lecter, prisonnier pour avoir dévoré ses victimes. La coopération de ce dernier devrait permettre à Clarice de saisir et d'anticiper le comportement de Buffalo... \", 'country': 'USA', 'director': {'_id': 'artist:49'}, 'actors': [{'_id': 'artist:50', 'role': 'Dr. Hannibal Lecter'}, {'_id': 'artist:51', 'role': 'Clarice Starling'}]}\n",
      "{'_id': 'movie:34', 'title': 'Le retour du Jedi', 'year': 1983, 'genre': 'Science-fiction', 'summary': 'Luke Skywalker s\\'introduit chez Jabba pour delivrer Han Solo et la princesse Leia, tandis que l\\'Empire reconstruit une deuxieme \"Etoile de la Mort\". Luke se rend ensuite au chevet de Yoda qui est mourant. Il lui apprend que Leia est sa soeur. Luke forme un commando pour attaquer l\\'Etoile, tandis qu\\'il affronte son pere, Darth Vador... ', 'country': 'USA', 'director': {'_id': 'artist:91'}, 'actors': [{'_id': 'artist:24', 'role': 'Han Solo'}, {'_id': 'artist:92', 'role': 'Luke Skywalker'}, {'_id': 'artist:93', 'role': 'Princesse Leia'}]}\n",
      "{'_id': 'movie:56', 'title': 'Le parrain III', 'year': 1990, 'genre': 'drama', 'summary': \"Atteignant la soixantaine, Michael Corleone désire à la fois renouer avec les siens et se réhabiliter aux yeux de la société, surtout de l'Eglise. Il arrivera presque a ses fins, mais sa vie passée et ses anciens ennemis le rattraperont plus vite.Michael Corleone est fatigué. Il veut prendre ses distances avec les activités mafieuses de sa famille. Il veut convertir ces activités en affaires légales. Kay, son ex-femme, lui fait même accepter que leur fils devienne un chanteur d'opéra et ne reprenne pas les activités familiales.Pendant ce temps, la fille de Michael, Mary, et son neveu, le fils de Sonny, Vincent, nouent une idylle qui n'est pas la bienvenue dans la famille.Il décide d'aider le Vatican à renflouer ses caisses et reçoit en échange le contrôle d'une entreprise immobilière leur appartenant. Attisant la jalousie de ses pairs, Michael échappe de justesse à un attentat commis par l'un d'eux. Vincent se propose alors pour reprendre les affaires de la famille en main.\", 'country': 'USA', 'director': {'_id': 'artist:181'}, 'actors': [{'_id': 'artist:1', 'role': 'Mary Corleone'}, {'_id': 'artist:176', 'role': 'Michael Corleone'}, {'_id': 'artist:183', 'role': 'Kay Adams'}, {'_id': 'artist:186', 'role': 'Vincent Mancini'}]}\n",
      "{'_id': 'movie:55', 'title': 'Le parrain II', 'year': 1974, 'genre': 'drama', 'summary': 'A la mort de Vito Corleone, dit \"le Parrain\", c\\'est son fils, Michael, qui reprend les affaires familiales. Très vite, son ascension dans le milieu mafiosi est fulgurante.Depuis la mort De Don Vito Corleone, son fils, Michael, règne sur la famille. Amené à négocier avec la mafia juive, il perd alors le soutien d\\'un de ses lieutenants, Frankie Pentageli. Echappant de justesse à un attentat, Michael tente de retrouver le coupable, soupçonnant Hyman Roth, le chef de la mafia juive.Vito Corleone, immigrant italien, arrive à New York au début du siècle ; très vite, il devient un des caïds du quartier, utilisant la violence comme moyen de régler toutes les affaires. Seul au départ, il bâtit peu à peu un véritable empire, origine de la fortune de la famille des Corleone. ', 'country': 'USA', 'director': {'_id': 'artist:181'}, 'actors': [{'_id': 'artist:167', 'role': 'Don Vito Corleone'}, {'_id': 'artist:176', 'role': 'Michael Corleone'}, {'_id': 'artist:183', 'role': 'Kay Adams'}, {'_id': 'artist:184', 'role': 'Tom Hagen'}]}\n",
      "{'_id': 'movie:54', 'title': 'Le parrain', 'year': 1972, 'genre': 'drama', 'summary': 'En 1945, à New York, les Corleone sont une des cinq familles de la mafia. Don Vito Corleone, \" parrain \" de cette famille, marie sa fille à un bookmaker. Sollozzo, \" parrain \" de la famille Tattaglia, propose à Don Vito une association dans le trafic de drogue, mais celui-ci refuse. Sonny, un de ses fils, y est quant à lui favorable.Afin de traiter avec Sonny, Sollozzo tente de faire tuer Don Vito, mais celui-ci en réchappe. Michael, le frère cadet de Sonny, recherche alors les commanditaires de l\\'attentat et tue Sollozzo et le chef de la police, en représailles.Michael part alors en Sicile, où il épouse Apollonia, mais celle-ci est assassinée à sa place. De retour à New York, Michael épouse Kay Adams et se prépare à devenir le successeur de son père...', 'country': 'USA', 'director': {'_id': 'artist:181'}, 'actors': [{'_id': 'artist:137', 'role': 'Sonny Corleone'}, {'_id': 'artist:155', 'role': 'Capt. McCluskey'}, {'_id': 'artist:176', 'role': 'Michael Corleone'}, {'_id': 'artist:182', 'role': 'Do Vito Corleone'}, {'_id': 'artist:183', 'role': 'Kay Adams'}, {'_id': 'artist:184', 'role': 'Tom Hagen'}]}\n",
      "{'_id': 'movie:28', 'title': 'Le monde perdu', 'year': 1997, 'genre': 'Horreur', 'summary': None, 'country': 'USA', 'director': {'_id': 'artist:45'}, 'actors': [{'_id': 'artist:57', 'role': 'Dr. Ian Malcolm'}]}\n",
      "{'_id': 'movie:16', 'title': 'Le last_name de la rose', 'year': 1986, 'genre': 'crime', 'summary': \"En l'an 1327, dans une abbaye bénédictine, le moine franciscain Guillaume de Baskerville, accompagné de son jeune novice Adso, enquête sur de mystérieuses morts qui frappent la confrérie. Le secret semble résider dans la bibliothèque, où le vieux Jorge garde jalousement un livre jugé maudit. \", 'country': 'FR', 'director': {'_id': 'artist:34'}, 'actors': [{'_id': 'artist:35', 'role': 'Baskerville'}, {'_id': 'artist:36', 'role': 'de Melk'}]}\n",
      "{'_id': 'movie:46', 'title': 'Le grand bleu', 'year': 1988, 'genre': 'drama', 'summary': \"Jacques Mayol et Enzo Molinari se connaissent depuis l'enfance. Tous deux experts en apnée, s'affrontent continuellement pour obtenir le record du monde de plongée. Toujours en rivalité, les deux hommes descendent de plus en plus profond, au risque de leurs vies. Le film est ressorti en janvier 89 en version longue d'une durée de 2h40. \", 'country': 'FR', 'director': {'_id': 'artist:111'}, 'actors': [{'_id': 'artist:39', 'role': 'Johanna'}, {'_id': 'artist:60', 'role': 'Enzo Molinari'}, {'_id': 'artist:121', 'role': 'Jacques Mayol'}]}\n",
      "{'_id': 'movie:27', 'title': 'Le gendarme et les extra-terrestres', 'year': 1978, 'genre': 'Comédie', 'summary': 'En anglais: Gendarme and the Creatures from Outer Space !', 'country': 'FR', 'director': {'_id': 'artist:71'}, 'actors': [{'_id': 'artist:72', 'role': 'Inspecteur Cruchot'}, {'_id': 'artist:73', 'role': 'Adjudant Gerber'}]}\n",
      "{'_id': 'movie:82', 'title': 'Le dernier métro', 'year': 1980, 'genre': 'drama', 'summary': 'Paris, septembre 1942. Lucas Steiner, le directeur du théâtre Montmartre a dû fuir parce qu’il est juif. Sa femme Marion Steiner dirige le théâtre et engage Bernard Granger, transfuge du Grand Guignol, pour jouer à ses côtés dans « la Disparue », que met en scène Jean-Louis Cottins. Jusqu’au soir de la générale, la troupe subit les menaces du virulent critique de « Je suis partout », Daxiat, dont l’ambition est de diriger la Comédie-Française. Et si, par amour pour sa femme, Lucas Steiner avait fait semblant de fuir la France et était resté caché dans la cave de son théâtre pendant toute la guerre…. ', 'country': 'FR', 'director': {'_id': 'artist:259'}, 'actors': [{'_id': 'artist:130', 'role': 'Marion Steiner'}, {'_id': 'artist:261', 'role': 'Bernard Granger'}, {'_id': 'artist:262', 'role': 'Jean-Loup Cottins'}]}\n",
      "{'_id': 'movie:43', 'title': 'Le cinquième élément', 'year': 1997, 'genre': 'Science-fiction', 'summary': \"Au XXIIIème siècle, dans un univers étrange et coloré, où tout espoir de survie est impossible sans la découverte du Cinquième Elément, un héros peu ordinaire affronte le mal pour sauver l'humanité. \", 'country': 'FR', 'director': {'_id': 'artist:111'}, 'actors': [{'_id': 'artist:27', 'role': 'Major Korben Dalla'}, {'_id': 'artist:112', 'role': 'Leeloo'}, {'_id': 'artist:116', 'role': 'Jean-Baptiste Emmanuel Zorg'}, {'_id': 'artist:117', 'role': 'Vito Cornelius'}]}\n",
      "{'_id': 'movie:32', 'title': 'Le bon, la brute et le truand', 'year': 1966, 'genre': 'Western', 'summary': \"Pendant la Guerre de Sécession, trois hommes, préférant s'intéresser à leur profit personnel, se lancent à la recherche d'un coffre contenant 200 000 dollars en pièces d'or volés à l'armée sudiste. Tuco sait que le trésor se trouve dans un cimetière, tandis que Joe connaît le last_name inscrit sur la pierre tombale qui sert de cache. Chacun a besoin de l'autre. Mais un troisième homme entre dans la course : Setenza, une brute qui n'hésite pas à massacrer femmes et enfants pour parvenir à ses fins.\", 'country': 'IT', 'director': {'_id': 'artist:219'}, 'actors': [{'_id': 'artist:20', 'role': None}]}\n",
      "{'_id': 'movie:41', 'title': 'La mort aux trousses', 'year': 1959, 'genre': 'Suspense', 'summary': \"Roger Thornhill, publiciste, est pris dans le hall de son hôtel pour un certain Kaplan, un espion. Deux hommes tentent de le tuer et quand il retrouve l'un de ses agresseurs, celui-ci est assassiné devant ses yeux. Pris pour un meurtrier, il est obligé de fuir vers Chicago... \", 'country': 'USA', 'director': {'_id': 'artist:3'}, 'actors': [{'_id': 'artist:105', 'role': 'Roger O. Thornhill'}, {'_id': 'artist:106', 'role': 'Eve Kendall'}, {'_id': 'artist:107', 'role': 'Philipp Vandamm'}]}\n",
      "{'_id': 'movie:48', 'title': 'King of New York', 'year': 1990, 'genre': 'drama', 'summary': \"L'histoire d'un gangster au grand coeur mais aux méthodes définitives, surlast_namemé par le presse The King of New York et qui rêve de fonder un hôpital, confronté a des policiers opiniâtres qui ont juré de l'abattre...\", 'country': 'USA', 'director': {'_id': 'artist:122'}, 'actors': [{'_id': 'artist:63', 'role': 'Jimmy Jump'}, {'_id': 'artist:97', 'role': 'Frank White'}, {'_id': 'artist:124', 'role': 'Thomas Flanigan'}, {'_id': 'artist:131', 'role': 'Dennis Gilley'}, {'_id': 'artist:132', 'role': 'Thomas Flanigan'}, {'_id': 'artist:217', 'role': 'Test tube'}]}\n",
      "{'_id': 'movie:61', 'title': 'Kill Bill', 'year': 2003, 'genre': 'drama', 'summary': \"Au cours d'une cérémonie de mariage en plein désert, un commando fait irruption dans la chapelle et tire sur les convives. Laissée pour morte, la Mariée enceinte retrouve ses esprits après un coma de quatre ans.Celle qui a auparavant exercé les fonctions de tueuse à gages au sein du Détachement International des Vipères Assassines n'a alors plus qu'une seule idée en tête : venger la mort de ses proches en éliminant tous les membres de l'organisation criminelle, dont leur chef Bill qu'elle se réserve pour la fin.\", 'country': 'USA', 'director': {'_id': 'artist:37'}, 'actors': [{'_id': 'artist:40', 'role': 'La mariée, alias \"Black Mamba\"'}, {'_id': 'artist:213', 'role': 'O-Ren Ishii'}, {'_id': 'artist:214', 'role': 'Bill'}, {'_id': 'artist:215', 'role': 'Budd / Sidewinder'}, {'_id': 'artist:216', 'role': 'Elle Driver'}]}\n",
      "{'_id': 'movie:25', 'title': 'Kagemusha', 'year': 1980, 'genre': 'Guerre', 'summary': \"Au XVIe siecle, Takeda, grand seigneur trouble par les guerres civiles de son pays, fait appel a un Kagemusha pour l'aider dans ses batailles. Takeda est blesse et avant de mourir, il exige que sa mort soit tenue secrete pendant trois ans afin d'eviter un eclatement du clan. Le Kagemusha devra le remplacer... \", 'country': 'JP', 'director': {'_id': 'artist:68'}, 'actors': []}\n",
      "{'_id': 'movie:42', 'title': \"Jeanne d'Arc\", 'year': 1999, 'genre': 'Guerre', 'summary': None, 'country': 'FR', 'director': {'_id': 'artist:111'}, 'actors': [{'_id': 'artist:80', 'role': None}, {'_id': 'artist:112', 'role': \"Jeanne d'Arc\"}, {'_id': 'artist:113', 'role': \"Yolande d'Aragon\"}, {'_id': 'artist:114', 'role': 'Charles VII'}, {'_id': 'artist:115', 'role': 'Dunois'}]}\n",
      "{'_id': 'movie:57', 'title': 'Jackie Brown', 'year': 1997, 'genre': 'crime', 'summary': \"Jackie Brown, hôtesse de l'air, arrondit ses fins de mois en convoyant de l'argent liquide pour le compte d'un trafiquant d'armes, Ordell Robbie. Un jour, un agent federal et un policier de Los Angeles la cueillent à l'aéroport. Ils comptent sur elle pour faire tomber le trafiquant. Jackie échafaude alors un plan audacieux pour doubler tout le monde lors d'un prochain transfert qui porte sur la modeste somme de cinq cent mille dollars. Mais il lui faudra compter avec les complices d'Ordell, qui ont des méthodes plutôt expéditives.\", 'country': 'USA', 'director': {'_id': 'artist:37'}, 'actors': [{'_id': 'artist:167', 'role': 'Luis Gara'}, {'_id': 'artist:168', 'role': 'Jackie Brown'}, {'_id': 'artist:169', 'role': 'Melanie'}, {'_id': 'artist:170', 'role': 'Ray Nicolette'}, {'_id': 'artist:212', 'role': 'Ordell Robbie'}]}\n",
      "{'_id': 'movie:85', 'title': 'Interstellar', 'year': 2014, 'genre': 'Science-fiction', 'summary': 'Le film raconte les aventures d’un groupe d’explorateurs qui utilisent une faille récemment découverte dans l’espace-temps afin de repousser les limites humaines et partir à la conquête des distances astrolast_nameiques dans un voyage interstellaire.', 'country': 'USA', 'director': {'_id': 'artist:266'}, 'actors': [{'_id': 'artist:267', 'role': 'Cooper'}, {'_id': 'artist:268', 'role': '   Brand '}, {'_id': 'artist:269', 'role': 'Professor Brand'}]}\n",
      "{'_id': 'movie:79', 'title': 'Inglourious Basterds', 'year': 209, 'genre': 'Guerre', 'summary': 'Dans la France occupée de 1940, Shosanna Dreyfus assiste à l\\'exécution de sa famille tombée entre les mains du colonel nazi Hans Landa. Shosanna s\\'échappe de justesse et s\\'enfuit à Paris où elle se construit une nouvelle identité en devenant exploitante d\\'une salle de cinéma.Quelque part ailleurs en Europe, le lieutenant Aldo Raine forme un groupe de soldats juifs américains pour mener des actions punitives particulièrement sanglantes contre les nazis. \"Les bâtards\", last_name sous lequel leurs ennemis vont apprendre à les connaître, se joignent à l\\'actrice allemande et agent secret Bridget von Hammersmark pour tenter d\\'éliminer les hauts dignitaires du Troisième Reich. Leurs destins vont se jouer à l\\'entrée du cinéma où Shosanna est décidée à mettre à exécution une vengeance très personnelle... ', 'country': 'USA', 'director': {'_id': 'artist:37'}, 'actors': []}\n",
      "{'_id': 'movie:80', 'title': 'Inglourious Basterds', 'year': 2009, 'genre': 'Guerre', 'summary': 'Dans la France occupée de 1940, Shosanna Dreyfus assiste à l\\'exécution de sa famille tombée entre les mains du colonel nazi Hans Landa. Shosanna s\\'échappe de justesse et s\\'enfuit à Paris où elle se construit une nouvelle identité en devenant exploitante d\\'une salle de cinéma.Quelque part ailleurs en Europe, le lieutenant Aldo Raine forme un groupe de soldats juifs américains pour mener des actions punitives particulièrement sanglantes contre les nazis. \"Les bâtards\", last_name sous lequel leurs ennemis vont apprendre à les connaître, se joignent à l\\'actrice allemande et agent secret Bridget von Hammersmark pour tenter d\\'éliminer les hauts dignitaires du Troisième Reich. Leurs destins vont se jouer à l\\'entrée du cinéma où Shosanna est décidée à mettre à exécution une vengeance très personnelle... ', 'country': 'USA', 'director': {'_id': 'artist:37'}, 'actors': [{'_id': 'artist:32', 'role': 'Lt. Aldo Raine'}, {'_id': 'artist:256', 'role': 'Col. Hans Landa'}, {'_id': 'artist:257', 'role': 'Shoshana'}, {'_id': 'artist:258', 'role': 'Lt. Archie Hicox'}]}\n",
      "{'_id': 'movie:86', 'title': 'Inception', 'year': 2010, 'genre': 'Science-fiction', 'summary': 'Dom Cobb est un voleur expérimenté – le meilleur qui soit dans l’art périlleux de l’extraction : sa spécialité consiste à s’approprier les secrets les plus précieux d’un individu, enfouis au plus profond de son subconscient, pendant qu’il rêve et que son esprit est particulièrement vulnérable. Très recherché pour ses talents dans l’univers trouble de l’espionnage industriel, Cobb est aussi devenu un fugitif traqué dans le monde entier qui a perdu tout ce qui lui est cher. Mais une ultime mission pourrait lui permettre de retrouver sa vie d’avant – à condition qu’il puisse accomplir l’impossible : l’inception. Au lieu de subtiliser un rêve, Cobb et son équipe doivent faire l’inverse : implanter une idée dans l’esprit d’un individu. S’ils y parviennent, il pourrait s’agir du crime parfait. Et pourtant, aussi méthodiques et doués soient-ils, rien n’aurait pu préparer Cobb et ses partenaires à un ennemi redoutable qui semble avoir systématiquement un coup d’avance sur eux. Un ennemi dont seul Cobb aurait pu soupçonner l’existence. ', 'country': 'USA', 'director': {'_id': 'artist:266'}, 'actors': [{'_id': 'artist:110', 'role': 'Cobb'}, {'_id': 'artist:269', 'role': 'Miles'}, {'_id': 'artist:270', 'role': 'Ariadne'}, {'_id': 'artist:271', 'role': 'Mal'}]}\n",
      "{'_id': 'movie:8', 'title': 'Impitoyable', 'year': 1992, 'genre': 'Western', 'summary': \"Légendaire hors-la-loi, William Munny s'est reconverti depuis onze ans en paisible fermier. Il reprend néanmoins les armes pour traquer deux tueurs en compagnie de son vieil ami Ned Logan. Mais ce dernier est capturé, puis éxécute. L'honneur et l'amitié imposent dès lors à Munny de redevenir une dernière fois le héros qu'il fut jadis... \", 'country': 'USA', 'director': {'_id': 'artist:20'}, 'actors': [{'_id': 'artist:20', 'role': 'William Munny'}, {'_id': 'artist:21', 'role': 'Little Bill Dagget'}, {'_id': 'artist:22', 'role': 'Ned Logan'}]}\n",
      "{'_id': 'movie:69', 'title': 'Heat', 'year': 1995, 'genre': 'crime', 'summary': 'La bande de Neil McCauley à laquelle est venu se greffer Waingro, une nouvelle recrue, attaque un fourgon blindé pour s\\'emparer d\\'une somme importante en obligations. Cependant, ce dernier tue froidement l\\'un des convoyeurs et Chris Shiherlis se retrouve obligé de \"terminer le travail\". Neil tente d\\'éliminer Waingro, mais celui-ci parvient à s\\'échapper. Parallèlement, le lieutenant Vincent Hanna mène l\\'enquête...', 'country': 'USA', 'director': {'_id': 'artist:175'}, 'actors': [{'_id': 'artist:167', 'role': None}]}\n",
      "{'_id': 'movie:22', 'title': 'Godzilla', 'year': 1998, 'genre': 'Action', 'summary': \"Issu des radiations atomiques engendrées par les essais nucléaires en Polynésie, un monstre gigantesque, aussi haut qu'un building, se dirige vers New York, semant le chaos sur son passage. Pour tenter de stopper cette créature destructrice, l'armée s'associe à une équipe de scientifiques américains et à un énigmatique enquêteur français... \", 'country': 'USA', 'director': {'_id': 'artist:58'}, 'actors': [{'_id': 'artist:59', 'role': 'Dr. Nikos Tatopoulos'}, {'_id': 'artist:60', 'role': 'Philippe Roaché'}]}\n",
      "{'_id': 'movie:9', 'title': 'Gladiator', 'year': 2000, 'genre': 'drama', 'summary': \"Le général romain Maximus est le plus fidèle                    soutien de l'empereur Marc Aurèle, qu'il a                    conduit de victoire en victoire avec une                    bravoure et un dévouement exemplaires.                    Jaloux du prestige de Maximus, et plus                    encore de l'amour que lui voue l'empereur,                    le fils de Marc-Aurèle, Commode, s'arroge                    brutalement le pouvoir, puis ordonne                    l'arrestation du général et son exécution.                    Maximus échappe à ses assassins mais ne peut                    empêcher le massacre de sa famille. Capturé                    par un marchand d'esclaves, il devient                    gladiateur et prépare sa vengeance.\", 'country': 'USA', 'director': {'_id': 'artist:4'}, 'actors': [{'_id': 'artist:23', 'role': 'Maximus'}, {'_id': 'artist:147', 'role': 'Commode'}, {'_id': 'artist:148', 'role': 'Lucilla'}, {'_id': 'artist:149', 'role': 'Marc Aurele'}]}\n",
      "{'_id': 'movie:40', 'title': 'Fenêtre sur cour', 'year': 1954, 'genre': 'Suspense', 'summary': \"En repos forcé à cause d'une jambe plâtrée, le reporter L.B. Jefferies observe au téléobjectif les voisins de l'immeuble d'en face. C'est ainsi qu'il remarque le curieux manège d'un représentant de commerce, M. Thorwald, qu'il soupconne très vite d'avoir assassiné sa femme... \", 'country': 'USA', 'director': {'_id': 'artist:3'}, 'actors': []}\n",
      "{'_id': 'movie:77', 'title': 'Fargo', 'year': 1996, 'genre': 'crime', 'summary': \"En plein hiver, Jerry Lundegaard, un vendeur de voitures d'occasion à Minneapolis, a besoin d'un prêt de Wade Gustafson, son riche beau-père. Endetté jusqu'au cou, il fait appel à Carl Showalter et Gaear Grimsrud, deux malfrats, pour qu'ils enlèvent son épouse Jean. Il pourra ainsi partager avec les ravisseurs la rançon que Wade paiera pour la libération de sa fille. Mais les choses ne vont pas se dérouler comme prévu. \", 'country': 'USA', 'director': {'_id': 'artist:251'}, 'actors': [{'_id': 'artist:217', 'role': 'Carl Showalter'}, {'_id': 'artist:254', 'role': ' Jerry Lundegaard '}]}\n",
      "{'_id': 'movie:37', 'title': 'Eyes Wide Shut', 'year': 1999, 'genre': 'Thriller', 'summary': \"Un couple de bourgeois, cédant à la jalousie et à l'obsession sexuelle, entreprend un voyage psychologique à la recherche de son identité. Le mari, au bout de son périple nocturne, revenu de ses désirs, ne trouvera finalement auprès de son épouse qu'un compromis banal mais complice, les yeux ouverts à tout jamais sur un rêve impossible. \", 'country': 'USA', 'director': {'_id': 'artist:101'}, 'actors': [{'_id': 'artist:65', 'role': 'Docteur William \"Bill\" Harford'}, {'_id': 'artist:102', 'role': 'Alice Harford'}]}\n",
      "{'_id': 'movie:78', 'title': 'Django unchained', 'year': 2012, 'genre': 'Western', 'summary': 'Dans le sud des États-Unis, deux ans avant la guerre de Sécession, le Dr King Schultz, un chasseur de primes allemand, fait l’acquisition de Django, un esclave qui peut l’aider à traquer les frères Brittle, les meurtriers qu’il recherche. Schultz promet à Django de lui rendre sa liberté lorsqu’il aura capturé les Brittle – morts ou vifs.Alors que les deux hommes pistent les dangereux criminels, Django n’oublie pas que son seul but est de retrouver Broomhilda, sa femme, dont il fut séparé à cause du commerce des esclaves…Lorsque Django et Schultz arrivent dans l’immense plantation du puissant Calvin Candie, ils éveillent les soupçons de Stephen, un esclave qui sert Candie et a toute sa confiance. Le moindre de leurs mouvements est désormais épié par une dangereuse organisation de plus en plus proche… Si Django et Schultz veulent espérer s’enfuir avec Broomhilda, ils vont devoir choisir entre l’indépendance et la solidarité, entre le sacrifice et la survie…', 'country': 'USA', 'director': {'_id': 'artist:37'}, 'actors': [{'_id': 'artist:110', 'role': 'Calvin Candie'}, {'_id': 'artist:212', 'role': 'Stephen'}, {'_id': 'artist:255', 'role': 'Django'}, {'_id': 'artist:256', 'role': 'Dr. King Schultz'}]}\n",
      "{'_id': 'movie:51', 'title': 'De bruit et de fureur', 'year': 1988, 'genre': 'drama', 'summary': \"L'histoire de Bruno, enfant attardé des banlieues et des H.L.M., plongé dans la violence de son milieu, et dont la vie va se consumer comme une étoile filante.\", 'country': 'FR', 'director': {'_id': 'artist:138'}, 'actors': [{'_id': 'artist:139', 'role': 'Marcel'}, {'_id': 'artist:140', 'role': 'Enseignante'}, {'_id': 'artist:141', 'role': 'Bruno'}]}\n",
      "{'_id': 'movie:73', 'title': 'Casino Royale', 'year': 2006, 'genre': 'Action', 'summary': \"Pour sa première mission, James Bond affronte le tout-puissant banquier privé du terrorisme international, Le Chiffre. Pour achever de le ruiner et démanteler le plus grand réseau criminel qui soit, Bond doit le battre lors d'une partie de poker à haut risque au Casino Royale. La très belle Vesper, attachée au Trésor, l'accompagne afin de veiller à ce que l'agent 007 prenne soin de l'argent du gouvernement britannique qui lui sert de mise, mais rien ne va se passer comme prévu.Alors que Bond et Vesper s'efforcent d'échapper aux tentatives d'assassinat du Chiffre et de ses hommes, d'autres sentiments surgissent entre eux, ce qui ne fera que les rendre plus vulnérables... \", 'country': 'USA', 'director': {'_id': 'artist:246'}, 'actors': [{'_id': 'artist:247', 'role': 'James Bond'}, {'_id': 'artist:248', 'role': 'Vesper Lynd'}]}\n",
      "{'_id': 'movie:72', 'title': 'Casino', 'year': 1995, 'genre': 'crime', 'summary': 'En 1973, Sam Ace Rothstein est le grand manitou de la ville de toutes les folies, Las Vegas. Il achète et épouse une virtuose de l’arnaque, Ginger Mc Kenna, qui sombre bien vite dans l’alcool et la drogue. Mais un autre ennui guette Sam, son ami d’enfance Nicky Santoro, qui entreprend de mettre la ville en coupe réglée…', 'country': 'USA', 'director': {'_id': 'artist:241'}, 'actors': [{'_id': 'artist:167', 'role': \"Sam 'Ace' Rothstein\"}, {'_id': 'artist:243', 'role': '  Nicky Santoro '}, {'_id': 'artist:245', 'role': 'Ginger McKenna'}]}\n",
      "{'_id': 'movie:10', 'title': 'Blade Runner', 'year': 1982, 'genre': 'Action', 'summary': \"En 2019, lors de la décadence de Los Angeles, des êtres synthétiques, sans pensée, sans émotions, suffisent aux différents travaux d'entretien. Leur durée de vie n'excède pas 4 années. Un jour, ces ombres humaines se révoltent et on charge les tueurs, appelés Blade Runner, de les abattre... \", 'country': 'USA', 'director': {'_id': 'artist:4'}, 'actors': [{'_id': 'artist:24', 'role': 'Deckard'}, {'_id': 'artist:25', 'role': 'Batty'}]}\n",
      "{'_id': 'movie:88', 'title': 'Batman begins', 'year': 2005, 'genre': 'Thriller', 'summary': \"Comment un homme seul peut-il changer le monde ? Telle est la question qui hante Bruce Wayne depuis cette nuit tragique où ses parents furent abattus sous ses yeux, dans une ruelle de Gotham City. Torturé par un profond sentiment de colère et de culpabilité, le jeune héritier de cette richissime famille fuit Gotham pour un long et discret voyage à travers le monde. Le but de ses pérégrinations : sublimer sa soif de vengeance en trouvant de nouveaux moyens de lutter contre l'injustice.\", 'country': 'USA', 'director': {'_id': 'artist:266'}, 'actors': [{'_id': 'artist:22', 'role': 'Lucius Fox '}, {'_id': 'artist:116', 'role': ' Jim Gordon '}, {'_id': 'artist:269', 'role': 'Alfred'}, {'_id': 'artist:274', 'role': ' Bruce Wayne / Batman '}, {'_id': 'artist:275', 'role': 'Ducard'}]}\n",
      "{'_id': 'movie:53', 'title': 'Bad Lieutenant', 'year': 1992, 'genre': 'drama', 'summary': \"La descente aux enfers d'un flic pourri qui enquete sur le viol d'une jolie religieuse.\", 'country': 'USA', 'director': {'_id': 'artist:122'}, 'actors': [{'_id': 'artist:98', 'role': 'Le lieutenant'}]}\n",
      "{'_id': 'movie:7', 'title': 'American Beauty', 'year': 1999, 'genre': 'Comédie', 'summary': 'Lester Burnham, sa femme Carolyn et leur fille Jane mènent apparemment une vie des plus heureuses dans leur belle banlieue. Mais derrière cette respectable façade se tisse une étrange et grinçante tragi-comédie familiale où désirs inavoués, frustrations et violences refoulées conduiront inexorablement un homme vers la mort. ', 'country': 'USA', 'director': {'_id': 'artist:17'}, 'actors': [{'_id': 'artist:18', 'role': 'Lester Burnham'}, {'_id': 'artist:19', 'role': 'Carolyn Burnham'}]}\n",
      "{'_id': 'movie:2', 'title': 'Alien', 'year': 1979, 'genre': 'Science-fiction', 'summary': 'Près d\\'un vaisseau spatial échoué sur une lointaine planète, des Terriens en mission découvrent de bien étranges \"oeufs\". Ils en ramènent un à bord, ignorant qu\\'ils viennent d\\'introduire parmi eux un huitième passager particulièrement féroce et meurtrier. ', 'country': 'USA', 'director': {'_id': 'artist:4'}, 'actors': [{'_id': 'artist:5', 'role': 'Ripley'}]}\n",
      "{'_id': 'movie:12', 'title': '58 minutes pour vivre', 'year': 1990, 'genre': 'Action', 'summary': \" Venu attendre sa femme a l'aéroport, le policier John McClane remarque la présence de terroristes qui ont pris le contrôle des pistes, empêchant tout avion d'atterrir et menaçant de laisser les appareils en vol tourner jusqu'à épuisement de leur kérosène. John n'a devant lui que 58 minutes pour éviter la catastrophe... \", 'country': 'USA', 'director': {'_id': 'artist:28'}, 'actors': [{'_id': 'artist:27', 'role': 'McClane'}]}\n"
     ]
    }
   ],
   "source": [
    "#Ordre decroissant\n",
    "mydoc = colmovies.find().sort(\"title\", -1)\n",
    "\n",
    "for x in mydoc:\n",
    "  print(x)"
   ]
  },
  {
   "cell_type": "code",
   "execution_count": 3,
   "metadata": {},
   "outputs": [
    {
     "name": "stdout",
     "output_type": "stream",
     "text": [
      "{'title': 'Alien', 'genre': 'Science-fiction', 'summary': 'Près d\\'un vaisseau spatial échoué sur une lointaine planète, des Terriens en mission découvrent de bien étranges \"oeufs\". Ils en ramènent un à bord, ignorant qu\\'ils viennent d\\'introduire parmi eux un huitième passager particulièrement féroce et meurtrier. '}\n"
     ]
    }
   ],
   "source": [
    "print(colmovies.find_one({\"_id\":\"movie:2\"},{\"_id\":0,\"year\":0 ,\"director\":0,\"country\":0,\"actors\":0}))"
   ]
  },
  {
   "cell_type": "code",
   "execution_count": 5,
   "metadata": {},
   "outputs": [
    {
     "name": "stdout",
     "output_type": "stream",
     "text": [
      "{'title': 'Les bronzés font du ski', 'year': 1979, 'actors': [{'_id': 'artist:75', 'role': 'Nathalie Morin'}, {'_id': 'artist:76', 'role': 'Christiane'}, {'_id': 'artist:84', 'role': 'Jean-Claude Dus'}, {'_id': 'artist:85', 'role': 'Jérôme'}, {'_id': 'artist:86', 'role': 'Popeye'}]}\n",
      "{'title': 'Alien', 'year': 1979, 'actors': [{'_id': 'artist:5', 'role': 'Ripley'}]}\n"
     ]
    }
   ],
   "source": [
    "mydoc = colmovies.find({\"year\":1979},{\"_id\":0,\"director\":0,\"genre\":\"Science-fiction\",\"summary\":0,\"country\":0}).sort(\"title\", -1)\n",
    " \n",
    "for x in mydoc:\n",
    "  print(x)"
   ]
  },
  {
   "cell_type": "code",
   "execution_count": 6,
   "metadata": {},
   "outputs": [
    {
     "name": "stdout",
     "output_type": "stream",
     "text": [
      "{'year': 1979, 'genre': 'Science-fiction'}\n"
     ]
    }
   ],
   "source": [
    "print(colmovies.find_one({\"year\":1979},{\"_id\":0,\"director\":0,\"summary\":0,\"country\":0,\"title\":0,\"actors\":0}))"
   ]
  },
  {
   "cell_type": "code",
   "execution_count": 9,
   "metadata": {},
   "outputs": [
    {
     "name": "stdout",
     "output_type": "stream",
     "text": [
      "{'title': 'Alien'}\n"
     ]
    }
   ],
   "source": [
    "# correction de la commande\n",
    "print(colmovies.find_one({\"title\":\"Alien\"},{\"_id\":0,\"director\":0,\"summary\":0,\"country\":0,\"year\":0,\"genre\":0,\"actors\":0}))"
   ]
  },
  {
   "cell_type": "code",
   "execution_count": 13,
   "metadata": {},
   "outputs": [
    {
     "name": "stdout",
     "output_type": "stream",
     "text": [
      "3\n",
      "{'_id': 'movie:9', 'title': 'Gladiator', 'year': 2000, 'director': {'_id': 'artist:4'}, 'actors': [{'_id': 'artist:23', 'role': 'Maximus'}, {'_id': 'artist:147', 'role': 'Commode'}, {'_id': 'artist:148', 'role': 'Lucilla'}, {'_id': 'artist:149', 'role': 'Marc Aurele'}]}\n",
      "{'_id': 'movie:10', 'title': 'Blade Runner', 'year': 1982, 'director': {'_id': 'artist:4'}, 'actors': [{'_id': 'artist:24', 'role': 'Deckard'}, {'_id': 'artist:25', 'role': 'Batty'}]}\n",
      "{'_id': 'movie:2', 'title': 'Alien', 'year': 1979, 'director': {'_id': 'artist:4'}, 'actors': [{'_id': 'artist:5', 'role': 'Ripley'}]}\n"
     ]
    },
    {
     "name": "stderr",
     "output_type": "stream",
     "text": [
      "<ipython-input-13-4a6e1873c1a7>:1: DeprecationWarning: count is deprecated. Use Collection.count_documents instead.\n",
      "  print(colmovies.find({\"director\":{\"_id\": \"artist:4\"}}).count())\n"
     ]
    }
   ],
   "source": [
    "#film produit par director\n",
    "print(colmovies.find({\"director\":{\"_id\": \"artist:4\"}}).count())\n",
    "mydoc = colmovies.find({\"director\":{\"_id\":\"artist:4\"}},{\"genre\":0,\"summary\":0,\"country\":0}).sort(\"title\", -1)\n",
    " \n",
    "for x in mydoc:\n",
    "  print(x)"
   ]
  },
  {
   "cell_type": "code",
   "execution_count": null,
   "metadata": {},
   "outputs": [],
   "source": [
    "mydoc = colmovies.find_one({\"director\":{\"_id\":\"artist:4\"}},{\"genre\":0,\"summary\":0,\"country\":0}).sort(\"title\", -1)\n",
    " \n",
    "for x in mydoc:\n",
    "  print(x)"
   ]
  },
  {
   "cell_type": "code",
   "execution_count": 36,
   "metadata": {},
   "outputs": [
    {
     "name": "stdout",
     "output_type": "stream",
     "text": [
      "{'title': 'Gladiator', 'year': 2000, 'director': {'_id': 'artist:4'}, 'actors': [{'_id': 'artist:23', 'role': 'Maximus'}, {'_id': 'artist:147', 'role': 'Commode'}, {'_id': 'artist:148', 'role': 'Lucilla'}, {'_id': 'artist:149', 'role': 'Marc Aurele'}]}\n"
     ]
    }
   ],
   "source": [
    "# Q : Combien de films produits par le director qui porte l'id 4 et dont l'un des acteurs a joué le rôle de Maximus et les afficher sans le résumé ni le country ni le genre ?\n",
    "print(colmovies.find_one({\"director\":{\"_id\": \"artist:4\"},\"actors\":{\"_id\": \"artist:23\",\"role\": \"Maximus\"}},{\"_id\":0,\"summary\":0,\"country\":0,\"genre\":0}))"
   ]
  },
  {
   "cell_type": "code",
   "execution_count": 24,
   "metadata": {},
   "outputs": [
    {
     "name": "stdout",
     "output_type": "stream",
     "text": [
      "{'title': 'Gladiator', 'year': 2000, 'director': {'_id': 'artist:4'}, 'actors': [{'_id': 'artist:23', 'role': 'Maximus'}, {'_id': 'artist:147', 'role': 'Commode'}, {'_id': 'artist:148', 'role': 'Lucilla'}, {'_id': 'artist:149', 'role': 'Marc Aurele'}]}\n"
     ]
    }
   ],
   "source": [
    "z = {\"director\":{\"_id\": \"artist:4\"},\"actors\":{\"_id\": \"artist:23\",\"role\": \"Maximus\"}}\n",
    "y = {\"_id\":0,\"summary\":0,\"country\":0,\"genre\":0}\n",
    "x = colmovies.find_one(z,y)\n",
    "print (x)"
   ]
  },
  {
   "cell_type": "code",
   "execution_count": 35,
   "metadata": {},
   "outputs": [
    {
     "name": "stdout",
     "output_type": "stream",
     "text": [
      "{'title': 'Gladiator', 'year': 2000}\n",
      "{'title': 'Memento', 'year': 2000}\n",
      "{'title': 'Stalingrad', 'year': 2001}\n",
      "{'title': 'Spider-Man', 'year': 2002}\n",
      "{'title': 'The Matrix reloaded', 'year': 2003}\n",
      "{'title': 'The Matrix Revolutions', 'year': 2003}\n",
      "{'title': 'Lost in Translation', 'year': 2003}\n",
      "{'title': 'Kill Bill', 'year': 2003}\n"
     ]
    }
   ],
   "source": [
    "# Q : Ts les films produits après 2000 compris et avant 2005 exlus (dans un ordre chronologique) en se limitant au titre du film et son année de production ?\n",
    "\n",
    "mydoc = colmovies.find({\"year\":{\"$gte\": 2000, \"$lt\": 2005}},{\"_id\":0,\"director\":0,\"genre\":0,\"summary\":0,\"country\":0,\"actors\":0}).sort(\"year\", 1)\n",
    "for x in mydoc:\n",
    " print(x)"
   ]
  },
  {
   "cell_type": "code",
   "execution_count": 29,
   "metadata": {},
   "outputs": [
    {
     "ename": "SyntaxError",
     "evalue": "invalid syntax (<ipython-input-29-77bea1de1bb4>, line 1)",
     "output_type": "error",
     "traceback": [
      "\u001b[1;36m  File \u001b[1;32m\"<ipython-input-29-77bea1de1bb4>\"\u001b[1;36m, line \u001b[1;32m1\u001b[0m\n\u001b[1;33m    print(colmovies.find_one({$or : [{\"year\": 1997}, {\"actors._id\": \"artist:147\"}] }))\u001b[0m\n\u001b[1;37m                              ^\u001b[0m\n\u001b[1;31mSyntaxError\u001b[0m\u001b[1;31m:\u001b[0m invalid syntax\n"
     ]
    }
   ],
   "source": [
    "print(colmovies.find_one({$or : [{\"year\": 1997}, {\"actors._id\": \"artist:147\"}] }))"
   ]
  },
  {
   "cell_type": "code",
   "execution_count": 33,
   "metadata": {},
   "outputs": [],
   "source": [
    "mydoc = colmovies.find({\"actors\": {\"_id\": \"artist:11\", \"role\": \"Sean Archer/Castor Troy\"}},{\"_id\":0,\"director\":0,\"genre\":0,\"summary\":0,\"country\":0}).sort(\"title\", -1)\n",
    " \n",
    "for x in mydoc:\n",
    "  print(x)"
   ]
  },
  {
   "cell_type": "code",
   "execution_count": null,
   "metadata": {},
   "outputs": [],
   "source": [
    "#Combien de films dans lesquels ont joué au moins un des artistes suivants : 34, 98 et 1 et afficher leur titre et la liste des actors ; sens du tri : chronologique et alphabétique croissant sur les noms des artistes \n",
    "#db.colmovies.find({\"actors._id\":{$in:[\"artist:34\",\"artist:98\",\"artist:1\"]}})\n",
    "#{ \"_id\" : \"movie:17\", \"title\" : \"Pulp fiction\", \"year\" : 1994, \"genre\" : \"Action\", \"summary\" : \"Pulp Fiction décrit l'odyssée sanglante et burlesque de petits malfrats dans la jungle de Hollywood, ou s'entrecroisent les destins de deux petits tueurs, d'un dangereux gangster marié à une camée, d'un boxeur roublard, de prêteurs sur gages sadiques, d'un caïd élégant et dévoué, d'un dealer bon mari et de deux tourtereaux à la gachette facile... \", \"country\" : \"USA\", \"director\" : { \"_id\" : \"artist:37\" }, \"actors\" : [ { \"_id\" : \"artist:11\", \"role\" : \"Vincent Vega\" }, { \"_id\" : \"artist:27\", \"role\" : \"Butch Coolidge\" }, { \"_id\" : \"artist:37\", \"role\" : \"Jimmy Dimmick\" }, { \"_id\" : \"artist:38\", \"role\" : \"Jules Winnfield\" }, { \"_id\" : \"artist:39\", \"role\" : \"Jody\" }, { \"_id\" : \"artist:40\", \"role\" : \"Mia Wallace\" }, { \"_id\" : \"artist:97\", \"role\" : \"Capt. Koons\" }, { \"_id\" : \"artist:98\", \"role\" : \"Winston \\\"The Wolf\\\" Wolfe\" }, { \"_id\" : \"artist:99\", \"role\" : \"Pumpkin (Ringo)\" } ] }\n",
    "#{ \"_id\" : \"movie:36\", \"title\" : \"Reservoir dogs\", \"year\" : 1992, \"genre\" : \"crime\", \"summary\" : "
   ]
  },
  {
   "cell_type": "code",
   "execution_count": null,
   "metadata": {},
   "outputs": [],
   "source": [
    "#  Chercher les films dans lesquels ont joué ensemble les actors 23 et 147 ?\n",
    "db.colmovies.find({\"actors._id\":{$all:[\"artist:147\",\"artist:23\"]}})\n",
    "{\"_id\" : \"movie:9\", \"title\" : \"Gladiator\", \"year\" : 2000, \"genre\" : \"drama\", \"summary\" :"
   ]
  },
  {
   "cell_type": "code",
   "execution_count": 19,
   "metadata": {},
   "outputs": [
    {
     "name": "stdout",
     "output_type": "stream",
     "text": [
      "{'_id': 'movie:56',\n",
      " 'actors': [{'_id': 'artist:1', 'role': 'Mary Corleone'},\n",
      "            {'_id': 'artist:176', 'role': 'Michael Corleone'},\n",
      "            {'_id': 'artist:183', 'role': 'Kay Adams'},\n",
      "            {'_id': 'artist:186', 'role': 'Vincent Mancini'}],\n",
      " 'title': 'Le parrain III',\n",
      " 'year': 1990}\n",
      "{'_id': 'movie:36',\n",
      " 'actors': [{'_id': 'artist:37', 'role': 'Mr. Brown'},\n",
      "            {'_id': 'artist:98', 'role': 'Mr. White/Larry'},\n",
      "            {'_id': 'artist:99', 'role': 'Freddy Newendyke/Mr. Orange'},\n",
      "            {'_id': 'artist:100', 'role': 'Nice Guy Eddie'},\n",
      "            {'_id': 'artist:215', 'role': 'Mr Blonde'},\n",
      "            {'_id': 'artist:217', 'role': 'Mr Pink'},\n",
      "            {'_id': 'artist:218', 'role': 'Mr Blue'}],\n",
      " 'title': 'Reservoir dogs',\n",
      " 'year': 1992}\n",
      "{'_id': 'movie:53',\n",
      " 'actors': [{'_id': 'artist:98', 'role': 'Le lieutenant'}],\n",
      " 'title': 'Bad Lieutenant',\n",
      " 'year': 1992}\n",
      "{'_id': 'movie:17',\n",
      " 'actors': [{'_id': 'artist:11', 'role': 'Vincent Vega'},\n",
      "            {'_id': 'artist:27', 'role': 'Butch Coolidge'},\n",
      "            {'_id': 'artist:37', 'role': 'Jimmy Dimmick'},\n",
      "            {'_id': 'artist:38', 'role': 'Jules Winnfield'},\n",
      "            {'_id': 'artist:39', 'role': 'Jody'},\n",
      "            {'_id': 'artist:40', 'role': 'Mia Wallace'},\n",
      "            {'_id': 'artist:97', 'role': 'Capt. Koons'},\n",
      "            {'_id': 'artist:98', 'role': 'Winston \"The Wolf\" Wolfe'},\n",
      "            {'_id': 'artist:99', 'role': 'Pumpkin (Ringo)'}],\n",
      " 'title': 'Pulp fiction',\n",
      " 'year': 1994}\n"
     ]
    }
   ],
   "source": [
    "from pprint import pprint\n",
    "critere = {\"actors._id\":{\"$in\":[\"artist:34\",\"artist:98\", \"artist:1\"]}}\n",
    "projection={\"title\":1, \"year\":1, \"actors\":1}\n",
    "#tri={\"year\":1, \"title\":1}\n",
    "result = colmovies.find(critere, projection).sort([(\"year\",1) ,(\"actors._id\", -1)])\n",
    "for doc in result:\n",
    "    pprint(doc)\n",
    "#.sort([(\"field1\", pymongo.ASCENDING), (\"field2\", pymongo.DESCENDING)])"
   ]
  },
  {
   "cell_type": "code",
   "execution_count": 3,
   "metadata": {},
   "outputs": [
    {
     "data": {
      "text/plain": [
       "{'_id': 'movie:91',\n",
       " 'title': 'Un prophète',\n",
       " 'year': 2009,\n",
       " 'genre': 'drama',\n",
       " 'summary': 'Condamné à six ans de prison, Malik El Djebena ne sait ni lire, ni écrire. A son arrivée en Centrale, seul au monde, il paraît plus jeune, plus fragile que les autres détenus. Il a 19 ans. D\\'emblée, il tombe sous la coupe d\\'un groupe de prisonniers corses qui fait régner sa loi dans la prison. Le jeune homme apprend vite. Au fil des \" missions \", il s\\'endurcit et gagne la confiance des Corses.Mais, très vite, Malik utilise toute son intelligence pour développer discrètement son propre réseau...',\n",
       " 'country': 'FR',\n",
       " 'director': {'_id': 'artist:278'},\n",
       " 'actors': [{'_id': 'artist:279', 'role': 'Malik El Djebena '},\n",
       "  {'_id': 'artist:280', 'role': 'César Luciani'}]}"
      ]
     },
     "execution_count": 3,
     "metadata": {},
     "output_type": "execute_result"
    }
   ],
   "source": [
    "colmovies.find_one()"
   ]
  },
  {
   "cell_type": "code",
   "execution_count": null,
   "metadata": {},
   "outputs": [],
   "source": []
  }
 ],
 "metadata": {
  "kernelspec": {
   "display_name": "Python 3",
   "language": "python",
   "name": "python3"
  },
  "language_info": {
   "codemirror_mode": {
    "name": "ipython",
    "version": 3
   },
   "file_extension": ".py",
   "mimetype": "text/x-python",
   "name": "python",
   "nbconvert_exporter": "python",
   "pygments_lexer": "ipython3",
   "version": "3.8.5"
  }
 },
 "nbformat": 4,
 "nbformat_minor": 4
}
